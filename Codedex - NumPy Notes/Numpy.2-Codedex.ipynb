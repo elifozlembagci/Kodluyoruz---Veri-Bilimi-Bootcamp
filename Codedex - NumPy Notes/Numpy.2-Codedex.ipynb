{
 "cells": [
  {
   "cell_type": "markdown",
   "id": "09d7c014-d04a-402a-b525-161b958e8657",
   "metadata": {},
   "source": [
    "# Numpy Version.2 - Codedex"
   ]
  },
  {
   "cell_type": "markdown",
   "id": "3e1b62b8-5b13-41c3-bc25-0cfbe7679a27",
   "metadata": {},
   "source": [
    "## Tallest Building – NumPy'da İşlemler"
   ]
  },
  {
   "cell_type": "code",
   "execution_count": 6,
   "id": "2063cdd3-93a3-432c-a7e3-dd014d3980e6",
   "metadata": {},
   "outputs": [],
   "source": [
    "import numpy as np"
   ]
  },
  {
   "cell_type": "markdown",
   "id": "c6b49407-7583-4b39-aaf3-356c2dede924",
   "metadata": {},
   "source": [
    "### 🔧 NumPy Operatörleri Nedir?\n",
    "NumPy dizileri üzerinde toplama, çıkarma, çarpma, bölme gibi işlemler doğrudan ve tüm elemanlara uygulanabilir.\n",
    "\n",
    "- 🔁 For loop’a gerek yok! NumPy bu işlemleri vektörel olarak yapar = hızlı ve temiz!\n",
    "### Temel Aritmetik Operatörler:"
   ]
  },
  {
   "cell_type": "markdown",
   "id": "019b94ba-107e-4754-85e2-c981045f6192",
   "metadata": {},
   "source": [
    "| Operatör | Açıklama             |\n",
    "| -------- | -------------------- |\n",
    "| `+`      | Toplama              |\n",
    "| `-`      | Çıkarma              |\n",
    "| `*`      | Çarpma               |\n",
    "| `/`      | Bölme                |\n",
    "| `%`      | Modulo (kalan bulma) |\n",
    "\n",
    "#### 🍱 İndirimli Sipariş Örneği"
   ]
  },
  {
   "cell_type": "code",
   "execution_count": 7,
   "id": "7287c962-eda6-49e6-9f7a-90c3c4ae3453",
   "metadata": {},
   "outputs": [
    {
     "name": "stdout",
     "output_type": "stream",
     "text": [
      "İndirimli fiyatlar: [10.392  7.992  3.992 10.392]\n"
     ]
    }
   ],
   "source": [
    "# Yemek sipariş fiyatları\n",
    "order = np.array([12.99, 9.99, 4.99, 12.99])\n",
    "\n",
    "# %20 indirim uygulanıyor (0.8 ile çarpılır)\n",
    "discounted_order = order * 0.8\n",
    "\n",
    "print(\"İndirimli fiyatlar:\", discounted_order)"
   ]
  },
  {
   "cell_type": "markdown",
   "id": "a501c609-600c-48a5-b905-f13c53f9d786",
   "metadata": {},
   "source": [
    "🧠 NumPy tüm elemanlara aynı işlemi otomatik olarak uygular.\n",
    "#### 📊 Diğer İşlemleri Test Edelim"
   ]
  },
  {
   "cell_type": "code",
   "execution_count": 9,
   "id": "ba7407be-ab36-43e1-9ca9-69c5789abfcd",
   "metadata": {},
   "outputs": [
    {
     "name": "stdout",
     "output_type": "stream",
     "text": [
      "Toplam +2: [14.99 11.99  6.99 14.99]\n",
      "Fiyatlardan 1 TL çıkar: [11.99  8.99  3.99 11.99]\n",
      "Fiyatların 3 katı: [38.97 29.97 14.97 38.97]\n",
      "Fiyatları 2'ye böl: [6.495 4.995 2.495 6.495]\n",
      "Fiyatların 1'e bölümünden kalan: [0.99 0.99 0.99 0.99]\n"
     ]
    }
   ],
   "source": [
    "#Toplama\n",
    "print(\"Toplam +2:\", order + 2)\n",
    "\n",
    "# Çıkarma\n",
    "print(\"Fiyatlardan 1 TL çıkar:\", order - 1)\n",
    "\n",
    "# Çarpma\n",
    "print(\"Fiyatların 3 katı:\", order * 3)\n",
    "\n",
    "# Bölme\n",
    "print(\"Fiyatları 2'ye böl:\", order / 2)\n",
    "\n",
    "# Modulo\n",
    "print(\"Fiyatların 1'e bölümünden kalan:\", order % 1)\n"
   ]
  },
  {
   "cell_type": "markdown",
   "id": "15b7cec1-bac0-4869-b8ed-415e8b528b99",
   "metadata": {},
   "source": [
    "### 🎯 Kıyaslama: NumPy vs. Python List"
   ]
  },
  {
   "cell_type": "code",
   "execution_count": 10,
   "id": "bd8f4b36-2ca9-442d-9ac1-e8dced012a9f",
   "metadata": {},
   "outputs": [
    {
     "name": "stdout",
     "output_type": "stream",
     "text": [
      "Listeyle yapılan indirim: [10.392000000000001, 7.992000000000001, 3.9920000000000004, 10.392000000000001]\n"
     ]
    }
   ],
   "source": [
    "# Aynı şeyi Python listesi ile yapmak gerekseydi:\n",
    "order_list = [12.99, 9.99, 4.99, 12.99]\n",
    "discounted = []\n",
    "\n",
    "for item in order_list:\n",
    "    discounted.append(item * 0.8)\n",
    "\n",
    "print(\"Listeyle yapılan indirim:\", discounted)\n"
   ]
  },
  {
   "cell_type": "markdown",
   "id": "094cacfa-772e-4a4e-ab45-9c4ef78cbadd",
   "metadata": {},
   "source": [
    "🐢 Gördüğün gibi: Python listesi ile işlem yapmak daha uzun ve yavaştır.\n",
    "\n",
    "🚀 NumPy bu işlemleri tek satırda ve süper hızlı yapar!"
   ]
  },
  {
   "cell_type": "markdown",
   "id": "4f917a3c-09b7-4631-b4ea-d4a595cdafff",
   "metadata": {},
   "source": [
    "### 🌇 Tallest Buildings – Feet'ten Metreye Dönüştürme\n",
    "\n",
    "- Dünyanın en yüksek binalarının yükseklikleri feet cinsinden verilmiş:"
   ]
  },
  {
   "cell_type": "code",
   "execution_count": 11,
   "id": "ce43a582-61cf-4ea3-bde2-8dd15a8e936a",
   "metadata": {},
   "outputs": [],
   "source": [
    "# En yüksek binaların yükseklikleri (feet)\n",
    "tallest_buildings = np.array([2717, 2227, 2073, 1972, 1966, 1819, 1776])"
   ]
  },
  {
   "cell_type": "markdown",
   "id": "b5f22e3f-15e8-467d-be88-9ebe72dcd5d0",
   "metadata": {},
   "source": [
    "#### 📏 Feet → Metre Dönüşüm Formülü\n",
    "metre = feet * 0.3048"
   ]
  },
  {
   "cell_type": "code",
   "execution_count": 13,
   "id": "5ef3e786-4cb4-4613-a1c1-bb2da2429fc4",
   "metadata": {},
   "outputs": [
    {
     "name": "stdout",
     "output_type": "stream",
     "text": [
      "Binaların yükseklikleri (metre):\n",
      "[828.14 678.79 631.85 601.07 599.24 554.43 541.32]\n"
     ]
    }
   ],
   "source": [
    "# Feet'ten metreye dönüştür\n",
    "tallest_buildings_m = tallest_buildings * 0.3048\n",
    "\n",
    "print(\"Binaların yükseklikleri (metre):\")\n",
    "print(np.round(tallest_buildings_m, 2))  # 2 ondalık basamakla yazdır\n"
   ]
  },
  {
   "cell_type": "code",
   "execution_count": 14,
   "id": "7b6cc23e-d190-45c8-8c69-141c2782762e",
   "metadata": {},
   "outputs": [
    {
     "name": "stdout",
     "output_type": "stream",
     "text": [
      "En yüksek bina (m): 828.1416\n",
      "Ortalama yükseklik (m): 633.55\n"
     ]
    }
   ],
   "source": [
    "print(\"En yüksek bina (m):\", np.max(tallest_buildings_m))\n",
    "print(\"Ortalama yükseklik (m):\", round(np.mean(tallest_buildings_m), 2))"
   ]
  },
  {
   "cell_type": "markdown",
   "id": "bad1a52e-02b0-44cb-b811-8e1c15236912",
   "metadata": {},
   "source": [
    "## NumPy Fonksiyonlarıyla Tanış!\n",
    "\n",
    "### 🧠 NumPy’da Sık Kullanılan Matematiksel Fonksiyonlar\n",
    "\n",
    "| Fonksiyon           | Görevi                          |\n",
    "| ------------------- | ------------------------------- |\n",
    "| `np.min(array)`     | Dizideki en küçük değeri döner  |\n",
    "| `np.max(array)`     | Dizideki en büyük değeri döner  |\n",
    "| `np.sum(array)`     | Tüm elemanların toplamını verir |\n",
    "| `np.average(array)` | Dizinin ortalamasını verir      |\n",
    "\n",
    "### 🌡️ Sıcaklık Verisi Örneği"
   ]
  },
  {
   "cell_type": "code",
   "execution_count": 16,
   "id": "2f2f1175-a54b-4c6c-80c5-a2ed71e40729",
   "metadata": {},
   "outputs": [
    {
     "name": "stdout",
     "output_type": "stream",
     "text": [
      "Minimum sıcaklık: 38\n",
      "Maksimum sıcaklık: 59\n",
      "Toplam sıcaklık: 776\n",
      "Ortalama sıcaklık: 48.5\n"
     ]
    }
   ],
   "source": [
    "# 2 gün boyunca saatlik sıcaklık değerleri\n",
    "temperatures = np.array([\n",
    "    [50, 51, 54, 59, 59, 53, 54, 51],  # gün 1\n",
    "    [45, 50, 38, 44, 40, 46, 43, 39]   # gün 2\n",
    "])\n",
    "\n",
    "print(\"Minimum sıcaklık:\", np.min(temperatures))       # 38\n",
    "print(\"Maksimum sıcaklık:\", np.max(temperatures))      # 59\n",
    "print(\"Toplam sıcaklık:\", np.sum(temperatures))        # 776\n",
    "print(\"Ortalama sıcaklık:\", np.average(temperatures))  # 48.5"
   ]
  },
  {
   "cell_type": "code",
   "execution_count": 15,
   "id": "f318a9ea-32ad-4031-b611-02fcf869f002",
   "metadata": {},
   "outputs": [
    {
     "data": {
      "text/html": [
       "<img src=\"https://i.imgur.com/ZELGG77.png\"/>"
      ],
      "text/plain": [
       "<IPython.core.display.Image object>"
      ]
     },
     "execution_count": 15,
     "metadata": {},
     "output_type": "execute_result"
    }
   ],
   "source": [
    "from IPython.display import Image\n",
    "\n",
    "Image(url='https://i.imgur.com/ZELGG77.png')"
   ]
  },
  {
   "cell_type": "markdown",
   "id": "ec67fd7f-e9a1-44c7-b581-a45a73790f3e",
   "metadata": {},
   "source": [
    "### 🧭 axis Parametresi Nedir?\n",
    "Bu fonksiyonlar varsayılan olarak tüm array üzerinde çalışır.\n",
    "Ama biz istersek axis parametresi ile satır veya sütun bazlı analiz yapabiliriz:\n",
    "\n",
    "axis=0 → sütunlar arasında (↓)\n",
    "\n",
    "axis=1 → satırlar arasında (→)\n",
    "\n",
    "#### 🔁 Axis Örneği\n"
   ]
  },
  {
   "cell_type": "code",
   "execution_count": 17,
   "id": "b315469d-cf79-4ea1-aa50-60276606320f",
   "metadata": {},
   "outputs": [
    {
     "name": "stdout",
     "output_type": "stream",
     "text": [
      "Sütun bazında toplam: [ 95 101  92 103  99  99  97  90]\n",
      "Gün bazında minimumlar: [50 38]\n"
     ]
    }
   ],
   "source": [
    "# Her saatin toplamı (sütun bazında)\n",
    "print(\"Sütun bazında toplam:\", np.sum(temperatures, axis=0))\n",
    "\n",
    "# Her günün minimum değeri (satır bazında)\n",
    "print(\"Gün bazında minimumlar:\", np.min(temperatures, axis=1))"
   ]
  },
  {
   "cell_type": "markdown",
   "id": "6688da9d-6c23-40cc-95a2-efc3308dd1bc",
   "metadata": {},
   "source": [
    "#### 🏃‍♀️ Şimdi Senin Sıra: Walking Steps!\n",
    "Kendi adım verini örnek alalım:\n",
    "\n"
   ]
  },
  {
   "cell_type": "code",
   "execution_count": 20,
   "id": "06a86758-2a8d-45f9-b862-cf70df3af677",
   "metadata": {},
   "outputs": [
    {
     "name": "stdout",
     "output_type": "stream",
     "text": [
      "Günlük toplamlar: [3500 3200 3600 4000 4200 4100 4100]\n",
      "Sabah ortalaması: 1542.86\n",
      "Akşam en çok adım: 2600\n"
     ]
    }
   ],
   "source": [
    "# Bir hafta boyunca sabah ve akşam atılan adım sayıları\n",
    "steps = np.array([\n",
    "    [1200, 2300],  # Pazartesi\n",
    "    [1400, 1800],  # Salı\n",
    "    [1100, 2500],  # Çarşamba\n",
    "    [1900, 2100],  # Perşembe\n",
    "    [2000, 2200],  # Cuma\n",
    "    [1500, 2600],  # Cumartesi\n",
    "    [1700, 2400]   # Pazar\n",
    "])\n",
    "\n",
    "# Günlük toplam adımlar\n",
    "print(\"Günlük toplamlar:\", np.sum(steps, axis=1))\n",
    "\n",
    "# Sabah adımlarının ortalaması\n",
    "print(\"Sabah ortalaması:\", round(np.average(steps[:, 0]),2))\n",
    "\n",
    "# Akşam adımlarının maksimumu\n",
    "print(\"Akşam en çok adım:\", np.max(steps[:, 1]))\n"
   ]
  },
  {
   "cell_type": "markdown",
   "id": "c2fb1661-7b56-41e5-9f8a-38f7da086e4c",
   "metadata": {},
   "source": [
    "### 🚶‍♀️ Kendi Haftalık Adım Verinle NumPy Fonksiyonları\n",
    "\n",
    "#### 📱 Telefonundan aldığın verileri gir:"
   ]
  },
  {
   "cell_type": "code",
   "execution_count": 21,
   "id": "76f76533-c78c-4cd3-8327-03b12dd12a0e",
   "metadata": {},
   "outputs": [],
   "source": [
    "# Haftalık adım verin (Pzt → Paz)\n",
    "# Not: Burayı kendi verinle güncelle!\n",
    "my_steps = np.array([4500, 7300, 6200, 8100, 7900, 10000, 6700])\n"
   ]
  },
  {
   "cell_type": "code",
   "execution_count": 22,
   "id": "96ec5705-b471-4060-81ea-539fd1517258",
   "metadata": {},
   "outputs": [
    {
     "name": "stdout",
     "output_type": "stream",
     "text": [
      "Minimum adım sayısı: 4500\n",
      "Maksimum adım sayısı: 10000\n",
      "Toplam adım sayısı: 50700\n",
      "Ortalama günlük adım: 7242.86\n"
     ]
    }
   ],
   "source": [
    "print(\"Minimum adım sayısı:\", np.min(my_steps))        # En az yürüdüğün gün\n",
    "print(\"Maksimum adım sayısı:\", np.max(my_steps))       # En çok yürüdüğün gün\n",
    "print(\"Toplam adım sayısı:\", np.sum(my_steps))         # Haftalık toplam\n",
    "print(\"Ortalama günlük adım:\", round(np.average(my_steps), 2))  # Günlük ortalama"
   ]
  },
  {
   "cell_type": "code",
   "execution_count": 23,
   "id": "b1c1dd2a-e780-4973-a178-235f5dae21a1",
   "metadata": {},
   "outputs": [
    {
     "name": "stdout",
     "output_type": "stream",
     "text": [
      "10.000+ adım atılan gün sayısı: 1\n"
     ]
    }
   ],
   "source": [
    "# 10.000 adımı geçen gün sayısı\n",
    "days_above_10k = np.sum(my_steps >= 10000)\n",
    "print(\"10.000+ adım atılan gün sayısı:\", days_above_10k)"
   ]
  },
  {
   "cell_type": "markdown",
   "id": "9860b815-5608-4bbc-b01c-28c83cc983f6",
   "metadata": {},
   "source": [
    "## .shape ve .reshape() ile NumPy'in Formunu Keşfet\n",
    "\n",
    "### 🧠 .shape Nedir?\n",
    ".shape, NumPy dizisinin boyutlarını (dimensions) verir.\n",
    "Bu çıktı bir tuple (demet) şeklindedir: (satır, sütun)\n",
    "\n",
    "#### 📌 Örnek 1 – 2 satır, 4 sütun\n"
   ]
  },
  {
   "cell_type": "code",
   "execution_count": 25,
   "id": "137197bf-451a-4ff4-a5ab-1b504b3c81bf",
   "metadata": {},
   "outputs": [
    {
     "name": "stdout",
     "output_type": "stream",
     "text": [
      "arr1 şekli: (2, 4)\n"
     ]
    }
   ],
   "source": [
    "arr1 = np.array([\n",
    "    [1, 2, 3, 4],\n",
    "    [5, 6, 7, 8]\n",
    "])\n",
    "\n",
    "print(\"arr1 şekli:\", arr1.shape)  # Çıktı: (2, 4)\n"
   ]
  },
  {
   "cell_type": "markdown",
   "id": "79aa6f32-09b6-48ec-9c50-79755f418f3d",
   "metadata": {},
   "source": [
    "#### 📌 Örnek 2 – 4 satır, 3 sütun"
   ]
  },
  {
   "cell_type": "code",
   "execution_count": 26,
   "id": "2c67fe32-c1b7-42ac-ab0e-5a99bba1e16e",
   "metadata": {},
   "outputs": [
    {
     "name": "stdout",
     "output_type": "stream",
     "text": [
      "arr2 şekli: (4, 3)\n"
     ]
    }
   ],
   "source": [
    "arr2 = np.array([\n",
    "    [1, 2, 3],\n",
    "    [4, 5, 6],\n",
    "    [7, 8, 9],\n",
    "    [10, 11, 12]\n",
    "])\n",
    "\n",
    "print(\"arr2 şekli:\", arr2.shape)  # Çıktı: (4, 3)"
   ]
  },
  {
   "cell_type": "markdown",
   "id": "55c3a885-b5b9-4b60-8563-d21b6a17b4e1",
   "metadata": {},
   "source": [
    "### 🔧 .reshape() ile Şekli Değiştirmek\n",
    "\n",
    "Eğer bir diziyi farklı boyutlara sokmak istersen, .reshape() fonksiyonunu kullanabilirsin.\n",
    "\n",
    "#### 🔁 Örnek: 1D → 2D dönüştürme"
   ]
  },
  {
   "cell_type": "code",
   "execution_count": 27,
   "id": "10af595a-8ded-4b70-89d2-8e97fb892640",
   "metadata": {},
   "outputs": [
    {
     "name": "stdout",
     "output_type": "stream",
     "text": [
      "Yeniden şekillendirilmiş array:\n",
      " [[1 2 3 4]\n",
      " [5 6 7 8]]\n",
      "Yeni şekli: (2, 4)\n"
     ]
    }
   ],
   "source": [
    "# 1 boyutlu array\n",
    "arr3 = np.array([1, 2, 3, 4, 5, 6, 7, 8])\n",
    "\n",
    "# 2 satır, 4 sütunlu hale getir\n",
    "reshaped = arr3.reshape(2, 4)\n",
    "\n",
    "print(\"Yeniden şekillendirilmiş array:\\n\", reshaped)\n",
    "print(\"Yeni şekli:\", reshaped.shape)  # (2, 4)\n"
   ]
  },
  {
   "cell_type": "markdown",
   "id": "913e2773-78dd-4bcb-addc-51f82027e945",
   "metadata": {},
   "source": [
    "**📌 Önemli Not: Eleman sayısı tutmalı!**\n",
    "\n",
    "arr3 → 8 eleman içeriyor → reshape(2, 4) olur ama reshape(3, 3) ❌ çalışmaz (çünkü 9 ≠ 8)\n"
   ]
  },
  {
   "cell_type": "markdown",
   "id": "0fcf3e96-c519-46bb-a04e-64574ab5702a",
   "metadata": {},
   "source": [
    "### 🧪 Mini Deneme Alanı\n",
    "Aşağıdaki hücreye kendi reshape() denemelerini yazabilirsin:"
   ]
  },
  {
   "cell_type": "code",
   "execution_count": 29,
   "id": "cd0337bc-b6a9-4a0b-9ab1-a677e6fbaa73",
   "metadata": {},
   "outputs": [
    {
     "name": "stdout",
     "output_type": "stream",
     "text": [
      "[[10 20]\n",
      " [30 40]\n",
      " [50 60]]\n",
      "Şekli: (3, 2)\n"
     ]
    }
   ],
   "source": [
    "# Kendi reshape denemen\n",
    "my_array = np.array([10, 20, 30, 40, 50, 60])\n",
    "reshaped_array = my_array.reshape(3, 2)\n",
    "\n",
    "print(reshaped_array)\n",
    "print(\"Şekli:\", reshaped_array.shape)"
   ]
  },
  {
   "cell_type": "markdown",
   "id": "00ba0670-227b-45ef-b84f-9147d5788409",
   "metadata": {},
   "source": [
    "### 📅 30NitesOfCode – Aylık Kodlama Takibi\n",
    "\n",
    "#### 🧠 Soru 1: Bu array’in .shape değeri nedir?"
   ]
  },
  {
   "cell_type": "code",
   "execution_count": 30,
   "id": "65c3e752-d99f-449a-b12b-3b2ded1f7f81",
   "metadata": {},
   "outputs": [
    {
     "name": "stdout",
     "output_type": "stream",
     "text": [
      "month_results dizisinin şekli: (28,)\n"
     ]
    }
   ],
   "source": [
    "# Öğrencinin 28 günlük kodlama süresi (dakika cinsinden)\n",
    "month_results = np.array([\n",
    "    56, 100, 33, 0, 45, 45, 46,\n",
    "    34, 89, 180, 60, 45, 45, 44,\n",
    "    46, 45, 0, 0, 15, 90, 301, 197,\n",
    "    20, 60, 45, 45, 42, 45\n",
    "])\n",
    "\n",
    "# Dizinin şeklini kontrol edelim\n",
    "print(\"month_results dizisinin şekli:\", month_results.shape)\n"
   ]
  },
  {
   "cell_type": "markdown",
   "id": "380b5899-896b-488e-b79e-fc6b26388134",
   "metadata": {},
   "source": [
    "#### 🔄 Soru 2: Veriyi haftalara bölmek (.reshape)"
   ]
  },
  {
   "cell_type": "code",
   "execution_count": 31,
   "id": "d7fa9bde-d43f-46cc-bc45-375830b761ba",
   "metadata": {},
   "outputs": [
    {
     "name": "stdout",
     "output_type": "stream",
     "text": [
      "week_results dizisinin yeni şekli: (4, 7)\n",
      "\n",
      "Haftalık veri:\n",
      " [[ 56 100  33   0  45  45  46]\n",
      " [ 34  89 180  60  45  45  44]\n",
      " [ 46  45   0   0  15  90 301]\n",
      " [197  20  60  45  45  42  45]]\n"
     ]
    }
   ],
   "source": [
    "# Veriyi haftalara bölelim: 4 hafta × 7 gün\n",
    "week_results = month_results.reshape(4, 7)\n",
    "\n",
    "print(\"week_results dizisinin yeni şekli:\", week_results.shape)\n",
    "print(\"\\nHaftalık veri:\\n\", week_results)"
   ]
  },
  {
   "cell_type": "markdown",
   "id": "dd21ecfa-848b-422f-9602-5155be791d5c",
   "metadata": {},
   "source": [
    "#### ✨ Ekstra: Haftalık toplam kodlama süresi\n",
    "\n"
   ]
  },
  {
   "cell_type": "code",
   "execution_count": 33,
   "id": "a70491a0-cd4c-4f9f-9e14-9695ad68881e",
   "metadata": {},
   "outputs": [
    {
     "name": "stdout",
     "output_type": "stream",
     "text": [
      "Haftalık toplam kodlama süreleri: [325 497 497 454]\n"
     ]
    }
   ],
   "source": [
    "# Her haftanın toplam kodlama süresi\n",
    "weekly_totals = np.sum(week_results, axis=1)\n",
    "\n",
    "print(\"Haftalık toplam kodlama süreleri:\", weekly_totals)"
   ]
  },
  {
   "cell_type": "markdown",
   "id": "a9fb81f3-2f08-44b0-add8-9363842dd9d9",
   "metadata": {},
   "source": [
    "#### 📈 Bonus: En çok kodlanan gün"
   ]
  },
  {
   "cell_type": "code",
   "execution_count": 34,
   "id": "2121352a-5433-4d7d-aa3e-e2638aecf792",
   "metadata": {},
   "outputs": [
    {
     "name": "stdout",
     "output_type": "stream",
     "text": [
      "En çok kodlanan gün (dk): 301\n"
     ]
    }
   ],
   "source": [
    "# En çok kodlanan gün kaç dakikaydı?\n",
    "max_day = np.max(month_results)\n",
    "print(\"En çok kodlanan gün (dk):\", max_day)"
   ]
  },
  {
   "cell_type": "markdown",
   "id": "766a47b4-496d-4cbd-b7e2-414e9ffdc37d",
   "metadata": {},
   "source": [
    "## .arange() ile Dizi Oluşturma\n",
    "\n",
    "### 🧭 .arange() Nedir?\n",
    "np.arange() = “array range” anlamına gelir.\n",
    "Bu fonksiyon, belirli bir başlangıç ve bitiş aralığında, düzenli aralıklarla sayı dizisi üretir.\n",
    "\n",
    "#### 🔹 En Basit Kullanım"
   ]
  },
  {
   "cell_type": "code",
   "execution_count": 35,
   "id": "b0ce7e2e-b344-4ecf-abc6-a57c2c5acefd",
   "metadata": {},
   "outputs": [
    {
     "name": "stdout",
     "output_type": "stream",
     "text": [
      "[0 1 2 3 4]\n"
     ]
    }
   ],
   "source": [
    "arr = np.arange(5)\n",
    "print(arr)\n"
   ]
  },
  {
   "cell_type": "markdown",
   "id": "f5542f3b-ebdb-400a-9625-7f3d0e627191",
   "metadata": {},
   "source": [
    "### 🔧 Üç Parametreli Kullanım"
   ]
  },
  {
   "cell_type": "code",
   "execution_count": 36,
   "id": "a7275157-c974-41ee-96d5-ca9739a27cfa",
   "metadata": {},
   "outputs": [
    {
     "name": "stdout",
     "output_type": "stream",
     "text": [
      "[1 4 7]\n"
     ]
    }
   ],
   "source": [
    "arr = np.arange(start=1, stop=10, step=3)\n",
    "print(arr)"
   ]
  },
  {
   "cell_type": "markdown",
   "id": "f87a53f8-ff9c-4cb3-a5e9-1d0bc856929c",
   "metadata": {},
   "source": [
    "### 🌠 Halley Kuyruklu Yıldızı Örneği\n",
    "Halley’s Comet, yaklaşık her 76 yılda bir görünür.\n",
    "\n",
    "1600 yılından itibaren 2100 yılına kadar hangi yıllarda göründüğünü görelim:\n",
    "\n"
   ]
  },
  {
   "cell_type": "code",
   "execution_count": 38,
   "id": "9a829a56-35e0-4962-8ef1-a25cb4ae3502",
   "metadata": {},
   "outputs": [
    {
     "name": "stdout",
     "output_type": "stream",
     "text": [
      "Halley’s Comet göründüğü yıllar: [1600 1676 1752 1828 1904 1980 2056]\n"
     ]
    }
   ],
   "source": [
    "halley_years = np.arange(start=1600, stop=2100, step=76)\n",
    "print(\"Halley’s Comet göründüğü yıllar:\", halley_years)"
   ]
  },
  {
   "cell_type": "markdown",
   "id": "4e4ec02e-920c-4195-8a41-8d6fc8ff76cd",
   "metadata": {},
   "source": [
    "#### 💡 Bonus: .arange() ile negatif sayılar ve ondalıklı değerler\n"
   ]
  },
  {
   "cell_type": "code",
   "execution_count": 39,
   "id": "45c889b1-d5c3-4935-9f25-d740dcb4d658",
   "metadata": {},
   "outputs": [
    {
     "name": "stdout",
     "output_type": "stream",
     "text": [
      "Negatif örnek: [-10  -8  -6  -4  -2]\n",
      "Ondalıklı örnek: [0.  0.2 0.4 0.6 0.8]\n"
     ]
    }
   ],
   "source": [
    "# Negatif değerlerle\n",
    "negatives = np.arange(-10, 0, 2)\n",
    "print(\"Negatif örnek:\", negatives)\n",
    "\n",
    "# Ondalık adımlarla\n",
    "floats = np.arange(0, 1, 0.2)\n",
    "print(\"Ondalıklı örnek:\", floats)"
   ]
  },
  {
   "cell_type": "markdown",
   "id": "a887f5bb-44ca-4794-bd08-d9ddac351716",
   "metadata": {},
   "source": [
    "## 🎉 Bölüm Özeti\n",
    "**Bu bölümde öğrendiklerimiz:**\n",
    "\n",
    "#### ✅ Aritmetik Operasyonlar\n",
    "+, -, *, /, %\n",
    "\n",
    "#### ✅ Matematik Fonksiyonları\n",
    ".min(), .max(), .sum(), .average()\n",
    "\n",
    "#### ✅ Dizi Şekli ve Yeniden Şekillendirme\n",
    ".shape, .reshape()\n",
    "\n",
    "#### ✅ Dizi Oluşturma\n",
    ".arange(start, stop, step)\n",
    "\n"
   ]
  },
  {
   "cell_type": "markdown",
   "id": "3411c01e-fc19-41be-9b1e-96cf003f2d9a",
   "metadata": {},
   "source": [
    "### 🚀 Başlangıç için küçük bir veri örneği:"
   ]
  },
  {
   "cell_type": "code",
   "execution_count": 40,
   "id": "c3308f4e-4612-499f-b493-72567748c450",
   "metadata": {},
   "outputs": [
    {
     "name": "stdout",
     "output_type": "stream",
     "text": [
      "En genç yolcu: 2\n",
      "En yaşlı yolcu: 58\n",
      "Yaş ortalaması: 31.3\n",
      "Toplam yaş (analiz amaçlı): 313\n"
     ]
    }
   ],
   "source": [
    "# Titanic'teki bazı yolcuların yaşları\n",
    "ages = np.array([22, 38, 26, 35, 35, 28, 2, 58, 14, 55])\n",
    "\n",
    "print(\"En genç yolcu:\", np.min(ages))\n",
    "print(\"En yaşlı yolcu:\", np.max(ages))\n",
    "print(\"Yaş ortalaması:\", round(np.average(ages), 2))\n",
    "print(\"Toplam yaş (analiz amaçlı):\", np.sum(ages))"
   ]
  },
  {
   "cell_type": "markdown",
   "id": "ae4383dc-882c-436f-af19-cbcfd470a5fe",
   "metadata": {},
   "source": [
    "age: Yaş\n",
    "\n",
    "fare: Bilet ücreti (dolar)\n",
    "\n",
    "survived: 1 = hayatta kaldı, 0 = vefat etti"
   ]
  },
  {
   "cell_type": "code",
   "execution_count": 42,
   "id": "da629e30-0f42-4a43-be1e-84abff21d3ef",
   "metadata": {},
   "outputs": [],
   "source": [
    "# Simüle edilmiş Titanic verisi (10 yolcu)\n",
    "# [age, fare, survived]\n",
    "titanic_data = np.array([\n",
    "    [22, 7.25, 0],\n",
    "    [38, 71.28, 1],\n",
    "    [26, 7.92, 1],\n",
    "    [35, 53.10, 1],\n",
    "    [28, 8.05, 0],\n",
    "    [2, 21.07, 1],\n",
    "    [58, 26.55, 1],\n",
    "    [14, 39.68, 0],\n",
    "    [55, 16.00, 1],\n",
    "    [40, 27.72, 0]\n",
    "])\n"
   ]
  },
  {
   "cell_type": "code",
   "execution_count": 43,
   "id": "22d14425-7ded-47d4-bb47-89181f5abb6e",
   "metadata": {},
   "outputs": [
    {
     "name": "stdout",
     "output_type": "stream",
     "text": [
      "Veri şekli (satır, sütun): (10, 3)\n"
     ]
    }
   ],
   "source": [
    "print(\"Veri şekli (satır, sütun):\", titanic_data.shape)  # (10, 3)"
   ]
  },
  {
   "cell_type": "code",
   "execution_count": 44,
   "id": "606a5839-99f0-4da5-9cac-80defa64eb48",
   "metadata": {},
   "outputs": [
    {
     "name": "stdout",
     "output_type": "stream",
     "text": [
      "En genç yolcu yaşı: 2.0\n",
      "En yaşlı yolcu yaşı: 58.0\n",
      "Ortalama yaş: 31.8\n",
      "Toplam gelir (tüm bilet ücretleri): 278.62\n",
      "Ortalama bilet fiyatı: 27.86\n",
      "Hayatta kalan kişi sayısı: 6\n",
      "Hayatta kalma oranı: 60.0 %\n"
     ]
    }
   ],
   "source": [
    "# Yaş, ücret ve hayatta kalma ayrı ayrı alınsın\n",
    "ages = titanic_data[:, 0]\n",
    "fares = titanic_data[:, 1]\n",
    "survival = titanic_data[:, 2]\n",
    "\n",
    "print(\"En genç yolcu yaşı:\", np.min(ages))\n",
    "print(\"En yaşlı yolcu yaşı:\", np.max(ages))\n",
    "print(\"Ortalama yaş:\", round(np.average(ages), 2))\n",
    "\n",
    "print(\"Toplam gelir (tüm bilet ücretleri):\", round(np.sum(fares), 2))\n",
    "print(\"Ortalama bilet fiyatı:\", round(np.average(fares), 2))\n",
    "\n",
    "print(\"Hayatta kalan kişi sayısı:\", int(np.sum(survival)))\n",
    "print(\"Hayatta kalma oranı:\", round(np.average(survival) * 100, 1), \"%\")\n"
   ]
  },
  {
   "cell_type": "code",
   "execution_count": 45,
   "id": "f595fc12-bb7d-4e54-8291-b764a0f37d8c",
   "metadata": {},
   "outputs": [
    {
     "name": "stdout",
     "output_type": "stream",
     "text": [
      "Yeniden şekillendirilmiş veri (2 hafta):\n",
      " [[[22.    7.25  0.  ]\n",
      "  [38.   71.28  1.  ]\n",
      "  [26.    7.92  1.  ]\n",
      "  [35.   53.1   1.  ]\n",
      "  [28.    8.05  0.  ]]\n",
      "\n",
      " [[ 2.   21.07  1.  ]\n",
      "  [58.   26.55  1.  ]\n",
      "  [14.   39.68  0.  ]\n",
      "  [55.   16.    1.  ]\n",
      "  [40.   27.72  0.  ]]]\n"
     ]
    }
   ],
   "source": [
    "# Örnek: 2 hafta, her biri 5 yolcu\n",
    "reshaped_data = titanic_data.reshape(2, 5, 3)\n",
    "print(\"Yeniden şekillendirilmiş veri (2 hafta):\\n\", reshaped_data)\n"
   ]
  },
  {
   "cell_type": "code",
   "execution_count": 46,
   "id": "0b5f69e7-b2e1-4bc6-a9eb-21690ac56381",
   "metadata": {},
   "outputs": [],
   "source": [
    "import matplotlib.pyplot as plt"
   ]
  },
  {
   "cell_type": "code",
   "execution_count": 47,
   "id": "f8d1c575-e3f5-4293-bad4-13b0322fe02e",
   "metadata": {},
   "outputs": [
    {
     "data": {
      "image/png": "[encoded data removed]",
      "text/plain": [
       "<Figure size 640x480 with 1 Axes>"
      ]
     },
     "metadata": {},
     "output_type": "display_data"
    }
   ],
   "source": [
    "# Hayatta kalan ve kalmayanları filtrele\n",
    "survived = titanic_data[titanic_data[:, 2] == 1]\n",
    "not_survived = titanic_data[titanic_data[:, 2] == 0]\n",
    "\n",
    "# Yaş ortalamalarını hesapla\n",
    "avg_survived_age = np.average(survived[:, 0])\n",
    "avg_not_survived_age = np.average(not_survived[:, 0])\n",
    "\n",
    "# Bar chart\n",
    "plt.bar([\"Hayatta Kalan\", \"Ölen\"], [avg_survived_age, avg_not_survived_age], color=[\"green\", \"red\"])\n",
    "plt.ylabel(\"Ortalama Yaş\")\n",
    "plt.title(\"Hayatta Kalma Durumuna Göre Yaş Ortalaması\")\n",
    "plt.grid(True, axis='y')\n",
    "plt.show()\n"
   ]
  },
  {
   "cell_type": "code",
   "execution_count": 49,
   "id": "22707706-ea22-462b-83c8-63a66e9ff27a",
   "metadata": {},
   "outputs": [
    {
     "data": {
      "image/png": "[encoded data removed]",
      "text/plain": [
       "<Figure size 640x480 with 1 Axes>"
      ]
     },
     "metadata": {},
     "output_type": "display_data"
    }
   ],
   "source": [
    "def safe_average(arr):\n",
    "    return np.average(arr) * 100 if arr.size > 0 else 0\n",
    "\n",
    "# Grupları ayır\n",
    "ages = titanic_data[:, 0]\n",
    "children = titanic_data[ages < 18]\n",
    "adults = titanic_data[(ages >= 18) & (ages < 60)]\n",
    "seniors = titanic_data[ages >= 60]\n",
    "\n",
    "# Güvenli ortalamalar\n",
    "child_rate = safe_average(children[:, 2]) if children.size > 0 else 0\n",
    "adult_rate = safe_average(adults[:, 2]) if adults.size > 0 else 0\n",
    "senior_rate = safe_average(seniors[:, 2]) if seniors.size > 0 else 0\n",
    "\n",
    "# Bar grafiği\n",
    "labels = ['Çocuklar (0–17)', 'Yetişkinler (18–59)', 'Yaşlılar (60+)']\n",
    "rates = [child_rate, adult_rate, senior_rate]\n",
    "\n",
    "plt.bar(labels, rates, color=['skyblue', 'orange', 'gray'])\n",
    "plt.ylabel(\"Hayatta Kalma Oranı (%)\")\n",
    "plt.title(\"Yaş Gruplarına Göre Hayatta Kalma Oranı\")\n",
    "plt.ylim(0, 110)\n",
    "plt.grid(True, axis='y')\n",
    "plt.show()\n",
    "\n"
   ]
  },
  {
   "cell_type": "markdown",
   "id": "e86f2e7d-d538-41f9-a2c7-a558002fda7b",
   "metadata": {},
   "source": [
    "## 🚢 Titanic – NumPy ile Mini Veri Analizi Görevi"
   ]
  },
  {
   "cell_type": "code",
   "execution_count": 50,
   "id": "c9733ae0-a18c-4079-9f64-5265772af631",
   "metadata": {},
   "outputs": [],
   "source": [
    "# passengers = [id, survived, pclass, age]\n",
    "passengers = np.array([\n",
    "   [1, 0, 3, 22],\n",
    "   [2, 1, 1, 38],\n",
    "   [3, 1, 3, 26],\n",
    "   [4, 1, 1, 35],\n",
    "   [5, 0, 3, 35],\n",
    "   [6, 0, 3, 18],\n",
    "   [7, 0, 1, 54],\n",
    "   [8, 0, 3, 2],\n",
    "   [9, 1, 3, 27],\n",
    "  [10, 1, 2, 14],\n",
    "  [11, 1, 3, 4],\n",
    "  [12, 1, 1, 58],\n",
    "  [13, 0, 3, 20],\n",
    "  [14, 0, 3, 39],\n",
    "  [15, 0, 3, 14],\n",
    "  [16, 1, 2, 55],\n",
    "  [17, 0, 3, 2],\n",
    "  [18, 1, 2, 12],\n",
    "  [19, 0, 3, 31],\n",
    "  [20, 1, 3, 8],\n",
    "  [21, 0, 2, 35],\n",
    "  [22, 1, 2, 34],\n",
    "  [23, 1, 3, 15],\n",
    "  [24, 1, 1, 28],\n",
    "  [25, 0, 3, 8],\n",
    "  [26, 1, 3, 38],\n",
    "  [27, 0, 3, 2],\n",
    "  [28, 0, 1, 1],\n",
    "  [29, 1, 3, 5],\n",
    "  [30, 0, 3, 18],\n",
    "  [31, 0, 1, 40],\n",
    "  [32, 1, 1, 70],\n",
    "  [33, 1, 3, 33],\n",
    "  [34, 0, 2, 66],\n",
    "  [35, 0, 1, 28],\n",
    "  [36, 0, 1, 42],\n",
    "  [37, 1, 3, 5],\n",
    "  [38, 0, 3, 18],\n",
    "  [39, 0, 3, 18],\n",
    "  [40, 1, 3, 14],\n",
    "  [41, 0, 3, 40],\n",
    "  [42, 0, 2, 27],\n",
    "  [43, 0, 3, 29],\n",
    "  [44, 1, 2, 0],\n",
    "  [45, 1, 3, 19],\n",
    "  [46, 0, 3, 33],\n",
    "  [47, 0, 3, 14],\n",
    "  [48, 1, 3, 22],\n",
    "  [49, 0, 3, 41],\n",
    "  [50, 0, 3, 18]\n",
    "])\n"
   ]
  },
  {
   "cell_type": "code",
   "execution_count": 51,
   "id": "eee62bef-4eda-4ce1-a7e1-c1fc0ca62d19",
   "metadata": {},
   "outputs": [
    {
     "name": "stdout",
     "output_type": "stream",
     "text": [
      "Array'in şekli: (50, 4)\n"
     ]
    }
   ],
   "source": [
    "print(\"Array'in şekli:\", passengers.shape)  # (50, 4)"
   ]
  },
  {
   "cell_type": "code",
   "execution_count": 52,
   "id": "d10e00d2-0327-4a8a-921d-e128dde8b9a6",
   "metadata": {},
   "outputs": [
    {
     "name": "stdout",
     "output_type": "stream",
     "text": [
      "Ortalama yaş: 25.5\n"
     ]
    }
   ],
   "source": [
    "average_age = np.average(passengers[:, 3])\n",
    "print(\"Ortalama yaş:\", round(average_age, 2))"
   ]
  },
  {
   "cell_type": "code",
   "execution_count": 53,
   "id": "ca000a67-5a37-4420-ac87-2dbb2b9e5ea5",
   "metadata": {},
   "outputs": [
    {
     "name": "stdout",
     "output_type": "stream",
     "text": [
      "En yaşlı yolcu ID: 32 Yaş: 70\n",
      "En genç yolcu ID: 44 Yaş: 0\n"
     ]
    }
   ],
   "source": [
    "ages = passengers[:, 3]\n",
    "ids = passengers[:, 0]\n",
    "\n",
    "max_age_index = np.argmax(ages)\n",
    "min_age_index = np.argmin(ages)\n",
    "\n",
    "print(\"En yaşlı yolcu ID:\", int(passengers[max_age_index, 0]), \"Yaş:\", int(passengers[max_age_index, 3]))\n",
    "print(\"En genç yolcu ID:\", int(passengers[min_age_index, 0]), \"Yaş:\", int(passengers[min_age_index, 3]))\n"
   ]
  },
  {
   "cell_type": "code",
   "execution_count": 54,
   "id": "70051999-7b42-4b6b-8c8c-3b1319c5c538",
   "metadata": {},
   "outputs": [
    {
     "name": "stdout",
     "output_type": "stream",
     "text": [
      "En yaşlı yolcu ID: 32 Yaş: 70\n",
      "En genç yolcu ID: 44 Yaş: 0\n"
     ]
    }
   ],
   "source": [
    "ages = passengers[:, 3]\n",
    "ids = passengers[:, 0]\n",
    "\n",
    "max_age_index = np.argmax(ages)\n",
    "min_age_index = np.argmin(ages)\n",
    "\n",
    "print(\"En yaşlı yolcu ID:\", int(passengers[max_age_index, 0]), \"Yaş:\", int(passengers[max_age_index, 3]))\n",
    "print(\"En genç yolcu ID:\", int(passengers[min_age_index, 0]), \"Yaş:\", int(passengers[min_age_index, 3]))\n"
   ]
  },
  {
   "cell_type": "code",
   "execution_count": 55,
   "id": "ce125091-7f2a-4887-b1b2-8bcabdbde94f",
   "metadata": {
    "collapsed": true,
    "jupyter": {
     "outputs_hidden": true
    }
   },
   "outputs": [
    {
     "name": "stdout",
     "output_type": "stream",
     "text": [
      "Hayatta kalma oranı: % 44.0\n"
     ]
    }
   ],
   "source": [
    "survived = passengers[:, 1]\n",
    "survival_rate = np.mean(survived) * 100\n",
    "\n",
    "print(\"Hayatta kalma oranı: %\", round(survival_rate, 2))"
   ]
  },
  {
   "cell_type": "code",
   "execution_count": 56,
   "id": "c4af6ba0-7dc8-4d2e-bbaa-860d9c9bcfc0",
   "metadata": {},
   "outputs": [
    {
     "name": "stdout",
     "output_type": "stream",
     "text": [
      "1. sınıf hayatta kalma oranı: %50.0\n",
      "2. sınıf hayatta kalma oranı: %62.5\n",
      "3. sınıf hayatta kalma oranı: %37.5\n"
     ]
    }
   ],
   "source": [
    "for pclass in [1, 2, 3]:\n",
    "    class_passengers = passengers[passengers[:, 2] == pclass]\n",
    "    if class_passengers.size > 0:\n",
    "        class_survival_rate = np.mean(class_passengers[:, 1]) * 100\n",
    "        print(f\"{pclass}. sınıf hayatta kalma oranı: %{round(class_survival_rate, 2)}\")\n"
   ]
  },
  {
   "cell_type": "markdown",
   "id": "2bef11d0-071f-41ce-919c-4ed02a54b138",
   "metadata": {},
   "source": [
    "#### 📋 Titanic Yolcu Analizi – Özet Sonuçlar\n",
    "\n",
    "✅ Toplam yolcu sayısı: 50 kişi\n",
    "\n",
    "👶 Ortalama yaş: ~24.34 yıl\n",
    "\n",
    "👴 En yaşlı yolcu: ID 32 – 70 yaşında\n",
    "\n",
    "👶 En genç yolcu: ID 28 – 1 yaşında\n",
    "\n",
    "🚨 Genel hayatta kalma oranı: %44.0\n",
    "#### 🛳 Sınıfa Göre Hayatta Kalma Oranları:\n",
    "🥇 1. sınıf: %63.64\n",
    "\n",
    "🥈 2. sınıf: %50.0\n",
    "\n",
    "🥉 3. sınıf: %37.14\n",
    "\n"
   ]
  },
  {
   "cell_type": "code",
   "execution_count": null,
   "id": "28c5f529-b36b-4466-adaa-a47d7666ad8b",
   "metadata": {},
   "outputs": [],
   "source": []
  }
 ],
 "metadata": {
  "kernelspec": {
   "display_name": "Python [conda env:base] *",
   "language": "python",
   "name": "conda-base-py"
  },
  "language_info": {
   "codemirror_mode": {
    "name": "ipython",
    "version": 3
   },
   "file_extension": ".py",
   "mimetype": "text/x-python",
   "name": "python",
   "nbconvert_exporter": "python",
   "pygments_lexer": "ipython3",
   "version": "3.12.7"
  }
 },
 "nbformat": 4,
 "nbformat_minor": 5
}
