{
 "cells": [
  {
   "cell_type": "markdown",
   "id": "29efa7bd-dcc5-4a4a-9222-723ec470b038",
   "metadata": {},
   "source": [
    "# Numpy Version.1 - Codedex"
   ]
  },
  {
   "cell_type": "code",
   "execution_count": 1,
   "id": "f66d58e9-8678-4fa2-8000-d71f210a432e",
   "metadata": {},
   "outputs": [
    {
     "name": "stdout",
     "output_type": "stream",
     "text": [
      "So it's not gonna be easy. It's gonna be really hard.\n"
     ]
    }
   ],
   "source": [
    "print('So it\\'s not gonna be easy. It\\'s gonna be really hard.')"
   ]
  },
  {
   "cell_type": "code",
   "execution_count": 2,
   "id": "afd1fe9b-351c-4ec8-850e-60a1548af039",
   "metadata": {},
   "outputs": [
    {
     "name": "stdout",
     "output_type": "stream",
     "text": [
      "So it's not gonna be easy. It's gonna be really hard.\n",
      "We're gonna have to work at this everyday, but I want to do that because I want all the data, forever. You and me.\n"
     ]
    }
   ],
   "source": [
    "print('So it\\'s not gonna be easy. It\\'s gonna be really hard.')\n",
    "\n",
    "print('We\\'re gonna have to work at this everyday, but I want to do that because I want all the data, forever. You and me.')"
   ]
  },
  {
   "cell_type": "code",
   "execution_count": 3,
   "id": "fad0d89d-446a-4758-beb2-84f45e627d0f",
   "metadata": {},
   "outputs": [
    {
     "data": {
      "text/html": [
       "<img src=\"https://imgur.com/5CXo6pt.gif\"/>"
      ],
      "text/plain": [
       "<IPython.core.display.Image object>"
      ]
     },
     "execution_count": 3,
     "metadata": {},
     "output_type": "execute_result"
    }
   ],
   "source": [
    "from IPython.display import Image\n",
    "\n",
    "Image(url='https://imgur.com/5CXo6pt.gif')"
   ]
  },
  {
   "cell_type": "markdown",
   "id": "161d7d00-44b4-4c06-b2ae-a4def2ace052",
   "metadata": {},
   "source": [
    "- NumPy, bilimsel hesaplama için kullanılan güçlü bir Python kütüphanesidir.  \n",
    "- Aşağıdaki kod bloğu, NumPy kütüphanesinin sistemde yüklü olan sürümünü ekrana yazdırır."
   ]
  },
  {
   "cell_type": "code",
   "execution_count": 5,
   "id": "683472e7-cdae-485b-b36e-b2e0238724e2",
   "metadata": {},
   "outputs": [
    {
     "name": "stdout",
     "output_type": "stream",
     "text": [
      "NumPy sürümü: 1.26.4\n"
     ]
    }
   ],
   "source": [
    "# NumPy kütüphanesini içe aktar\n",
    "import numpy as np\n",
    "\n",
    "# NumPy'ın yüklü olan sürümünü yazdır\n",
    "print(\"NumPy sürümü:\", np.__version__)"
   ]
  },
  {
   "cell_type": "markdown",
   "id": "aab2776f-3c55-496a-bb95-ebb3cd3be838",
   "metadata": {},
   "source": [
    "## 📌 NumPy Array Nedir?\n",
    "\n",
    "- NumPy array (dizi), NumPy paketinin temel veri yapısıdır. Aslında bu yapı, değerlerden oluşan bir grid (ızgara) gibidir."
   ]
  },
  {
   "cell_type": "code",
   "execution_count": 6,
   "id": "8035d085-a04a-401e-aef6-a9565004f446",
   "metadata": {},
   "outputs": [
    {
     "data": {
      "text/plain": [
       "[1500, 1500, 1500, 1500, 1750, 1750]"
      ]
     },
     "execution_count": 6,
     "metadata": {},
     "output_type": "execute_result"
    }
   ],
   "source": [
    "# Python listesi kullanarak kira değerlerini tutma\n",
    "rent = [1500, 1500, 1500, 1500, 1750, 1750]\n",
    "rent"
   ]
  },
  {
   "cell_type": "code",
   "execution_count": 7,
   "id": "eff309ae-dddb-45d0-b677-7ceed8169a92",
   "metadata": {},
   "outputs": [
    {
     "data": {
      "text/plain": [
       "array([1500, 1500, 1500, 1500, 1750, 1750])"
      ]
     },
     "execution_count": 7,
     "metadata": {},
     "output_type": "execute_result"
    }
   ],
   "source": [
    "# NumPy array olarak kira verisi tanımlama\n",
    "rent = np.array([1500, 1500, 1500, 1500, 1750, 1750])\n",
    "rent\n"
   ]
  },
  {
   "cell_type": "code",
   "execution_count": 8,
   "id": "11dbd941-d4ec-474d-8697-6f06ea131efa",
   "metadata": {},
   "outputs": [
    {
     "name": "stdout",
     "output_type": "stream",
     "text": [
      "Elektrik Faturası: [24.33 22.99 50.99 31.99 22.99 23.44]\n",
      "Doğalgaz Faturası: [34.55 23.22 23.44 44.55 33.22 33.12]\n",
      "Wi-Fi Faturası: [34.99 34.99 34.99 34.99 34.99 34.99]\n"
     ]
    }
   ],
   "source": [
    "electric_bill = np.array([24.33, 22.99, 50.99, 31.99, 22.99, 23.44])\n",
    "gas_bill = np.array([34.55, 23.22, 23.44, 44.55, 33.22, 33.12])\n",
    "wifi_bill = np.array([34.99, 34.99, 34.99, 34.99, 34.99, 34.99])\n",
    "\n",
    "print(\"Elektrik Faturası:\", electric_bill)\n",
    "print(\"Doğalgaz Faturası:\", gas_bill)\n",
    "print(\"Wi-Fi Faturası:\", wifi_bill)"
   ]
  },
  {
   "cell_type": "markdown",
   "id": "1782883e-1358-41d3-b015-f4813f2203b6",
   "metadata": {},
   "source": [
    "### 🆚 Python Listesi vs. NumPy Array\n",
    "\n",
    "**Peki neden NumPy array kullanalım?**\n",
    "\n",
    "- NumPy dizileri daha hızlı ve daha verimlidir.\n",
    "- Büyük veri kümelerinde (örneğin milyonlarca sayı) NumPy array’ler, klasik Python listelerine göre 100 kat daha hızlı çalışabilir.\n",
    "- Birkaç öğeyle çalışıyorsan liste kullanabilirsin, ancak veri büyüdükçe NumPy array'ler performans avantajı sağlar.\n",
    "\n",
    "🧠 Not: NumPy array’ler matematiksel işlemler, veri analizi, bilimsel hesaplamalar gibi işlemler için optimize edilmiştir. Bu yüzden veri bilimi ve makine öğrenmesi gibi alanlarda temel yapı taşı olarak kullanılırlar."
   ]
  },
  {
   "cell_type": "code",
   "execution_count": 9,
   "id": "84675422-b27b-4031-9b99-233027c0ef0e",
   "metadata": {},
   "outputs": [
    {
     "name": "stdout",
     "output_type": "stream",
     "text": [
      "Günlük bildirim sayıları: [156 197 162 292 258 276 288]\n"
     ]
    }
   ],
   "source": [
    "# 🔢 Haftalık Bildirim Sayısı Verisi (örnek)\n",
    "\n",
    "# Geçtiğimiz 7 gün boyunca alınan bildirim sayıları\n",
    "notifications = np.array([156, 197, 162, 292, 258, 276, 288])\n",
    "\n",
    "# Array'i yazdır\n",
    "print(\"Günlük bildirim sayıları:\", notifications)"
   ]
  },
  {
   "cell_type": "markdown",
   "id": "d2884048-ce37-48b1-9530-179a389cbfcd",
   "metadata": {},
   "source": [
    "## 📈 NumPy Array'lerde Indexleme ve Slicing\n",
    "\n",
    "### 🔍 Indexing (Elemanlara Erişim)\n",
    "- Python listelerinde olduğu gibi, NumPy array’lerde de köşeli parantez [ ] kullanarak belirli elemanlara erişebiliriz.\n",
    "\n",
    "- Aşağıdaki NumPy array’i bir iş haftasında içilen kahve miktarlarını gösteriyor:"
   ]
  },
  {
   "cell_type": "code",
   "execution_count": 10,
   "id": "79b84c0d-6ec6-4ee8-ae34-555943f94e9e",
   "metadata": {},
   "outputs": [
    {
     "name": "stdout",
     "output_type": "stream",
     "text": [
      "Pazartesi: 3\n",
      "Salı: 2\n",
      "Çarşamba: 1\n",
      "Perşembe: 0\n",
      "Cuma: 1\n"
     ]
    }
   ],
   "source": [
    "# İş haftasında her gün içilen kahve miktarı\n",
    "coffee = np.array([3, 2, 1, 0, 1])\n",
    "\n",
    "# Belirli indekslerdeki elemanlara erişelim\n",
    "print(\"Pazartesi:\", coffee[0])  # 3\n",
    "print(\"Salı:\", coffee[1])       # 2\n",
    "print(\"Çarşamba:\", coffee[2])   # 1\n",
    "print(\"Perşembe:\", coffee[3])   # 0\n",
    "print(\"Cuma:\", coffee[4])       # 1"
   ]
  },
  {
   "cell_type": "markdown",
   "id": "cea979ac-b976-4833-a11a-45bfbfce0e5a",
   "metadata": {},
   "source": [
    "### Örnek: 🌆 Şehir Nüfusu Zaman Serisi Analizi (NYC Örneği)\n",
    "\n",
    "Her metropol şehrin nüfusu yıllar içinde değişir. Burada New York City’nin 2013’ten 2023’e kadar olan nüfus verilerini inceleyeceğiz."
   ]
  },
  {
   "cell_type": "code",
   "execution_count": 14,
   "id": "c9b8636e-2955-4a78-85a6-5c206979a9b0",
   "metadata": {},
   "outputs": [
    {
     "name": "stdout",
     "output_type": "stream",
     "text": [
      "19571216\n",
      "19626488\n",
      "55272\n",
      "[19673200 19854526 20104710]\n",
      "COVID-19 dönemindeki nüfuslar (2022-2020): [19673200 19854526 20104710]\n"
     ]
    }
   ],
   "source": [
    "population = np.array([19571216, 19673200, 19854526, 20104710, 19463131, 19544098, 19593849, 19636391, 19657321, 19653431, 19626488])\n",
    "\n",
    "print(population[0])\n",
    "print(population[10])\n",
    "\n",
    "print(population[10]-population[0])\n",
    "\n",
    "print(population[1:4])\n",
    "print(\"COVID-19 dönemindeki nüfuslar (2022-2020):\", population[1:4])"
   ]
  },
  {
   "cell_type": "markdown",
   "id": "ddd82c38-5240-459a-9727-054d711ef33d",
   "metadata": {},
   "source": [
    "## 🍳 2D NumPy Arrays (İki Boyutlu Diziler)\n",
    "\n"
   ]
  },
  {
   "cell_type": "markdown",
   "id": "a8edf135-a56c-4a26-99f4-e2bb8bfbabf8",
   "metadata": {},
   "source": [
    "### 🧠 Nedir bu 2D array?\n",
    "- Şimdiye kadar 1 boyutlu array’lerle (tek satırlık diziler) çalıştık:"
   ]
  },
  {
   "cell_type": "code",
   "execution_count": 15,
   "id": "604b09b8-0546-4ff3-83e4-78f5c0513a6f",
   "metadata": {},
   "outputs": [],
   "source": [
    "arr = np.array([1, 2, 3, 4, 5, 6])"
   ]
  },
  {
   "cell_type": "markdown",
   "id": "1e1c099b-2a86-4e6c-8144-21094641f790",
   "metadata": {},
   "source": [
    "- 2 boyutlu (2D) array’ler ise, bu 1D array'lerin bir araya gelmesinden oluşur:\n",
    "Yani array içinde array!"
   ]
  },
  {
   "cell_type": "markdown",
   "id": "ecceebde-266d-4f53-9757-f76426dd330d",
   "metadata": {},
   "source": [
    "### 🔢 2D Array Oluşturma"
   ]
  },
  {
   "cell_type": "code",
   "execution_count": 16,
   "id": "9f05f2c9-9b3a-415d-8773-28f40c6a7ed4",
   "metadata": {},
   "outputs": [
    {
     "name": "stdout",
     "output_type": "stream",
     "text": [
      "[[1 2 3]\n",
      " [4 5 6]\n",
      " [7 8 9]]\n"
     ]
    }
   ],
   "source": [
    "# 2D array örneği\n",
    "arr = np.array([\n",
    "    [1, 2, 3], \n",
    "    [4, 5, 6], \n",
    "    [7, 8, 9]\n",
    "])\n",
    "\n",
    "print(arr)\n"
   ]
  },
  {
   "cell_type": "markdown",
   "id": "442f99ab-9e35-473d-9ce9-62bf62769325",
   "metadata": {},
   "source": [
    "### 🔍 2D Array Indexleme"
   ]
  },
  {
   "cell_type": "code",
   "execution_count": 17,
   "id": "6aaeb1df-7b12-4fa4-a4ba-c5e46637de8b",
   "metadata": {},
   "outputs": [
    {
     "name": "stdout",
     "output_type": "stream",
     "text": [
      "1. satır: [1 2 3]\n",
      "2. satır: [4 5 6]\n",
      "3. satır: [7 8 9]\n"
     ]
    }
   ],
   "source": [
    "# Tüm satırları ayrı ayrı yazdıralım\n",
    "print(\"1. satır:\", arr[0])  # [1 2 3]\n",
    "print(\"2. satır:\", arr[1])  # [4 5 6]\n",
    "print(\"3. satır:\", arr[2])  # [7 8 9]"
   ]
  },
  {
   "cell_type": "markdown",
   "id": "6a3355ce-6cd4-469d-9f27-467968e4edc0",
   "metadata": {},
   "source": [
    "### 🎯 Belirli Bir Elemanı Seçmek"
   ]
  },
  {
   "cell_type": "code",
   "execution_count": 18,
   "id": "cab8d0ad-b449-4e27-b166-35a731c75913",
   "metadata": {},
   "outputs": [
    {
     "name": "stdout",
     "output_type": "stream",
     "text": [
      "arr[0][0] = 1\n",
      "arr[0][2] = 3\n",
      "arr[2][2] = 9\n"
     ]
    }
   ],
   "source": [
    "# Satır ve sütun belirterek spesifik elemanlara ulaşma\n",
    "print(\"arr[0][0] =\", arr[0][0])   # 1\n",
    "print(\"arr[0][2] =\", arr[0][2])   # 3\n",
    "print(\"arr[2][2] =\", arr[2][2])   # 9"
   ]
  },
  {
   "cell_type": "code",
   "execution_count": 25,
   "id": "7a071fac-5087-4cca-9501-8c7cb9f59b9d",
   "metadata": {},
   "outputs": [
    {
     "name": "stdout",
     "output_type": "stream",
     "text": [
      "arr[0,0] = 1\n",
      "arr[0,2] = 3\n",
      "arr[2,2] = 9\n"
     ]
    }
   ],
   "source": [
    "print(\"arr[0,0] =\", arr[0,0])   # 1\n",
    "print(\"arr[0,2] =\", arr[0,2])   # 3\n",
    "print(\"arr[2,2] =\", arr[2,2])   # 9"
   ]
  },
  {
   "cell_type": "markdown",
   "id": "5868f832-7ad3-4876-bf97-b72069093f7b",
   "metadata": {},
   "source": [
    "- 🧠 **arr[row][column]** ya da **arr[row,column]** formatlarını kullanarak, 2D array içinde tam olarak istediğimiz elemana ulaşabiliriz.\n",
    "\n"
   ]
  },
  {
   "cell_type": "markdown",
   "id": "5c7211a5-b857-4488-bce0-7f2e8c811332",
   "metadata": {},
   "source": [
    "### 🧩 Gerçek Hayattan 2D Array Örnekleri"
   ]
  },
  {
   "cell_type": "code",
   "execution_count": 27,
   "id": "16866f56-75f9-4471-b7d0-f72d82914db6",
   "metadata": {},
   "outputs": [
    {
     "name": "stdout",
     "output_type": "stream",
     "text": [
      "Oturma planı:\n",
      " [[ 0  1  3]\n",
      " [ 2  9  5]\n",
      " [ 6  7 10]]\n"
     ]
    }
   ],
   "source": [
    "#💺 Oturma Planı\n",
    "seating_plan = np.array([\n",
    "    [0, 1, 3], \n",
    "    [2, 9, 5], \n",
    "    [6, 7, 10]\n",
    "])\n",
    "print(\"Oturma planı:\\n\", seating_plan)"
   ]
  },
  {
   "cell_type": "code",
   "execution_count": 28,
   "id": "ab0d2480-1806-4c8c-950e-6eb9c44d3ee6",
   "metadata": {},
   "outputs": [
    {
     "name": "stdout",
     "output_type": "stream",
     "text": [
      "Aylık Bütçe:\n",
      " [[ 453.88  192.44 1750.    980.41  578.22]\n",
      " [ 689.77  256.81 1750.    865.34  356.84]\n",
      " [ 589.23  293.42 1850.    873.45  789.23]]\n"
     ]
    }
   ],
   "source": [
    "#💸 Aylık Bütçe Tablosu\n",
    "monthly_budget = np.array([\n",
    "    [453.88, 192.44, 1750.00, 980.41, 578.22],   # ay 1\n",
    "    [689.77, 256.81, 1750.00, 865.34, 356.84],   # ay 2\n",
    "    [589.23, 293.42, 1850.00, 873.45, 789.23]    # ay 3\n",
    "])\n",
    "print(\"Aylık Bütçe:\\n\", monthly_budget)\n",
    "\n",
    "#🧠 Bu tabloda:\n",
    "#Satırlar: Aylar\n",
    "#Sütunlar: Harcama kategorileri (kira, market, ulaşım, eğlence vs.)"
   ]
  },
  {
   "cell_type": "code",
   "execution_count": 29,
   "id": "519017fb-80f2-4d3f-9ac5-1110eda07113",
   "metadata": {},
   "outputs": [
    {
     "name": "stdout",
     "output_type": "stream",
     "text": [
      "Not defteri:\n",
      " [[98 98 90 84 93 73 80]\n",
      " [93 95 75 90 89 84 76]\n",
      " [90 89 88 84 90 67 72]\n",
      " [89 84 69 74 84 70 72]]\n"
     ]
    }
   ],
   "source": [
    "gradebook = np.array([\n",
    "    [98, 98, 90, 84, 93, 73, 80],  # öğrenci 1\n",
    "    [93, 95, 75, 90, 89, 84, 76],  # öğrenci 2\n",
    "    [90, 89, 88, 84, 90, 67, 72],  # öğrenci 3\n",
    "    [89, 84, 69, 74, 84, 70, 72]   # öğrenci 4\n",
    "])\n",
    "print(\"Not defteri:\\n\", gradebook)"
   ]
  },
  {
   "cell_type": "markdown",
   "id": "e5efd28b-0c5a-43ac-8eff-f64796752bf8",
   "metadata": {},
   "source": [
    "### 🥚 Rotten Egg Dedektifi: Hangi Karton Daha Taze?\n",
    "\n",
    "- Her süpermarkette yumurta alırken çatlak var mı diye bakarız ama…\n",
    "- Peki ya makineye güvenseydik?\n",
    "\n",
    "- Bir üretim hattı, yumurtaları şu şekilde değerlendiriyor:\n",
    "\n",
    "1.0 → %100 taze\n",
    "\n",
    "0.0 → Tamamen çürük 🤮\n",
    "\n",
    "0.0–1.0 arası → Göreli tazelik skoru\n"
   ]
  },
  {
   "cell_type": "markdown",
   "id": "5fc65ed0-38d7-4b3a-9211-a76c555cdf81",
   "metadata": {},
   "source": [
    "#### 📦 3 Yumurta Kartonu (Makine Skorları)"
   ]
  },
  {
   "cell_type": "code",
   "execution_count": 31,
   "id": "3049555d-e018-4205-9c9a-626b7ec3796c",
   "metadata": {},
   "outputs": [],
   "source": [
    "# Karton 1\n",
    "egg_carton1 = np.array([\n",
    "    [0.89, 0.90, 0.83, 0.89, 0.97, 0.98], \n",
    "    [0.95, 0.95, 0.89, 0.95, 0.23, 0.99]\n",
    "])\n",
    "\n",
    "# Karton 2\n",
    "egg_carton2 = np.array([\n",
    "    [0.89, 0.95, 0.84, 0.92, 0.94, 0.93], \n",
    "    [0.93, 0.95, 0.02, 0.03, 0.23, 0.99]\n",
    "])\n",
    "\n",
    "# Karton 3\n",
    "egg_carton3 = np.array([\n",
    "    [0.83, 0.95, 0.89, 0.54, 0.37, 0.92], \n",
    "    [0.98, 0.99, 0.19, 0.23, 0.89, 0.91]\n",
    "])\n"
   ]
  },
  {
   "cell_type": "markdown",
   "id": "05f75d44-97c1-4f3e-9311-2bce11cf73e1",
   "metadata": {},
   "source": [
    "#### 📊 Ortalama Tazelik Skorları"
   ]
  },
  {
   "cell_type": "code",
   "execution_count": 32,
   "id": "eac41e5a-8a14-47d2-92cb-ce9974355b93",
   "metadata": {},
   "outputs": [
    {
     "name": "stdout",
     "output_type": "stream",
     "text": [
      "Karton 1 ortalama tazelik: 0.868\n",
      "Karton 2 ortalama tazelik: 0.718\n",
      "Karton 3 ortalama tazelik: 0.724\n"
     ]
    }
   ],
   "source": [
    "# Ortalama tazelik skorlarını hesapla\n",
    "avg1 = np.average(egg_carton1)\n",
    "avg2 = np.average(egg_carton2)\n",
    "avg3 = np.average(egg_carton3)\n",
    "\n",
    "print(\"Karton 1 ortalama tazelik:\", round(avg1, 3))\n",
    "print(\"Karton 2 ortalama tazelik:\", round(avg2, 3))\n",
    "print(\"Karton 3 ortalama tazelik:\", round(avg3, 3))"
   ]
  },
  {
   "cell_type": "markdown",
   "id": "777d21b3-7d7d-494b-a804-6c9358c24545",
   "metadata": {},
   "source": [
    "#### ❗️ Karar Zamanı"
   ]
  },
  {
   "cell_type": "code",
   "execution_count": 34,
   "id": "4b2d6ce9-a19d-4845-af94-6d72bf2912ec",
   "metadata": {},
   "outputs": [
    {
     "name": "stdout",
     "output_type": "stream",
     "text": [
      "🚫 Karton 2 en az taze olan!\n"
     ]
    }
   ],
   "source": [
    "# En düşük ortalamayı bul\n",
    "lowest = min(avg1, avg2, avg3)\n",
    "\n",
    "if lowest == avg1:\n",
    "    print(\"🚫 Karton 1 en az taze olan!\")\n",
    "elif lowest == avg2:\n",
    "    print(\"🚫 Karton 2 en az taze olan!\")\n",
    "else:\n",
    "    print(\"🚫 Karton 3 en az taze olan!\")\n"
   ]
  },
  {
   "cell_type": "markdown",
   "id": "b6de82f4-3176-4dc5-9dad-4db358b58e34",
   "metadata": {},
   "source": [
    "## Dear Data — Hip Hip Array! 🎈"
   ]
  },
  {
   "cell_type": "markdown",
   "id": "31513292-39b6-41de-8825-753a8e27dd92",
   "metadata": {},
   "source": [
    "Tebrikler, bu bölümü tamamladın! 🎊\n",
    "\n",
    "Şimdiye kadar öğrendiklerini şöyle bir özetleyelim:\n",
    "\n",
    "**🧠 Bölüm Özeti:**\n",
    "\n",
    "✅ NumPy dizileri, büyük sayısal veri kümelerini saklamak için kullanılır.\n",
    "\n",
    "✅ İndeksler, dizideki elemanların pozisyonlarını belirtir. (Unutma: 0’dan başlar!)\n",
    "\n",
    "✅ Slicing (name[start:end]) ile dizinin bir kısmına ulaşabiliriz.\n",
    "\n",
    "✅ 2D array’ler, içinde başka array'ler barındırır (matris gibi düşünebilirsin).\n",
    "\n",
    "✅ Tüm bunları bir Jupyter Notebook ile kolayca yönetebilirsin!\n"
   ]
  },
  {
   "cell_type": "markdown",
   "id": "3de71bab-816b-498d-9787-e3328b485f97",
   "metadata": {},
   "source": [
    "#### 🧩 XP Puanlarımız"
   ]
  },
  {
   "cell_type": "code",
   "execution_count": 35,
   "id": "a64a5873-dccd-4fb9-9061-63452b6fad86",
   "metadata": {},
   "outputs": [
    {
     "name": "stdout",
     "output_type": "stream",
     "text": [
      "XP puanları: [10 10 15 15 15 15]\n"
     ]
    }
   ],
   "source": [
    "# Her mini alıştırmadan kazanılan XP puanları\n",
    "xp = np.array([10, 10, 15, 15, 15, 15])\n",
    "\n",
    "print(\"XP puanları:\", xp)\n"
   ]
  },
  {
   "cell_type": "markdown",
   "id": "6006e9e9-4494-4aeb-b05c-cef8f98839c3",
   "metadata": {},
   "source": [
    "#### 🔢 Toplam XP'yi Hesaplayalım"
   ]
  },
  {
   "cell_type": "code",
   "execution_count": 36,
   "id": "1a15c787-aa72-47ab-9eb6-95e132033a50",
   "metadata": {},
   "outputs": [
    {
     "name": "stdout",
     "output_type": "stream",
     "text": [
      "Toplam XP 🎯: 80\n"
     ]
    }
   ],
   "source": [
    "# Toplam deneyim puanı\n",
    "total_xp = np.sum(xp)\n",
    "print(\"Toplam XP 🎯:\", total_xp)"
   ]
  },
  {
   "cell_type": "markdown",
   "id": "289ec22a-ef13-4155-ab7d-4dec0aed86b7",
   "metadata": {},
   "source": [
    "#### ✨ Bonus: Eğer XP 80 veya daha fazlaysa"
   ]
  },
  {
   "cell_type": "code",
   "execution_count": 39,
   "id": "d0a93cbd-cd94-4a4b-978e-f917fe5be8dc",
   "metadata": {},
   "outputs": [
    {
     "name": "stdout",
     "output_type": "stream",
     "text": [
      "🏆 Harikasın! Level atladın! 🚀\n"
     ]
    }
   ],
   "source": [
    "if total_xp >= 80:\n",
    "    print(\"🏆 Harikasın! Level atladın! 🚀\")\n",
    "else:\n",
    "    print(\"💪 Süpersin! Devam et, az kaldı!\")"
   ]
  },
  {
   "cell_type": "markdown",
   "id": "f15d03cb-c9c3-4743-b348-10b08335d4e0",
   "metadata": {},
   "source": [
    "### 💌 Dear Data — Kendi Hayatından Veri Topla\n",
    "\n",
    "\"Data is everywhere — even in your tea breaks.\"\n",
    "\n",
    "— Codedex & Elif edition ☕️✨"
   ]
  },
  {
   "cell_type": "markdown",
   "id": "15ec30f6-7602-4a67-ac56-2830d26d5e35",
   "metadata": {},
   "source": [
    "#### 📊 Kendi Günlük Verin\n",
    "- Ben bu örnekte bir hafta boyunca içtiğim su bardaklarını kaydettim 💧\n",
    "- Her gün kaç bardak su içtiğimi telefon notlarımdan aldım:"
   ]
  },
  {
   "cell_type": "code",
   "execution_count": 40,
   "id": "eda4541b-6e09-4144-aec1-a3d9268ecf95",
   "metadata": {},
   "outputs": [
    {
     "name": "stdout",
     "output_type": "stream",
     "text": [
      "Günlük su tüketimi (bardak): [6 7 5 8 6 7 4]\n"
     ]
    }
   ],
   "source": [
    "# 1 hafta boyunca içilen su (bardak olarak)\n",
    "water_intake = np.array([6, 7, 5, 8, 6, 7, 4])  # Pazartesi → Pazar\n",
    "\n",
    "print(\"Günlük su tüketimi (bardak):\", water_intake)\n"
   ]
  },
  {
   "cell_type": "markdown",
   "id": "9364d1cf-9f19-4b4a-b6b9-8c46f8c6c920",
   "metadata": {},
   "source": [
    "**🧠 Bu veri yapısı nedir?**\n",
    "\n",
    "Bu veriyi bir 1D NumPy array olarak saklamak mantıklı, çünkü:\n",
    "\n",
    "- Her eleman, bağımsız bir günü temsil ediyor,\n",
    "- Ekstra boyutlara ihtiyaç duymuyoruz.\n"
   ]
  },
  {
   "cell_type": "markdown",
   "id": "016bf01d-1d97-4b11-a5b8-4c8f2808cce6",
   "metadata": {},
   "source": [
    "### 📈 Temel Analizler\n",
    "#### Ortalama bardak sayısı:"
   ]
  },
  {
   "cell_type": "code",
   "execution_count": 41,
   "id": "43ca44fe-dfd9-4d99-bfdd-a3805a8b691a",
   "metadata": {},
   "outputs": [
    {
     "name": "stdout",
     "output_type": "stream",
     "text": [
      "Ortalama günlük su tüketimi: 6.14 bardak\n"
     ]
    }
   ],
   "source": [
    "average_water = np.average(water_intake)\n",
    "print(\"Ortalama günlük su tüketimi:\", round(average_water, 2), \"bardak\")"
   ]
  },
  {
   "cell_type": "markdown",
   "id": "1a4d0d59-8f20-443d-8729-4f5842f6d8f0",
   "metadata": {},
   "source": [
    "#### Hafta başı ve hafta sonu farkı:"
   ]
  },
  {
   "cell_type": "code",
   "execution_count": 42,
   "id": "21db7070-5b86-4f01-867d-53677d96e17d",
   "metadata": {},
   "outputs": [
    {
     "name": "stdout",
     "output_type": "stream",
     "text": [
      "Pazartesi ↔️ Pazar farkı: -2 bardak\n"
     ]
    }
   ],
   "source": [
    "difference = water_intake[-1] - water_intake[0]\n",
    "print(\"Pazartesi ↔️ Pazar farkı:\", difference, \"bardak\")"
   ]
  },
  {
   "cell_type": "markdown",
   "id": "89a8de1e-1bd9-4f1f-b18b-2c50a0729153",
   "metadata": {},
   "source": [
    "#### Sadece hafta içi (Pazartesi–Cuma) analizi:"
   ]
  },
  {
   "cell_type": "code",
   "execution_count": 43,
   "id": "485d1124-6688-463c-84b9-85d14937a7b2",
   "metadata": {},
   "outputs": [
    {
     "name": "stdout",
     "output_type": "stream",
     "text": [
      "Hafta içi ortalama su tüketimi: 6.4\n"
     ]
    }
   ],
   "source": [
    "weekday_average = np.average(water_intake[0:5])\n",
    "print(\"Hafta içi ortalama su tüketimi:\", round(weekday_average, 2))"
   ]
  },
  {
   "cell_type": "code",
   "execution_count": 47,
   "id": "6c7c4455-fc3f-4427-b27e-e643d70fbb1a",
   "metadata": {},
   "outputs": [
    {
     "data": {
      "image/png": "[encoded data removed]",
      "text/plain": [
       "<Figure size 640x480 with 1 Axes>"
      ]
     },
     "metadata": {},
     "output_type": "display_data"
    }
   ],
   "source": [
    "import matplotlib.pyplot as plt\n",
    "\n",
    "days = [\"Pzt\", \"Sal\", \"Çar\", \"Per\", \"Cum\", \"Cmt\", \"Paz\"]\n",
    "plt.plot(days, water_intake, marker='o')\n",
    "plt.title(\"Haftalık Su Tüketimi\")\n",
    "plt.ylabel(\"Bardak Sayısı\")\n",
    "plt.xlabel(\"Günler\")\n",
    "plt.grid(True)\n",
    "plt.show()"
   ]
  },
  {
   "cell_type": "code",
   "execution_count": 49,
   "id": "4cb7d73f-6cc7-402a-8fc3-712544a1d611",
   "metadata": {},
   "outputs": [
    {
     "name": "stdout",
     "output_type": "stream",
     "text": [
      "My sleep average is 1.3 hours.\n",
      "My coffee intake average is 0.29 cups.\n",
      "My exercise average is 3.21 minutes.\n"
     ]
    }
   ],
   "source": [
    "# 4/2024 sleep (hr) 💤\n",
    "\n",
    "sleep = np.array([\n",
    "  [6.0, 6.0, 6.5, 8.0, 10.0, 0.0, 0.0], \n",
    "  [0.0, 0.0, 0.0, 0.0, 0.0, 0.0, 0.0],\n",
    "  [0.0, 0.0, 0.0, 0.0, 0.0, 0.0, 0.0],\n",
    "  [0.0, 0.0, 0.0, 0.0, 0.0, 0.0, 0.0],\n",
    "])\n",
    "\n",
    "# 4/2024 coffee (cups) ☕️\n",
    "\n",
    "coffee = np.array([\n",
    "  [1, 2, 1, 2, 1, 1, 0], \n",
    "  [0, 0, 0, 0, 0, 0, 0],\n",
    "  [0, 0, 0, 0, 0, 0, 0],\n",
    "  [0, 0, 0, 0, 0, 0, 0],\n",
    "])\n",
    "\n",
    "# 4/2024 exercise (min) 🏃\n",
    "\n",
    "exercise = np.array([\n",
    "  [0, 0, 0, 45, 0, 45, 0], \n",
    "  [0, 0, 0, 0, 0, 0, 0],\n",
    "  [0, 0, 0, 0, 0, 0, 0],\n",
    "  [0, 0, 0, 0, 0, 0, 0],\n",
    "])\n",
    "\n",
    "average1 = np.average(sleep)\n",
    "average2 = np.average(coffee)\n",
    "average3 = np.average(exercise)\n",
    "\n",
    "print(\"My sleep average is \" + str(round(average1, 2)) + \" hours.\")\n",
    "print(\"My coffee intake average is \" + str(round(average2, 2)) + \" cups.\")\n",
    "print(\"My exercise average is \" + str(round(average3, 2)) + \" minutes.\")"
   ]
  },
  {
   "cell_type": "code",
   "execution_count": null,
   "id": "2ba07be8-5938-427c-a658-bc8fdad44b59",
   "metadata": {},
   "outputs": [],
   "source": []
  }
 ],
 "metadata": {
  "kernelspec": {
   "display_name": "Python [conda env:base] *",
   "language": "python",
   "name": "conda-base-py"
  },
  "language_info": {
   "codemirror_mode": {
    "name": "ipython",
    "version": 3
   },
   "file_extension": ".py",
   "mimetype": "text/x-python",
   "name": "python",
   "nbconvert_exporter": "python",
   "pygments_lexer": "ipython3",
   "version": "3.12.7"
  }
 },
 "nbformat": 4,
 "nbformat_minor": 5
}
