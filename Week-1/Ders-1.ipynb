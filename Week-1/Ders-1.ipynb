{
 "cells": [
  {
   "cell_type": "markdown",
   "id": "38d7a5b4-6ce3-4211-9265-2df1039429a1",
   "metadata": {},
   "source": [
    "# Veri Tipleri\n",
    "\n",
    "\n",
    "1. Integer (Tam Sayılar)\n",
    "Python'da tam sayılar, kesir içermeyen sayılardır. Örneğin: 1, 2, 100, -5.\n",
    "\n",
    "2. Float (Ondalıklı Sayılar)\n",
    "Ondalıklı sayılar, kesirli sayılardır. Örneğin: 3.14, -2.0, 0.5.\n",
    "\n",
    "3. Boolean (Mantıksal Değerler)\n",
    "Boolean, doğru (True) veya yanlış (False) değerini alabilen veri tipidir.\n",
    "\n",
    "4. String (Metin)\n",
    "String, karakterlerin bir dizisidir. Çift tırnak (\" \") veya tek tırnak (' ') içinde yazılır. Örneğin: \"Hello, World!\", 'Python'.\n"
   ]
  },
  {
   "cell_type": "code",
   "execution_count": 5,
   "id": "54303e5f-7527-48fb-801e-c89878d4ff72",
   "metadata": {},
   "outputs": [
    {
     "data": {
      "text/plain": [
       "bool"
      ]
     },
     "execution_count": 5,
     "metadata": {},
     "output_type": "execute_result"
    }
   ],
   "source": [
    "type(True)"
   ]
  },
  {
   "cell_type": "code",
   "execution_count": 2,
   "id": "0739c2df-4b67-4c3c-be45-2ea2f71ad534",
   "metadata": {},
   "outputs": [
    {
     "data": {
      "text/plain": [
       "str"
      ]
     },
     "execution_count": 2,
     "metadata": {},
     "output_type": "execute_result"
    }
   ],
   "source": [
    "type(\"5\")"
   ]
  },
  {
   "cell_type": "code",
   "execution_count": 3,
   "id": "b190892d-71b1-4335-9811-241b40d82536",
   "metadata": {},
   "outputs": [
    {
     "data": {
      "text/plain": [
       "int"
      ]
     },
     "execution_count": 3,
     "metadata": {},
     "output_type": "execute_result"
    }
   ],
   "source": [
    "type(4)\n"
   ]
  },
  {
   "cell_type": "code",
   "execution_count": 4,
   "id": "5caf68c7-7e93-4964-8283-95a6e8892b3d",
   "metadata": {},
   "outputs": [
    {
     "data": {
      "text/plain": [
       "float"
      ]
     },
     "execution_count": 4,
     "metadata": {},
     "output_type": "execute_result"
    }
   ],
   "source": [
    "type(4.6)"
   ]
  },
  {
   "cell_type": "markdown",
   "id": "3b26ee8b-1ac3-4239-ba50-0e32f85c4462",
   "metadata": {},
   "source": [
    "- String bir float değer int() fonksiyonu ile dönüşmez.\n",
    "\n",
    "- Sıfır dışında her rakam True değerini verir.\n",
    "\n",
    "- Boş bir string ifade dışında tüm string değerler True sonucunu verir"
   ]
  },
  {
   "cell_type": "code",
   "execution_count": null,
   "id": "0e688760-78be-49d2-9832-c1b3232e1768",
   "metadata": {},
   "outputs": [],
   "source": [
    "x = 3\n",
    "y = bool(x)\n",
    "\n",
    "print(y)"
   ]
  },
  {
   "cell_type": "code",
   "execution_count": 49,
   "id": "e9776bba-e821-4340-b75c-578985dc0cc2",
   "metadata": {},
   "outputs": [
    {
     "data": {
      "text/plain": [
       "False"
      ]
     },
     "execution_count": 49,
     "metadata": {},
     "output_type": "execute_result"
    }
   ],
   "source": [
    "bool(\"\")  #boolen ifadenin içerisinde ifade bulunmazsa False çıktısını verir.   "
   ]
  },
  {
   "cell_type": "code",
   "execution_count": 50,
   "id": "3fb318c7-2dce-492a-8850-cfe6ebb9d30b",
   "metadata": {},
   "outputs": [
    {
     "data": {
      "text/plain": [
       "True"
      ]
     },
     "execution_count": 50,
     "metadata": {},
     "output_type": "execute_result"
    }
   ],
   "source": [
    "bool(\" \") #string bir ifadenin içerisinde boşluk olursa True çıktısını verir. "
   ]
  },
  {
   "cell_type": "code",
   "execution_count": 48,
   "id": "1ce45f44-87fd-4fe4-a7cd-ad5062f9d4d2",
   "metadata": {},
   "outputs": [
    {
     "data": {
      "text/plain": [
       "3"
      ]
     },
     "execution_count": 48,
     "metadata": {},
     "output_type": "execute_result"
    }
   ],
   "source": [
    "# Mod (%): Bir sayının diğer sayıya bölümünden kalanı verir.\n",
    "73%5"
   ]
  },
  {
   "cell_type": "code",
   "execution_count": 7,
   "id": "10ae12f0-aa35-4f3c-b246-235cb747781a",
   "metadata": {},
   "outputs": [
    {
     "data": {
      "text/plain": [
       "64"
      ]
     },
     "execution_count": 7,
     "metadata": {},
     "output_type": "execute_result"
    }
   ],
   "source": [
    "#Üs alma\n",
    "4**3"
   ]
  },
  {
   "cell_type": "code",
   "execution_count": 8,
   "id": "16f0fa6d-399c-49d7-8380-41eb20bf69c6",
   "metadata": {},
   "outputs": [
    {
     "data": {
      "text/plain": [
       "6"
      ]
     },
     "execution_count": 8,
     "metadata": {},
     "output_type": "execute_result"
    }
   ],
   "source": [
    "#tam bölme\n",
    "19//3"
   ]
  },
  {
   "cell_type": "code",
   "execution_count": 9,
   "id": "45687d46-deef-45c9-9bdb-0ae0d16931e6",
   "metadata": {},
   "outputs": [
    {
     "data": {
      "text/plain": [
       "'Hi-Kod Hi-Kod Hi-Kod '"
      ]
     },
     "execution_count": 9,
     "metadata": {},
     "output_type": "execute_result"
    }
   ],
   "source": [
    "\"Hi-Kod \" * 3"
   ]
  },
  {
   "cell_type": "markdown",
   "id": "d5319e08-c31b-4189-b804-ec735e1cf376",
   "metadata": {},
   "source": [
    "ÖNCELİK SIRASI: Öncelik Sırası\n",
    "Matematiksel operatörlerin işlem önceliği, standart matematik kurallarına göre belirlenir.\n",
    "\n",
    "Parantezler () kullanarak işlem önceliğini değiştirebilirsiniz.\n",
    "\n",
    "İşlem Önceliği\n",
    "1. Parantezler ()\n",
    "\n",
    "2. Üs alma **\n",
    "\n",
    "3. Çarpma *, Bölme /, Tam Bölme //, Modülüs % (solandan sağa doğru)\n",
    "\n",
    "4. Toplama +, Çıkarma - (solandan sağa doğru)"
   ]
  },
  {
   "cell_type": "code",
   "execution_count": 10,
   "id": "2e34698e-3b87-43b1-9607-0ea234140688",
   "metadata": {},
   "outputs": [
    {
     "data": {
      "text/plain": [
       "'Hi Kod'"
      ]
     },
     "execution_count": 10,
     "metadata": {},
     "output_type": "execute_result"
    }
   ],
   "source": [
    "\"Hi\"+\" Kod\""
   ]
  },
  {
   "cell_type": "code",
   "execution_count": 11,
   "id": "e545e02b-c3f2-440c-bdd4-eeffe3ebaef9",
   "metadata": {},
   "outputs": [
    {
     "data": {
      "text/plain": [
       "True"
      ]
     },
     "execution_count": 11,
     "metadata": {},
     "output_type": "execute_result"
    }
   ],
   "source": [
    "24 != 36"
   ]
  },
  {
   "cell_type": "code",
   "execution_count": 12,
   "id": "67d8d573-4bd0-4496-8579-02aedc723dad",
   "metadata": {},
   "outputs": [
    {
     "data": {
      "text/plain": [
       "False"
      ]
     },
     "execution_count": 12,
     "metadata": {},
     "output_type": "execute_result"
    }
   ],
   "source": [
    "24 == 36"
   ]
  },
  {
   "cell_type": "code",
   "execution_count": 13,
   "id": "01c9521f-3778-448e-b9b5-2fb9dddbca6c",
   "metadata": {},
   "outputs": [
    {
     "data": {
      "text/plain": [
       "True"
      ]
     },
     "execution_count": 13,
     "metadata": {},
     "output_type": "execute_result"
    }
   ],
   "source": [
    "(45 < 50) or (24 < 19)"
   ]
  },
  {
   "cell_type": "code",
   "execution_count": 14,
   "id": "ee7a0e82-0d2a-43c0-9c8e-b8ec28dd5b7a",
   "metadata": {},
   "outputs": [
    {
     "data": {
      "text/plain": [
       "False"
      ]
     },
     "execution_count": 14,
     "metadata": {},
     "output_type": "execute_result"
    }
   ],
   "source": [
    "(45 < 50) and (24 < 19)"
   ]
  },
  {
   "cell_type": "markdown",
   "id": "2477183a-c2c9-438e-b7c2-b7c97502d505",
   "metadata": {},
   "source": [
    "print() : içine atılan değerin çıktısını ekrana yazdırır. \n",
    "\n",
    "1.   Liste öğesi\n",
    "2.   Liste öğesi\n",
    "\n",
    "print() fonksiyonu, parantez içindeki değerleri veya değişkenleri ekrana yazdırır. print() fonksiyonu birden fazla değeri virgülle ayırarak kullanılabilir.\n",
    "\n",
    "type() Python'da bir nesnenin veri tipini döndüren bir fonksiyondur."
   ]
  },
  {
   "cell_type": "code",
   "execution_count": 36,
   "id": "5b31e5bc-8c0a-4da7-8ca4-806ce2a9486d",
   "metadata": {},
   "outputs": [
    {
     "name": "stdout",
     "output_type": "stream",
     "text": [
      "Toplam: 8 Fark: 2\n"
     ]
    }
   ],
   "source": [
    "a = 5\n",
    "b = 3\n",
    "\n",
    "print(\"Toplam:\", a + b, \"Fark:\", a - b)"
   ]
  },
  {
   "cell_type": "code",
   "execution_count": 16,
   "id": "3e26032e-8279-4dbe-bb54-d767fd2f9a32",
   "metadata": {},
   "outputs": [
    {
     "data": {
      "text/plain": [
       "11"
      ]
     },
     "execution_count": 16,
     "metadata": {},
     "output_type": "execute_result"
    }
   ],
   "source": [
    "#len fonksiyonu string ifadelerin uzunluğunu ölçer\n",
    "\"65198223647\"\n",
    "len(\"65198223647\")"
   ]
  },
  {
   "cell_type": "code",
   "execution_count": 15,
   "id": "24f5c0f4-082a-4b41-a3b5-37dc71e94bc2",
   "metadata": {},
   "outputs": [
    {
     "data": {
      "text/plain": [
       "False"
      ]
     },
     "execution_count": 15,
     "metadata": {},
     "output_type": "execute_result"
    }
   ],
   "source": [
    "#not → mantıksal tersleme (negation) işlemidir.\n",
    "not((45 < 50) or (24 < 19))"
   ]
  },
  {
   "cell_type": "code",
   "execution_count": 18,
   "id": "f0550802-edc9-46ff-bf39-cda3a79fda7a",
   "metadata": {},
   "outputs": [
    {
     "data": {
      "text/plain": [
       "13"
      ]
     },
     "execution_count": 18,
     "metadata": {},
     "output_type": "execute_result"
    }
   ],
   "source": [
    "musteri_adi = \"muserrefozkan\"\n",
    "musteri_no = \"259483\"\n",
    "len(musteri_adi)\n"
   ]
  },
  {
   "cell_type": "code",
   "execution_count": 52,
   "id": "0b1579c8-e42e-4eee-9b69-08a4fbdeeb61",
   "metadata": {},
   "outputs": [
    {
     "name": "stdout",
     "output_type": "stream",
     "text": [
      "<class 'str'>\n"
     ]
    }
   ],
   "source": [
    "print(type(musteri_no))"
   ]
  },
  {
   "cell_type": "code",
   "execution_count": null,
   "id": "5ebdd947-2add-4fdf-b5bd-a95ff0f7a90c",
   "metadata": {},
   "outputs": [],
   "source": []
  },
  {
   "cell_type": "code",
   "execution_count": null,
   "id": "021da523-51e4-4f68-b018-18037db7153a",
   "metadata": {},
   "outputs": [],
   "source": []
  },
  {
   "cell_type": "code",
   "execution_count": 53,
   "id": "c373f5a6-b3b4-4539-98ad-43fcb5f7f163",
   "metadata": {},
   "outputs": [
    {
     "name": "stdout",
     "output_type": "stream",
     "text": [
      "['Yazılımla', 'Güçlenen', 'Kadınlar']\n"
     ]
    }
   ],
   "source": [
    "cumle = \"Yazılımla Güçlenen Kadınlar\"\n",
    "kelime = cumle.split()     # split metodunun çıktısı bize liste yapısında döner\n",
    "print(kelime)"
   ]
  },
  {
   "cell_type": "code",
   "execution_count": 21,
   "id": "0e484d63-7403-4b98-a166-5c54885dde80",
   "metadata": {},
   "outputs": [
    {
     "data": {
      "text/plain": [
       "'muserrefozkan'"
      ]
     },
     "execution_count": 21,
     "metadata": {},
     "output_type": "execute_result"
    }
   ],
   "source": [
    "#split() fonksiyonu, bir string’i (metni) belirli bir ayırıcıya göre parçalara bölmeye yarar.\n",
    "musteri_adi"
   ]
  },
  {
   "cell_type": "code",
   "execution_count": 22,
   "id": "49579e64-5248-4c81-a71a-65d822d1e97d",
   "metadata": {},
   "outputs": [
    {
     "data": {
      "text/plain": [
       "['muserrefozkan']"
      ]
     },
     "execution_count": 22,
     "metadata": {},
     "output_type": "execute_result"
    }
   ],
   "source": [
    "musteri_adi.split()"
   ]
  },
  {
   "cell_type": "code",
   "execution_count": 23,
   "id": "a67c25f7-4857-4327-a609-33bd3d5caa30",
   "metadata": {},
   "outputs": [],
   "source": [
    "liste = musteri_adi.split()"
   ]
  },
  {
   "cell_type": "code",
   "execution_count": 38,
   "id": "2e7ce68c-e2a7-416f-a2ff-122f0104e405",
   "metadata": {},
   "outputs": [
    {
     "data": {
      "text/plain": [
       "['muserrefozkan']"
      ]
     },
     "execution_count": 38,
     "metadata": {},
     "output_type": "execute_result"
    }
   ],
   "source": [
    "liste"
   ]
  },
  {
   "cell_type": "code",
   "execution_count": 39,
   "id": "23ca95f0-0430-4cec-8c44-900201d03d28",
   "metadata": {},
   "outputs": [],
   "source": [
    "liste2 = musteri_adi.split(\"e\")"
   ]
  },
  {
   "cell_type": "code",
   "execution_count": 40,
   "id": "72abea44-afa8-43ba-ac3e-53525d350e1e",
   "metadata": {},
   "outputs": [
    {
     "data": {
      "text/plain": [
       "['mus', 'rr', 'fozkan']"
      ]
     },
     "execution_count": 40,
     "metadata": {},
     "output_type": "execute_result"
    }
   ],
   "source": [
    "liste2"
   ]
  },
  {
   "cell_type": "code",
   "execution_count": 41,
   "id": "3dd0f53d-de79-4293-94eb-2b6e21987c85",
   "metadata": {},
   "outputs": [
    {
     "data": {
      "text/plain": [
       "'a'"
      ]
     },
     "execution_count": 41,
     "metadata": {},
     "output_type": "execute_result"
    }
   ],
   "source": [
    "#Indexing (İndeksleme)\n",
    "#Tek bir elemana erişmek için kullanılır.\n",
    "#Python'da indeksler 0'dan başlar.\n",
    "\n",
    "harfler = \"abcdefghijklmn\"\n",
    "harfler[0]#e harfine ulaşalım"
   ]
  },
  {
   "cell_type": "code",
   "execution_count": 42,
   "id": "519343cd-cc78-4d8e-9a28-7b2ea054c6bc",
   "metadata": {},
   "outputs": [
    {
     "data": {
      "text/plain": [
       "'e'"
      ]
     },
     "execution_count": 42,
     "metadata": {},
     "output_type": "execute_result"
    }
   ],
   "source": [
    "#e harfine ulaşalım\n",
    "harfler[4]"
   ]
  },
  {
   "cell_type": "code",
   "execution_count": 43,
   "id": "ff178e8f-6352-495c-ba0a-658cc8b3dc9b",
   "metadata": {},
   "outputs": [
    {
     "data": {
      "text/plain": [
       "'n'"
      ]
     },
     "execution_count": 43,
     "metadata": {},
     "output_type": "execute_result"
    }
   ],
   "source": [
    "harfler[-1]"
   ]
  },
  {
   "cell_type": "markdown",
   "id": "5e94b61a-b5d4-4ab0-8aa2-f7ffd222a341",
   "metadata": {},
   "source": [
    "# indexleme\n",
    "\n",
    "indexleme (indeksleme), Python'da bir veri yapısının (liste, tuple, dize vb.) belirli bir öğesine erişmek için kullanılan bir kavramdır. Pşython'da indeksleme 0'dan başlar, yani ilk öğe 0 indeksiyle temsil edilir.\n",
    "\n",
    "Köşeli parantezler ile kullanılır. "
   ]
  },
  {
   "cell_type": "code",
   "execution_count": 44,
   "id": "ecf4a2f7-2034-4ba8-af06-e77a2520ebd0",
   "metadata": {},
   "outputs": [
    {
     "data": {
      "text/plain": [
       "'abcde'"
      ]
     },
     "execution_count": 44,
     "metadata": {},
     "output_type": "execute_result"
    }
   ],
   "source": [
    "harfler[0:5]"
   ]
  },
  {
   "cell_type": "code",
   "execution_count": 45,
   "id": "228c668c-9157-44c9-8b3a-bfa56b47f082",
   "metadata": {},
   "outputs": [
    {
     "data": {
      "text/plain": [
       "'acegikm'"
      ]
     },
     "execution_count": 45,
     "metadata": {},
     "output_type": "execute_result"
    }
   ],
   "source": [
    "harfler[::2]"
   ]
  },
  {
   "cell_type": "code",
   "execution_count": null,
   "id": "9a1d7d1e-358e-4655-952f-dfcb16de90a4",
   "metadata": {},
   "outputs": [],
   "source": [
    "#input kullanıcıdan değer almak için kullanılır\n",
    "input(\"Adınız:\")"
   ]
  },
  {
   "cell_type": "markdown",
   "id": "341a4bfb-4383-41c5-92ea-9c4ff47c971a",
   "metadata": {},
   "source": [
    "# SLİCE metodu\n",
    "\n",
    "\n",
    "Python'da slice() fonksiyonu, dilimleme (slicing) işlemlerini yapmak için kullanılan bir fonksiyondur. \n",
    "\n",
    "slice[start: stop: step]\n",
    "\n",
    "start (opsiyonel): Dilimlemenin başlangıç indeksi. Varsayılan olarak None kullanılır (ilk öğeden başlar).\n",
    "\n",
    "stop: Dilimlemenin bitiş indeksi (dahil edilmez).\n",
    "\n",
    "step (opsiyonel): Dilimleme adımı. Varsayılan olarak None kullanılır (birer birer alır)."
   ]
  },
  {
   "cell_type": "markdown",
   "id": "e6732500-dbce-410e-a7a3-979755c2f850",
   "metadata": {},
   "source": [
    "Değişken adları;\n",
    "- Değişken adları sayı ile başlayamaz.\n",
    "- Değişken adları ya bir alfabe harfiyle ya da _ işaretiyle başlamalıdır.\n",
    "- Değişken adı seçilirken türkçe karakter kullanmamaya dikkat edilmelidir.(Kullanılması sorun değil ama tercih edilmez.)\n",
    "- Pythonda özel anlam ifade eden sözcükler değişken adı olarak kullanılamaz(for,elif,list)"
   ]
  },
  {
   "cell_type": "markdown",
   "id": "6f095720-d5c3-4971-96f0-b600f52f97d8",
   "metadata": {},
   "source": [
    "#VERİ TİPİ DÖNÜŞÜMLERİ: \n",
    "\n",
    "Belirli durumlarda, Python'da veri tiplerini açıkça belirterek dönüşüm yapabilirsiniz. Bu genellikle int(), float(), str(), bool() vb. gibi fonksiyonlar kullanılarak yapılır. \n",
    "\n",
    "Veri tipi dönüşümü, Python'da veri işleme ve programlama esnekliğini artıran önemli bir kavramdır.\n",
    "\n",
    "Bazı dönüşümler başarısız olabilir ve ValueError hatası verebilir."
   ]
  },
  {
   "cell_type": "markdown",
   "id": "42895618-35e8-4a1c-a98d-e8563e77ae25",
   "metadata": {},
   "source": [
    "# Değişkenleri Adlandırma\n",
    "\n",
    "1. Geçerli İsimlendirme Kuralları:\n",
    "\n",
    "- Değişken adları harf (a-z veya A-Z) veya alt çizgi (_) ile başlamalıdır.\n",
    "\n",
    "- Rakamlarla başlamaz. \n",
    "\n",
    "- Değişken adları harf, rakam veya alt çizgi dışında hiçbir özel karakter içeremez (ör. @, #, $, % gibi).\n",
    "\n",
    "- Boşluk içeremez ve tire (-) kullanılamaz.\n",
    "\n",
    "- Python anahtar kelimeleri (keywords) değişken adı olarak kullanılamaz (if, else, for, while, def vb.).\n",
    "\n",
    "\n",
    "2. Anlamlı ve Açıklayıcı Olmalı:\n",
    "\n",
    "- Değişken adları neyi temsil ettiğini açık bir şekilde belirtmelidir. \n",
    "- Kodun okunabilirliğini artırmak için anlamlı isimler tercih edilmelidir.\n",
    "\n",
    "Örneğin, age, name, total_count gibi isimler anlamlı ve anlaşılır değişken adlarıdır.\n",
    "\n",
    "\n",
    "3. Büyük Küçük Harf Duyarlılığı:\n",
    "\n",
    "- Python büyük küçük harf duyarlı bir dildir. Yani age, Age ve AGE farklı değişkenler olarak kabul edilir.\n",
    "\n",
    "- Genellikle değişken adlarının küçük harfle başlaması ve ardından gerektiğinde büyük harfle ayrım yapılması \n",
    "(camelCase veya snake_case gibi) tercih edilir.\n",
    "\n",
    "\n",
    "4. Tek Kelimeden Oluşmalı veya Ayrımlar İyi Kullanılmalı:\n",
    "\n",
    "- Değişken adları genellikle tek kelimeden oluşmalı veya birden fazla kelime kullanılıyorsa kelimeler arasında alt çizgi (_) veya büyük harf (camelCase) gibi ayrımlar kullanılmalıdır.\n",
    "\n",
    "Örneğin, first_name, lastName, customerCount gibi.\n",
    "\n",
    "5. Uzunluk ve Karmaşıklık:\n",
    "\n",
    "- Değişken adları çok uzun veya çok karmaşık olmamalıdır. Okunabilirliği zorlaştırabilir ve hata yapma olasılığını artırabilir.\n",
    "\n",
    "- Uzun değişken adlarının anlamını kaybetmemesi için kısaltmaktan kaçınılmalı ve mümkünse daha açıklayıcı alternatifler tercih edilmelidir."
   ]
  }
 ],
 "metadata": {
  "kernelspec": {
   "display_name": "Python [conda env:base] *",
   "language": "python",
   "name": "conda-base-py"
  },
  "language_info": {
   "codemirror_mode": {
    "name": "ipython",
    "version": 3
   },
   "file_extension": ".py",
   "mimetype": "text/x-python",
   "name": "python",
   "nbconvert_exporter": "python",
   "pygments_lexer": "ipython3",
   "version": "3.12.7"
  }
 },
 "nbformat": 4,
 "nbformat_minor": 5
}
