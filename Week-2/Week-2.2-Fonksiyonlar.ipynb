{
  "cells": [
    {
      "cell_type": "markdown",
      "metadata": {
        "id": "view-in-github",
        "colab_type": "text"
      },
      "source": [
        "<a href=\"https://colab.research.google.com/github/elifozlembagci/Kodluyoruz---Veri-Bilimi-Bootcamp/blob/main/Week-2.2-Fonksiyonlar.ipynb\" target=\"_parent\"><img src=\"https://colab.research.google.com/assets/colab-badge.svg\" alt=\"Open In Colab\"/></a>"
      ]
    },
    {
      "cell_type": "markdown",
      "id": "9af9cc78",
      "metadata": {
        "id": "9af9cc78"
      },
      "source": [
        "#Fonksiyonlar\n",
        "\n",
        "Fonksiyonlar, belirli bir işlemi veya bir dizi işlemi gerçekleştirmek için kullanılan kod bloklarıdır. Fonksiyonlar sayesinde kodu daha modüler, okunabilir ve tekrar kullanılabilir hale getiririz. Fonksiyonlar iki aşamadan oluşur: tanımlama ve çağırma.\n",
        "\n",
        "1. Fonksiyonu Tanımlama\n",
        "\n",
        "Fonksiyon tanımlarken def ifadesi kullanılır.\n",
        "\n",
        "def ifadesi: Bu ifade, Python'a bir fonksiyon tanımlayacağımızı bildirir.\n",
        "\n",
        "Fonksiyon adı: def ifadesinden sonra, fonksiyonun adını yazarız. Bu ad, fonksiyonun ne yaptığını anlamamıza yardımcı olacak anlamlı bir isim olmalıdır.\n",
        "\n",
        "İki nokta üst üste (:): Fonksiyon adından sonra iki nokta üst üste koyarak, fonksiyonun tanımının başladığını belirtiriz.\n",
        "\n",
        "Girintili kod: Fonksiyonun yapacağı işlemi belirten kodlar, bir girinti (genellikle dört boşluk veya bir tab tuşu) ile yazılır. Bu, Python'da blokların başladığını belirtir.\n",
        "\n",
        "2. Fonksiyonu Çağırma\n",
        "\n",
        "Fonksiyonu tanımladıktan sonra, onu çağırarak çalıştırabiliriz. Fonksiyonu çağırmak için fonksiyon adını ve parantezlerini kullanırız."
      ]
    },
    {
      "cell_type": "markdown",
      "id": "929e38e4",
      "metadata": {
        "id": "929e38e4"
      },
      "source": [
        "Şimdiye kadar kullandığımız bazı fonksiyonlar Python'un gömülü (built-in) fonksiyonlarıdır. Bu fonksiyonlar, Python dilinin içinde hazır olarak bulunur ve hemen kullanılabilir. Örnek olarak:\n",
        "\n",
        "- print(): Ekrana çıktı verir.\n",
        "- type(): Bir nesnenin türünü döner.\n",
        "- int(): Bir değeri tam sayıya dönüştürür.\n",
        "- str(): Bir değeri string (metin) tipine dönüştürür.\n",
        "\n",
        "Özel fonksiyonlar ise kullanıcıların kendi ihtiyaçlarına göre tanımladıkları fonksiyonlardır."
      ]
    },
    {
      "cell_type": "code",
      "execution_count": null,
      "id": "273bb9af",
      "metadata": {
        "id": "273bb9af",
        "outputId": "8a9e98ce-85ef-411c-bebb-2d0a13114985"
      },
      "outputs": [
        {
          "name": "stdout",
          "output_type": "stream",
          "text": [
            "111 sayısına 1 eklenirse 112 olur\n"
          ]
        }
      ],
      "source": [
        "#yaş değerine 1 ekleyen bir fonksiyon oluşturalım.\n",
        "\n",
        "def ekle(sayi):\n",
        "    yeni_sayi = sayi + 1\n",
        "    print(str(sayi) + \" sayısına 1 eklenirse \" + str(yeni_sayi) + \" olur\")\n",
        "\n",
        "ekle(111)\n"
      ]
    },
    {
      "cell_type": "code",
      "execution_count": null,
      "id": "48752908",
      "metadata": {
        "id": "48752908",
        "outputId": "f122e078-42aa-4c47-d247-241b56585278"
      },
      "outputs": [
        {
          "name": "stdout",
          "output_type": "stream",
          "text": [
            "Araç saatte 90 km hızla 4 saat giderse 360 km yol alır\n"
          ]
        }
      ],
      "source": [
        "#mesafe hesaplama\n",
        "\n",
        "def mesafe_hesapla(hiz, sure):\n",
        "    mesafe = hiz * sure\n",
        "    print(\"Araç saatte \" + str(hiz) + \" km hızla \" + str(sure) + \" saat giderse \" + str(mesafe) + \" km yol alır\")\n",
        "\n",
        "mesafe_hesapla(90, 4)"
      ]
    },
    {
      "cell_type": "code",
      "execution_count": null,
      "id": "b06c1b8a",
      "metadata": {
        "id": "b06c1b8a"
      },
      "outputs": [],
      "source": [
        "def ekle(sayi):\n",
        "    yeni_sayi = sayi + 1\n",
        "    print(str(sayi) + \" sayısına 1 eklenirse \" + str(yeni_sayi) + \" olur\")\n",
        "\n",
        "ekle(111)"
      ]
    },
    {
      "cell_type": "markdown",
      "id": "8f7284c8",
      "metadata": {
        "id": "8f7284c8"
      },
      "source": [
        "# Format() Metodu ile print()\n",
        "\n",
        "Python'da format() metodu, bir dize içindeki boşluk yer tutucularını (placeholder) belirli değerlerle doldurmak için kullanılır. Bu yöntem, bir dize içindeki {} süslü parantezler içine geçirilen değişkenleri sırayla veya isimle eşleştirerek dizeyi biçimlendirir."
      ]
    },
    {
      "cell_type": "code",
      "execution_count": null,
      "id": "ebd7eb82",
      "metadata": {
        "id": "ebd7eb82",
        "outputId": "7959270e-6fc0-4e5c-ce1e-40e2b728532d"
      },
      "outputs": [
        {
          "name": "stdout",
          "output_type": "stream",
          "text": [
            "111 sayısına 1 eklenirse 112 saysı olur\n"
          ]
        }
      ],
      "source": [
        "def ekle(sayi):\n",
        "    yeni_sayi = sayi + 1\n",
        "    print(\"{} sayısına 1 eklenirse {} saysı olur\".format(sayi,yeni_sayi))\n",
        "\n",
        "ekle(111)"
      ]
    },
    {
      "cell_type": "markdown",
      "id": "e4ec6b4f",
      "metadata": {
        "id": "e4ec6b4f"
      },
      "source": [
        "# f-string ile print\n",
        "\n",
        "\n",
        "f-string, Python 3.6 ve sonrasında tanıtılan bir özelliktir ve değişkenleri ve ifadeleri string içerisinde daha okunabilir ve kolay bir şekilde eklemenizi sağlar. f-string kullanarak, string içinde değişkenlerin değerlerini veya ifadelerin sonuçlarını eklemek için süslü parantezler {} kullanırız. f-string, f veya F karakteri ile başlar."
      ]
    },
    {
      "cell_type": "code",
      "execution_count": null,
      "id": "4a9da383",
      "metadata": {
        "id": "4a9da383",
        "outputId": "347cb7d4-31c0-45e2-b292-d2dec5607b97"
      },
      "outputs": [
        {
          "name": "stdout",
          "output_type": "stream",
          "text": [
            "111 sayısına 1 eklenirse 112 saysı olur\n"
          ]
        }
      ],
      "source": [
        "def ekle(sayi):\n",
        "    yeni_sayi = sayi + 1\n",
        "    print(f\"{sayi} sayısına 1 eklenirse {yeni_sayi} saysı olur\")\n",
        "\n",
        "ekle(111)"
      ]
    },
    {
      "cell_type": "code",
      "execution_count": null,
      "id": "41fa5706",
      "metadata": {
        "id": "41fa5706",
        "outputId": "f4a349a1-8e8f-4f3d-a589-d0cdf816cd07"
      },
      "outputs": [
        {
          "name": "stdout",
          "output_type": "stream",
          "text": [
            "Merhaba benim adım Ahmet ve 25 yaşındayım.\n"
          ]
        }
      ],
      "source": [
        "isim = \"Ahmet\"\n",
        "yas = 25\n",
        "\n",
        "print(f\"Merhaba benim adım {isim} ve {yas} yaşındayım.\")"
      ]
    },
    {
      "cell_type": "code",
      "execution_count": null,
      "id": "6dec0c20",
      "metadata": {
        "id": "6dec0c20",
        "outputId": "8039501f-7791-412d-d1bd-b921c380acd8"
      },
      "outputs": [
        {
          "name": "stdout",
          "output_type": "stream",
          "text": [
            "4.5 bardak portakal suyu elde ettiniz.\n"
          ]
        }
      ],
      "source": [
        "#fonksiyon örneği yazalım.\n",
        "#portakal sıkma makinesini bir fonksiyona dönüştürelim.\n",
        "\n",
        "def portakal_suyu_makinesi(portakal):\n",
        "    portakal_suyu = portakal * 0.5 #Her portakal %50 su olduğunu düşünürsek\n",
        "    print(f\"{portakal_suyu} bardak portakal suyu elde ettiniz.\") #Sonucu yazdırıyoruz\n",
        "\n",
        "#portakalları sıkıyoruz\n",
        "portakal_sayisi = int(input(\"Kaç portakal var? \"))\n",
        "portakal_suyu_makinesi(portakal_sayisi)"
      ]
    },
    {
      "cell_type": "code",
      "execution_count": null,
      "id": "c8e77e96",
      "metadata": {
        "id": "c8e77e96",
        "outputId": "e722a889-3f88-46d9-a3b5-5a8f581ac035"
      },
      "outputs": [
        {
          "name": "stdout",
          "output_type": "stream",
          "text": [
            "Müşteri Adı:  Büşra Türkmenoğlu\n",
            "Müşteri No:  238623\n",
            "Şehir:  Mersin\n",
            "Meslek:  İzleme ve Değerlendirme Sorumlusu\n"
          ]
        }
      ],
      "source": [
        "#Fonksiyonlar bizlere bir çok açıdan kolaylık sağlıyor.\n",
        "\n",
        "musteri_adi = \"Büşra Türkmenoğlu\"\n",
        "musteri_no = \"238623\"\n",
        "sehir = \"Mersin\"\n",
        "meslek = \"İzleme ve Değerlendirme Sorumlusu\"\n",
        "\n",
        "print(\"Müşteri Adı: \", musteri_adi)\n",
        "print(\"Müşteri No: \", musteri_no)\n",
        "print(\"Şehir: \", sehir)\n",
        "print(\"Meslek: \", meslek)"
      ]
    },
    {
      "cell_type": "code",
      "execution_count": null,
      "id": "db76d16f",
      "metadata": {
        "id": "db76d16f",
        "outputId": "835ca259-d6c8-4990-8265-b860dab0c731"
      },
      "outputs": [
        {
          "name": "stdout",
          "output_type": "stream",
          "text": [
            "Müşteri Adı:  Büşra Türkmenoğlu\n",
            "Müşteri No:  238623\n",
            "Şehir:  Mersin\n",
            "Meslek:  İzleme ve Değerlendirme Sorumlusu\n",
            "-------------------------\n",
            "Müşteri Adı:  Sinem Akyaman\n",
            "Müşteri No:  24636\n",
            "Şehir:  Mersin\n",
            "Meslek:  Sosyal Medya Sorumlusu\n",
            "-------------------------\n",
            "Müşteri Adı:  Emine Herkçi\n",
            "Müşteri No:  2345336\n",
            "Şehir:  Mersin\n",
            "Meslek:  Proje Asistanı\n"
          ]
        }
      ],
      "source": [
        "musteri_adi = \"Büşra Türkmenoğlu\"\n",
        "musteri_no = \"238623\"\n",
        "sehir = \"Mersin\"\n",
        "meslek = \"İzleme ve Değerlendirme Sorumlusu\"\n",
        "\n",
        "print(\"Müşteri Adı: \", musteri_adi)\n",
        "print(\"Müşteri No: \", musteri_no)\n",
        "print(\"Şehir: \", sehir)\n",
        "print(\"Meslek: \", meslek)\n",
        "print(\"-------------------------\")\n",
        "\n",
        "musteri_adi = \"Sinem Akyaman\"\n",
        "musteri_no = \"24636\"\n",
        "sehir = \"Mersin\"\n",
        "meslek = \"Sosyal Medya Sorumlusu\"\n",
        "\n",
        "print(\"Müşteri Adı: \", musteri_adi)\n",
        "print(\"Müşteri No: \", musteri_no)\n",
        "print(\"Şehir: \", sehir)\n",
        "print(\"Meslek: \", meslek)\n",
        "print(\"-------------------------\")\n",
        "\n",
        "musteri_adi = \"Emine Herkçi\"\n",
        "musteri_no = \"2345336\"\n",
        "sehir = \"Mersin\"\n",
        "meslek = \"Proje Asistanı\"\n",
        "\n",
        "print(\"Müşteri Adı: \", musteri_adi)\n",
        "print(\"Müşteri No: \", musteri_no)\n",
        "print(\"Şehir: \", sehir)\n",
        "print(\"Meslek: \", meslek)"
      ]
    },
    {
      "cell_type": "code",
      "execution_count": null,
      "id": "4328ce81",
      "metadata": {
        "id": "4328ce81",
        "outputId": "cda0ef92-70e0-429e-aa25-8ed68672d08b"
      },
      "outputs": [
        {
          "name": "stdout",
          "output_type": "stream",
          "text": [
            "Müşteri Adı:  Büşra Türkmenoğlu\n",
            "Müşteri No:  49859\n",
            "Şehir:  Mersin\n",
            "Meslek:  İzleme ve Değerlendirme Sorumlusu\n",
            "-------------------------\n",
            "Müşteri Adı:  Sinem Akyaman\n",
            "Müşteri No:  4857348\n",
            "Şehir:  Mersin\n",
            "Meslek:  Sosyal Medya Sorumlusu\n",
            "-------------------------\n",
            "Müşteri Adı:  Emine Herkçi\n",
            "Müşteri No:  4857348\n",
            "Şehir:  Mersin\n",
            "Meslek:  Proje Asistanı\n",
            "-------------------------\n"
          ]
        }
      ],
      "source": [
        "def musteri_bilgisi(isim, no, sehir, meslek):\n",
        "    print(\"Müşteri Adı: \",isim)\n",
        "    print(\"Müşteri No: \", no)\n",
        "    print(\"Şehir: \", sehir)\n",
        "    print(\"Meslek: \", meslek)\n",
        "    print(\"-------------------------\")\n",
        "\n",
        "musteri_bilgisi(\"Büşra Türkmenoğlu\", \"49859\", \"Mersin\", \"İzleme ve Değerlendirme Sorumlusu\")\n",
        "musteri_bilgisi(\"Sinem Akyaman\", \"4857348\", \"Mersin\", \"Sosyal Medya Sorumlusu\")\n",
        "musteri_bilgisi(\"Emine Herkçi\", \"4857348\", \"Mersin\", \"Proje Asistanı\")"
      ]
    },
    {
      "cell_type": "code",
      "execution_count": null,
      "id": "02036ca8",
      "metadata": {
        "id": "02036ca8",
        "outputId": "e2824eb5-36d5-4c41-aabb-29320f4e46ba"
      },
      "outputs": [
        {
          "name": "stdout",
          "output_type": "stream",
          "text": [
            "9 sayısının karesi 81\n",
            "16 sayısının karesi 256\n",
            "25 sayısının karesi 625\n",
            "25 sayısının karesi 625\n",
            "25 sayısının karesi 625\n",
            "25 sayısının karesi 625\n",
            "25 sayısının karesi 625\n",
            "25 sayısının karesi 625\n",
            "25 sayısının karesi 625\n"
          ]
        }
      ],
      "source": [
        "#üç sayı tanımlama ve karesini print ile yazdıralım\n",
        "\n",
        "sayi1 = 9\n",
        "print(str(sayi1) + \" sayısının karesi \" + str(sayi1**2))\n",
        "\n",
        "sayi2 = 16\n",
        "print(str(sayi2) + \" sayısının karesi \" + str(sayi2**2))\n",
        "\n",
        "sayi3 = 25\n",
        "print(str(sayi3) + \" sayısının karesi \" + str(sayi3**2))\n"
      ]
    },
    {
      "cell_type": "code",
      "execution_count": null,
      "id": "c1119694",
      "metadata": {
        "id": "c1119694",
        "outputId": "b63b4697-61b8-4c75-d9ea-bebf5dada4b0"
      },
      "outputs": [
        {
          "name": "stdout",
          "output_type": "stream",
          "text": [
            "225\n"
          ]
        }
      ],
      "source": [
        "#Bahar'ın Kodu\n",
        "\n",
        "def sayi_kare(sayi):\n",
        "    sayi = sayi**2\n",
        "    print(sayi)\n",
        "\n",
        "sayi_kare(15)"
      ]
    },
    {
      "cell_type": "code",
      "execution_count": null,
      "id": "0b52221f",
      "metadata": {
        "id": "0b52221f",
        "outputId": "63d51795-c1d4-4cc3-ff69-4b456260d89a"
      },
      "outputs": [
        {
          "name": "stdout",
          "output_type": "stream",
          "text": [
            "4 sayısının karesi 16\n"
          ]
        }
      ],
      "source": [
        "#Beyza'nın kodu\n",
        "\n",
        "#1. Kısım Fonkisyon tanımlama\n",
        "def kare_hesaplama(sayi):\n",
        "    print(str(sayi) + \" sayısının karesi \" + str(sayi*sayi))\n",
        "\n",
        "\n",
        "#2. Kısım Fonksiyon çağırma\n",
        "kare_hesaplama(4)\n"
      ]
    },
    {
      "cell_type": "code",
      "execution_count": null,
      "id": "566bc2ae",
      "metadata": {
        "id": "566bc2ae",
        "outputId": "d5898bcb-6068-4dc8-ae38-23e82989c11a"
      },
      "outputs": [
        {
          "name": "stdout",
          "output_type": "stream",
          "text": [
            "Girilen 15 sayisinin karesi: 225\n"
          ]
        }
      ],
      "source": [
        "#Büşra'nın kodu\n",
        "\n",
        "def kare_al(sayi):\n",
        "    print(\"Girilen {} sayisinin karesi: {}\".format(sayi,sayi*sayi))\n",
        "\n",
        "kare_al(15)"
      ]
    },
    {
      "cell_type": "code",
      "execution_count": null,
      "id": "ceb13061",
      "metadata": {
        "id": "ceb13061",
        "outputId": "bc165316-2672-4047-f7b5-f2cfb91a3827"
      },
      "outputs": [
        {
          "name": "stdout",
          "output_type": "stream",
          "text": [
            "9 sayısının karesi 81, küpü 729\n",
            "16 sayısının karesi 256, küpü 4096\n",
            "25 sayısının karesi 625, küpü 15625\n"
          ]
        }
      ],
      "source": [
        "# Fonksiyonlarda yenilikler kattığımızda bunu yapmanın ne kadar kolay olduğunu görelim.\n",
        "\n",
        "sayi1 = 9\n",
        "print(str(sayi1) + \" sayısının karesi \" + str(sayi1**2) + \", küpü \" + str(sayi1**3))\n",
        "\n",
        "sayi2 = 16\n",
        "print(str(sayi2) + \" sayısının karesi \" + str(sayi2**2) + \", küpü \" + str(sayi2**3))\n",
        "\n",
        "sayi3 = 25\n",
        "print(str(sayi3) + \" sayısının karesi \" + str(sayi3**2) + \", küpü \" + str(sayi3**3))"
      ]
    },
    {
      "cell_type": "code",
      "execution_count": null,
      "id": "3e1cc578",
      "metadata": {
        "id": "3e1cc578",
        "outputId": "246598aa-f6fd-4254-ef05-b9fecdd13c23"
      },
      "outputs": [
        {
          "name": "stdout",
          "output_type": "stream",
          "text": [
            "4 sayısının karesi 16, küpü 64\n",
            "2 sayısının karesi 4, küpü 8\n",
            "3 sayısının karesi 9, küpü 27\n"
          ]
        }
      ],
      "source": [
        "def hesaplama(sayi):\n",
        "    print(str(sayi) + \" sayısının karesi \" + str(sayi**2) + \", küpü \" + str(sayi**3))\n",
        "\n",
        "hesaplama(4)\n",
        "hesaplama(2)\n",
        "hesaplama(3)\n"
      ]
    },
    {
      "cell_type": "code",
      "execution_count": null,
      "id": "2051ccab",
      "metadata": {
        "id": "2051ccab",
        "outputId": "0550e48a-7a2a-4684-97a8-43ea6cd6075d"
      },
      "outputs": [
        {
          "name": "stdout",
          "output_type": "stream",
          "text": [
            "6 sayısının karesi 36, küpü 216\n"
          ]
        }
      ],
      "source": [
        "hesaplama(6)"
      ]
    },
    {
      "cell_type": "markdown",
      "id": "59ddb1d1",
      "metadata": {
        "id": "59ddb1d1"
      },
      "source": [
        "Return Nedir?\n",
        "\n",
        "Return, bir fonksiyonun sonucunu geri döndürmek için kullanılır.\n",
        "Fonksiyon çalıştığında, belirli bir değeri hesaplar ve bu değeri geri verir.\n",
        "\n",
        "Neden Return Kullanmalıyız?\n",
        "\n",
        "Fonksiyonlar sadece bir işlem yapmakla kalmaz, aynı zamanda bu işlemin sonucunu döndürmek için return ifadesine ihtiyaç duyarlar. Bu, programın daha modüler ve yeniden kullanılabilir olmasını sağlar."
      ]
    },
    {
      "cell_type": "code",
      "execution_count": null,
      "id": "b0af118d",
      "metadata": {
        "id": "b0af118d",
        "outputId": "c3256642-c27c-4f39-aba0-756a57b2831d"
      },
      "outputs": [
        {
          "name": "stdout",
          "output_type": "stream",
          "text": [
            "4\n"
          ]
        },
        {
          "ename": "TypeError",
          "evalue": "unsupported operand type(s) for *: 'NoneType' and 'int'",
          "output_type": "error",
          "traceback": [
            "\u001b[0;31m---------------------------------------------------------------------------\u001b[0m",
            "\u001b[0;31mTypeError\u001b[0m                                 Traceback (most recent call last)",
            "Cell \u001b[0;32mIn[55], line 5\u001b[0m\n\u001b[1;32m      2\u001b[0m     sonuc \u001b[38;5;241m=\u001b[39m sayi\u001b[38;5;241m*\u001b[39m\u001b[38;5;241m*\u001b[39m\u001b[38;5;241m2\u001b[39m\n\u001b[1;32m      3\u001b[0m     \u001b[38;5;28mprint\u001b[39m(sonuc)\n\u001b[0;32m----> 5\u001b[0m kare_hesaplama(\u001b[38;5;241m2\u001b[39m) \u001b[38;5;241m*\u001b[39m \u001b[38;5;241m3\u001b[39m\n",
            "\u001b[0;31mTypeError\u001b[0m: unsupported operand type(s) for *: 'NoneType' and 'int'"
          ]
        }
      ],
      "source": [
        "def kare_hesaplama(sayi):\n",
        "    sonuc = sayi**2\n",
        "    print(sonuc)\n",
        "\n",
        "kare_hesaplama(2) * 3"
      ]
    },
    {
      "cell_type": "code",
      "execution_count": null,
      "id": "5137789c",
      "metadata": {
        "id": "5137789c",
        "outputId": "b8a80613-b446-4a8d-ae48-00d5f69b70db"
      },
      "outputs": [
        {
          "ename": "TypeError",
          "evalue": "kare_hesaplama() takes 1 positional argument but 2 were given",
          "output_type": "error",
          "traceback": [
            "\u001b[0;31m---------------------------------------------------------------------------\u001b[0m",
            "\u001b[0;31mTypeError\u001b[0m                                 Traceback (most recent call last)",
            "Cell \u001b[0;32mIn[64], line 6\u001b[0m\n\u001b[1;32m      3\u001b[0m     \u001b[38;5;28mprint\u001b[39m(sonuc)\n\u001b[1;32m      4\u001b[0m     \u001b[38;5;28;01mreturn\u001b[39;00m sonuc \u001b[38;5;66;03m# Bu satır fonksiyonunun sonucunu döndürür\u001b[39;00m\n\u001b[0;32m----> 6\u001b[0m kare_hesaplama(\u001b[38;5;241m2\u001b[39m, \u001b[38;5;241m4\u001b[39m) \u001b[38;5;241m*\u001b[39m \u001b[38;5;241m3\u001b[39m\n\u001b[1;32m      7\u001b[0m kare_hesaplama(\u001b[38;5;241m2\u001b[39m) \u001b[38;5;241m*\u001b[39m \u001b[38;5;124m\"\u001b[39m\u001b[38;5;124mBüşra \u001b[39m\u001b[38;5;124m\"\u001b[39m\n",
            "\u001b[0;31mTypeError\u001b[0m: kare_hesaplama() takes 1 positional argument but 2 were given"
          ]
        }
      ],
      "source": [
        "def kare_hesaplama(sayi):\n",
        "    sonuc = sayi**2\n",
        "    print(sonuc)\n",
        "    return sonuc # Bu satır fonksiyonunun sonucunu döndürür\n",
        "\n",
        "kare_hesaplama(2) * 3\n",
        "kare_hesaplama(2) * \"Büşra \""
      ]
    },
    {
      "cell_type": "markdown",
      "id": "0a1b9976",
      "metadata": {
        "id": "0a1b9976"
      },
      "source": [
        " Python’da dinamik programlama yaparken işini kolaylaştırır.\n",
        "\n",
        "🔹 Önce Tanımlar\n",
        "\n",
        "1. *args (tek yıldız)\n",
        "Birden fazla konum (sırasız) argümanı alır.\n",
        "Tüm gelen değerleri tuple içinde saklar.\n",
        "\n",
        "2. **kwargs (çift yıldız)\n",
        "Anahtar=değer şeklinde gelen argümanları alır.\n",
        "Tüm gelen değerleri dictionary (sözlük) içinde saklar.\n",
        "\n",
        "🎯 Neden Bu Kadar Önemli?\n",
        "\n",
        "Sen bir fonksiyon yazarken kaç tane değer geleceğini bilmiyorsan, veya kullanıcıdan gelen veri değişkenlik gösteriyorsa, bu yöntemleri kullanırsın.\n"
      ]
    },
    {
      "cell_type": "code",
      "execution_count": null,
      "id": "aac820a3",
      "metadata": {
        "id": "aac820a3",
        "outputId": "24e657d1-01de-47ad-e1d2-e10d12840e82"
      },
      "outputs": [
        {
          "name": "stdout",
          "output_type": "stream",
          "text": [
            "Toplam 8\n",
            "Toplam 45\n"
          ]
        }
      ],
      "source": [
        "def topla(*args):\n",
        "    toplam = 0\n",
        "    for sayi in args:\n",
        "        toplam += sayi # toplam = toplam + sayi\n",
        "    print(\"Toplam\", toplam)\n",
        "\n",
        "topla(3,5)\n",
        "topla(1, 2, 3, 4, 5, 6, 7, 8, 9)"
      ]
    },
    {
      "cell_type": "code",
      "execution_count": null,
      "id": "7f6b01d3",
      "metadata": {
        "id": "7f6b01d3",
        "outputId": "5c87516c-a59c-482d-fd89-188100be866d"
      },
      "outputs": [
        {
          "name": "stdout",
          "output_type": "stream",
          "text": [
            "ad: Büşra\n",
            "soyad: Türkmenoğlu\n",
            "ad: Büşra\n",
            "soyad: Türkmenoğlu\n",
            "yas: 30\n",
            "meslek: M&E Oficcer\n"
          ]
        }
      ],
      "source": [
        "def musteri_bilgisi(**kwargs):\n",
        "    for anahtar, deger in kwargs.items():  #kwargs.items(): Anahtar - Değer çiftini verecek\n",
        "        print(f\"{anahtar}: {deger}\")\n",
        "\n",
        "musteri_bilgisi(ad = \"Büşra\", soyad = \"Türkmenoğlu\")\n",
        "musteri_bilgisi(ad = \"Büşra\", soyad = \"Türkmenoğlu\", yas = 30 , meslek = \"M&E Oficcer\")"
      ]
    },
    {
      "cell_type": "code",
      "execution_count": null,
      "id": "7febb17d",
      "metadata": {
        "id": "7febb17d"
      },
      "outputs": [],
      "source": []
    }
  ],
  "metadata": {
    "kernelspec": {
      "display_name": "Python 3 (ipykernel)",
      "language": "python",
      "name": "python3"
    },
    "language_info": {
      "codemirror_mode": {
        "name": "ipython",
        "version": 3
      },
      "file_extension": ".py",
      "mimetype": "text/x-python",
      "name": "python",
      "nbconvert_exporter": "python",
      "pygments_lexer": "ipython3",
      "version": "3.11.4"
    },
    "colab": {
      "provenance": [],
      "include_colab_link": true
    }
  },
  "nbformat": 4,
  "nbformat_minor": 5
}