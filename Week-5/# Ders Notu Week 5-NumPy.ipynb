{
 "cells": [
  {
   "cell_type": "markdown",
   "id": "a5192c05-cce9-43f3-8a44-fa9f817660a1",
   "metadata": {},
   "source": [
    "# Ders Notu Week-5: NumPy"
   ]
  },
  {
   "cell_type": "markdown",
   "id": "1890e23e-528c-40ba-ac1e-64df87e3f4bb",
   "metadata": {},
   "source": [
    "- Bu hafta Python'da bilimsel hesaplamalar için kullanılan NumPy kütüphanesini öğreniyoruz. \n",
    "- Notebook boyunca temel veri yapıları, işlemler ve örnek uygulamalara yer vereceğiz.\n"
   ]
  },
  {
   "cell_type": "markdown",
   "id": "05773213-bc55-47ae-86a5-cd5a69b224db",
   "metadata": {},
   "source": [
    "## 1. NumPy Nedir ve Neden Kullanılır?\n",
    "\n",
    "NumPy (Numerical Python), Python programlama dili için güçlü bir **bilimsel hesaplama kütüphanesidir**.\n",
    "\n",
    "**Neden NumPy?**\n",
    "- 🚀 **Verimlilik:** NumPy dizileri, yerleşik Python listelerinden çok daha hızlıdır.\n",
    "- 🧱 **Temel Kütüphane:** Pandas, SciPy, scikit-learn gibi birçok kütüphane NumPy üzerine kuruludur.\n",
    "- 💾 **Bellek Yönetimi:** Daha az bellek kullanır ve büyük veri setleriyle çalışırken performansı artırır.\n",
    "- ✨ **Kolay Kullanım:** Matematiksel işlemleri sadeleştirir ve kodu okunabilir hale getirir.\n",
    "- 🌐 **Topluluk:** Geniş bir kullanıcı topluluğu ve bolca öğretici kaynak bulunur.\n",
    "\n",
    "- Numpy, dizilerle çalışmak için kullanılır. Bunun yanında doğrusal cebir, matris gibi alanlarda kullanılır.\n",
    "- Yapı ve işlev olarak listelerle benzer olsada listelerden çok daha hızlıdırlar.\n",
    "  \n",
    "📺 *Video önerisi:*  \n",
    "[What is NumPy? (YouTube)](https://youtu.be/QUT1VHiLmmI?si=8I_ElT978Sj_I25i)"
   ]
  },
  {
   "cell_type": "code",
   "execution_count": 47,
   "id": "5393ccf3-740c-4812-8e25-0297b1a9fb40",
   "metadata": {},
   "outputs": [
    {
     "name": "stdout",
     "output_type": "stream",
     "text": [
      "Requirement already satisfied: numpy in /opt/anaconda3/lib/python3.12/site-packages (1.26.4)\n"
     ]
    }
   ],
   "source": [
    "!pip install numpy"
   ]
  },
  {
   "cell_type": "code",
   "execution_count": 48,
   "id": "104503cd-db9a-4ecd-8720-61e89ef60d23",
   "metadata": {},
   "outputs": [],
   "source": [
    "import numpy as np"
   ]
  },
  {
   "cell_type": "markdown",
   "id": "1ff3c5c2-4dbf-47f3-ac8c-bf0bc1661bcb",
   "metadata": {},
   "source": [
    "## Array (Dizi)"
   ]
  },
  {
   "cell_type": "markdown",
   "id": "4b30402d-46b9-4a7d-9bbf-a3cd975e2704",
   "metadata": {},
   "source": [
    "- Array (dizi), aynı türdeki elemanları sıralı bir şekilde saklayan bir veri yapısıdır. np.array() fonksiyonu, verilen bir Python listesi, tuple'ı veya başka bir dizi benzeri nesneyi alır ve bu nesneyi bir NumPy array'ine dönüştürür."
   ]
  },
  {
   "cell_type": "code",
   "execution_count": 49,
   "id": "9f4ccb70-ae04-42b4-95b4-d74a7670e407",
   "metadata": {},
   "outputs": [
    {
     "name": "stdout",
     "output_type": "stream",
     "text": [
      "[1 2 3 4]\n"
     ]
    }
   ],
   "source": [
    "a = np.array([1,2,3,4])\n",
    "print(a)"
   ]
  },
  {
   "cell_type": "code",
   "execution_count": 50,
   "id": "1f49cba1-75ed-4c34-b78e-13032c668de0",
   "metadata": {},
   "outputs": [
    {
     "data": {
      "text/plain": [
       "numpy.ndarray"
      ]
     },
     "execution_count": 50,
     "metadata": {},
     "output_type": "execute_result"
    }
   ],
   "source": [
    "type(a)"
   ]
  },
  {
   "cell_type": "markdown",
   "id": "60759eb0-e0e1-4f76-87ae-2b67d64abd84",
   "metadata": {},
   "source": [
    "- \"N-dimensional array\" (N boyutlu dizi) anlamına gelir\n",
    "\n",
    "- NumPy array'leri homojen veri tipine sahiptir, yani tüm elemanlar aynı veri tipinde olmalıdır."
   ]
  },
  {
   "cell_type": "code",
   "execution_count": 51,
   "id": "c0e3dd5b-87e3-4a5b-a1ca-bc2502f93b03",
   "metadata": {},
   "outputs": [
    {
     "data": {
      "text/plain": [
       "array([ 3. , 15.4,  6. ,  7.8])"
      ]
     },
     "execution_count": 51,
     "metadata": {},
     "output_type": "execute_result"
    }
   ],
   "source": [
    "arr = np.array([3, 15.4, 6,7.8])\n",
    "arr"
   ]
  },
  {
   "cell_type": "markdown",
   "id": "97fa48e3-8428-4f39-9ae1-9bc0257407c9",
   "metadata": {},
   "source": [
    "## Data Type\n",
    "\n",
    "- .dtype : array elemanlarının hangi türde veri içerdiğini anlamamıza yardımcı olur."
   ]
  },
  {
   "cell_type": "code",
   "execution_count": 52,
   "id": "ab60451f-a78d-42ca-9014-33d78912e810",
   "metadata": {},
   "outputs": [
    {
     "data": {
      "text/plain": [
       "dtype('float64')"
      ]
     },
     "execution_count": 52,
     "metadata": {},
     "output_type": "execute_result"
    }
   ],
   "source": [
    "arr.dtype"
   ]
  },
  {
   "cell_type": "code",
   "execution_count": 53,
   "id": "cc18ed89-8a5c-426a-80e0-646d4b24d11e",
   "metadata": {},
   "outputs": [
    {
     "data": {
      "text/plain": [
       "array([ 3, 20, 10, 15])"
      ]
     },
     "execution_count": 53,
     "metadata": {},
     "output_type": "execute_result"
    }
   ],
   "source": [
    "arr2 = np.array([3.5, 20, 10, 15.6], dtype = \"int\")\n",
    "arr2"
   ]
  },
  {
   "cell_type": "code",
   "execution_count": 54,
   "id": "64269533-2331-465d-9154-0f14de685113",
   "metadata": {},
   "outputs": [
    {
     "data": {
      "text/plain": [
       "dtype('int64')"
      ]
     },
     "execution_count": 54,
     "metadata": {},
     "output_type": "execute_result"
    }
   ],
   "source": [
    "arr2.dtype"
   ]
  },
  {
   "cell_type": "code",
   "execution_count": 55,
   "id": "82e61c3a-5d7b-4e95-9e7e-0b7606536885",
   "metadata": {},
   "outputs": [
    {
     "data": {
      "text/plain": [
       "array(['3.5', '20', '10', '15.6'], dtype='<U4')"
      ]
     },
     "execution_count": 55,
     "metadata": {},
     "output_type": "execute_result"
    }
   ],
   "source": [
    "arr2 = np.array([3.5, 20, 10, 15.6], dtype = \"str\")\n",
    "arr2 #U yani Unicode karakter kullanan, en fazla 4 karakter içeren bir string arrayi old. ifade ediyor.\n",
    "#dtype='<U4'"
   ]
  },
  {
   "cell_type": "markdown",
   "id": "e3cac206-3267-4914-a7e1-66fc251c25c9",
   "metadata": {},
   "source": [
    "## DİZİLERDEKİ BOYUTLAR\n",
    "\n",
    "**0-D Arrays (Sıfır Boyutlu Diziler)**\n",
    "\n",
    "- Sıfır boyutlu array, sadece tek bir değeri tutan en temel NumPy array'idir.\n",
    "\n",
    "- Bu tür array'ler, daha büyük ve çok boyutlu array'lerin yapı taşları olarak düşünülebilir."
   ]
  },
  {
   "cell_type": "code",
   "execution_count": 56,
   "id": "760f1a62-2cd5-48aa-be79-7680c8d9e605",
   "metadata": {},
   "outputs": [
    {
     "data": {
      "text/plain": [
       "array(36)"
      ]
     },
     "execution_count": 56,
     "metadata": {},
     "output_type": "execute_result"
    }
   ],
   "source": [
    "np.array(36)"
   ]
  },
  {
   "cell_type": "markdown",
   "id": "e7ef6a57-05f3-435b-8625-58a38a1fe402",
   "metadata": {},
   "source": [
    "**1-D Arrays (Bir Boyutlu Diziler)**\n",
    "\n",
    "\n",
    "- 1-D Arrays (Bir Boyutlu Diziler), NumPy'da tek bir eksende düzenlenmiş elemanlardan oluşan dizilerdir.\n",
    "\n",
    "❗️Notlar\n",
    "- Elemanlar arasında bir satır veya sütun ayrımı yoktur — sadece düz bir sıra vardır.\n",
    "Bu yapı, matematikteki vektör kavramıyla eşdeğerdir."
   ]
  },
  {
   "cell_type": "code",
   "execution_count": 57,
   "id": "f98be70a-6e93-43c7-af6b-c6abb8bab307",
   "metadata": {},
   "outputs": [
    {
     "data": {
      "text/plain": [
       "array([1, 2, 3, 4])"
      ]
     },
     "execution_count": 57,
     "metadata": {},
     "output_type": "execute_result"
    }
   ],
   "source": [
    "np.array([1,2,3,4])"
   ]
  },
  {
   "cell_type": "markdown",
   "id": "9c33b496-d6d7-4180-9e3e-8a262501eaa6",
   "metadata": {},
   "source": [
    "**2-D Arrays (İki Boyutlu Diziler)**\n",
    "\n",
    "- 2-D Arrays (İki Boyutlu Diziler), NumPy'da satırlar ve sütunlar içeren veri yapılarıdır. Bu diziler, tabular veriyi temsil eder ve genellikle matris veya tablo şeklinde düzenlenmiş verilerle çalışırken kullanılır. İki boyutlu diziler matrislerdir.\n",
    "\n",
    "\n",
    "  - En az bir satır ve bir sütun içerir.\n",
    "  - Liste içinde liste yapısı kullanılarak tanımlanır.\n",
    "  - Matris olarak da adlandırılır."
   ]
  },
  {
   "cell_type": "code",
   "execution_count": 58,
   "id": "f47500e1-4697-461a-80ec-8e2d687182c5",
   "metadata": {},
   "outputs": [
    {
     "data": {
      "text/plain": [
       "array([[1, 2, 3],\n",
       "       [4, 5, 6]])"
      ]
     },
     "execution_count": 58,
     "metadata": {},
     "output_type": "execute_result"
    }
   ],
   "source": [
    "np.array([[1,2,3],[4,5,6]])"
   ]
  },
  {
   "cell_type": "markdown",
   "id": "eadf4330-a02c-4120-b656-144e9bd5edbf",
   "metadata": {},
   "source": [
    "**3-D Arrays (Üç Boyutlu Diziler)**\n",
    "\n",
    "- 3-D Arrays (Üç Boyutlu Diziler), NumPy'da üç boyutta düzenlenmiş veri elemanlarını temsil eder. Bu diziler, veri kümesinin derinlik, satır ve sütun olmak üzere üç boyutta düzenlenmesini sağlar ve genellikle üç boyutlu veri yapılarıyla çalışırken kullanılır.\n",
    "\n",
    "- Belirttiğiniz dizinin 3 boyutlu olması için tüm alt dizilerin aynı sayıda satır ve sütun içermesi gerekir. NumPy, dizinin her boyutunun aynı şekle sahip olmasını bekler, bu yüzden iç içe geçmiş dizilerin şekli tutarlı olmalıdır."
   ]
  },
  {
   "cell_type": "code",
   "execution_count": 59,
   "id": "eeaa56e5-d44c-415e-a758-c21a73d339db",
   "metadata": {},
   "outputs": [
    {
     "data": {
      "text/plain": [
       "array([[[1, 2, 3],\n",
       "        [4, 5, 6]],\n",
       "\n",
       "       [[1, 2, 3],\n",
       "        [4, 5, 6]]])"
      ]
     },
     "execution_count": 59,
     "metadata": {},
     "output_type": "execute_result"
    }
   ],
   "source": [
    "np.array([[[1,2,3],[4,5,6]],\n",
    "         [[1,2,3],[4,5,6]]])"
   ]
  },
  {
   "cell_type": "markdown",
   "id": "d9905ea1-ecc9-4558-bc1b-f9de53db0bd9",
   "metadata": {},
   "source": [
    "- .ndim: .ndim özelliği, NumPy array'inin kaç boyuttan oluştuğunu belirtir. Bu, array'in yapısının derinliğini anlamamıza yardımcı olur."
   ]
  },
  {
   "cell_type": "code",
   "execution_count": 60,
   "id": "ae3cf45b-9720-4dd6-9830-aa55a1dfe254",
   "metadata": {},
   "outputs": [
    {
     "name": "stdout",
     "output_type": "stream",
     "text": [
      "0\n",
      "1\n",
      "2\n",
      "3\n"
     ]
    }
   ],
   "source": [
    "array0 = np.array(36)\n",
    "array1 = np.array([1,2,3,4])\n",
    "array2 = np.array([[1,2,3],[4,5,6]])\n",
    "array3 = np.array([[[1,2,3],[4,5,6]],[[1,2,3],[4,5,6]]])\n",
    "\n",
    "print(array0.ndim)\n",
    "print(array1.ndim)\n",
    "print(array2.ndim)\n",
    "print(array3.ndim)"
   ]
  },
  {
   "cell_type": "markdown",
   "id": "c6d8f2fc-4d2b-4a63-8284-4ba5156f5bed",
   "metadata": {},
   "source": [
    "- ndmin ile kendimiz boyutu belirleyebiliriz."
   ]
  },
  {
   "cell_type": "code",
   "execution_count": 61,
   "id": "cf5bb2ea-6db8-4151-b80e-4defa744ea97",
   "metadata": {},
   "outputs": [
    {
     "data": {
      "text/plain": [
       "array([[[[1, 2, 3, 4]]]])"
      ]
     },
     "execution_count": 61,
     "metadata": {},
     "output_type": "execute_result"
    }
   ],
   "source": [
    "np.array([1,2,3,4], ndmin = 4)"
   ]
  },
  {
   "cell_type": "markdown",
   "id": "a311f49c-2f39-44d0-a061-d9059793e6a0",
   "metadata": {},
   "source": [
    "## Indexing"
   ]
  },
  {
   "cell_type": "code",
   "execution_count": 62,
   "id": "4a0fbd27-b418-448c-ae70-a22bff43377b",
   "metadata": {},
   "outputs": [
    {
     "data": {
      "text/plain": [
       "array([1, 2, 3, 4])"
      ]
     },
     "execution_count": 62,
     "metadata": {},
     "output_type": "execute_result"
    }
   ],
   "source": [
    "#1-D\n",
    "array1"
   ]
  },
  {
   "cell_type": "markdown",
   "id": "fa121c28-094f-432b-aa17-1929cb79d499",
   "metadata": {},
   "source": [
    "- 1. indeximize erişmek istersek:"
   ]
  },
  {
   "cell_type": "code",
   "execution_count": 63,
   "id": "f8bbc7eb-b4cd-400c-954c-4d8c484064ae",
   "metadata": {},
   "outputs": [
    {
     "data": {
      "text/plain": [
       "2"
      ]
     },
     "execution_count": 63,
     "metadata": {},
     "output_type": "execute_result"
    }
   ],
   "source": [
    "array1[1]"
   ]
  },
  {
   "cell_type": "code",
   "execution_count": 64,
   "id": "d6c24fd8-1ad9-4c6e-9919-a5cf310b2c90",
   "metadata": {},
   "outputs": [
    {
     "data": {
      "text/plain": [
       "array([[1, 2, 3],\n",
       "       [4, 5, 6]])"
      ]
     },
     "execution_count": 64,
     "metadata": {},
     "output_type": "execute_result"
    }
   ],
   "source": [
    "#2-D\n",
    "array2"
   ]
  },
  {
   "cell_type": "code",
   "execution_count": 65,
   "id": "99908351-bfe2-427d-b9c9-46787f6a233f",
   "metadata": {},
   "outputs": [
    {
     "data": {
      "text/plain": [
       "3"
      ]
     },
     "execution_count": 65,
     "metadata": {},
     "output_type": "execute_result"
    }
   ],
   "source": [
    "array2[0,2]"
   ]
  },
  {
   "cell_type": "code",
   "execution_count": 66,
   "id": "50796822-b6cb-4e6f-90b6-2a0d9df3b711",
   "metadata": {},
   "outputs": [
    {
     "data": {
      "text/plain": [
       "5"
      ]
     },
     "execution_count": 66,
     "metadata": {},
     "output_type": "execute_result"
    }
   ],
   "source": [
    "array2[1,1]"
   ]
  },
  {
   "cell_type": "markdown",
   "id": "b2e1227d-3674-4fee-aeb8-a5ebdbafc1e0",
   "metadata": {},
   "source": [
    "- Derinlik (Depth)\n",
    "- Satır Sayısı (Rows)\n",
    "- Sütun Sayısı (Columns)\n",
    "  - [derinlik, satır, sütün]"
   ]
  },
  {
   "cell_type": "code",
   "execution_count": 68,
   "id": "86d88895-2e48-4aa3-9729-28e15b142c65",
   "metadata": {},
   "outputs": [
    {
     "data": {
      "text/plain": [
       "array([[[1, 2, 3],\n",
       "        [4, 5, 6]],\n",
       "\n",
       "       [[1, 2, 3],\n",
       "        [4, 5, 6]]])"
      ]
     },
     "execution_count": 68,
     "metadata": {},
     "output_type": "execute_result"
    }
   ],
   "source": [
    "array3"
   ]
  },
  {
   "cell_type": "code",
   "execution_count": 72,
   "id": "fa9f3567-6226-4f9b-a8f4-62f1120534b5",
   "metadata": {},
   "outputs": [
    {
     "data": {
      "text/plain": [
       "3"
      ]
     },
     "execution_count": 72,
     "metadata": {},
     "output_type": "execute_result"
    }
   ],
   "source": [
    "array3[1,0,2]"
   ]
  },
  {
   "cell_type": "markdown",
   "id": "7444d79a-129a-4dbf-b46c-7ff55cd3a3b7",
   "metadata": {},
   "source": [
    "## Slicing"
   ]
  },
  {
   "cell_type": "code",
   "execution_count": 75,
   "id": "445dc188-1a99-4042-a88d-0d2a465bc7da",
   "metadata": {},
   "outputs": [
    {
     "data": {
      "text/plain": [
       "array([1, 2, 3, 4])"
      ]
     },
     "execution_count": 75,
     "metadata": {},
     "output_type": "execute_result"
    }
   ],
   "source": [
    "#1-D\n",
    "array1"
   ]
  },
  {
   "cell_type": "code",
   "execution_count": 81,
   "id": "da8b3afb-0ac8-49a3-a363-6cf52c008ef3",
   "metadata": {},
   "outputs": [
    {
     "data": {
      "text/plain": [
       "array([3, 4])"
      ]
     },
     "execution_count": 81,
     "metadata": {},
     "output_type": "execute_result"
    }
   ],
   "source": [
    "array1[2:]"
   ]
  },
  {
   "cell_type": "code",
   "execution_count": 82,
   "id": "80db9f91-fac4-41e5-b981-924961686736",
   "metadata": {},
   "outputs": [
    {
     "data": {
      "text/plain": [
       "array([3, 4])"
      ]
     },
     "execution_count": 82,
     "metadata": {},
     "output_type": "execute_result"
    }
   ],
   "source": [
    "array1[2:4]"
   ]
  },
  {
   "cell_type": "code",
   "execution_count": 85,
   "id": "56a541ff-c8bc-4f5b-a6a0-9d4caa2c395c",
   "metadata": {},
   "outputs": [
    {
     "data": {
      "text/plain": [
       "array([1, 2, 3])"
      ]
     },
     "execution_count": 85,
     "metadata": {},
     "output_type": "execute_result"
    }
   ],
   "source": [
    "array1[0:3]"
   ]
  },
  {
   "cell_type": "code",
   "execution_count": 89,
   "id": "fd9cebae-2aa3-4763-96b4-8cecbe399592",
   "metadata": {},
   "outputs": [
    {
     "data": {
      "text/plain": [
       "array([[1, 2, 3],\n",
       "       [4, 5, 6]])"
      ]
     },
     "execution_count": 89,
     "metadata": {},
     "output_type": "execute_result"
    }
   ],
   "source": [
    "#2-D\n",
    "array2"
   ]
  },
  {
   "cell_type": "code",
   "execution_count": 90,
   "id": "e57bc33d-9337-4a8f-8c84-9626c0528086",
   "metadata": {},
   "outputs": [
    {
     "data": {
      "text/plain": [
       "array([3, 6])"
      ]
     },
     "execution_count": 90,
     "metadata": {},
     "output_type": "execute_result"
    }
   ],
   "source": [
    "array2[0:2,2]"
   ]
  },
  {
   "cell_type": "code",
   "execution_count": 105,
   "id": "695c037b-838a-416a-9af7-36dcdb31bf40",
   "metadata": {},
   "outputs": [
    {
     "data": {
      "text/plain": [
       "array([[[1, 2, 3],\n",
       "        [4, 5, 6]],\n",
       "\n",
       "       [[1, 2, 3],\n",
       "        [4, 5, 6]]])"
      ]
     },
     "execution_count": 105,
     "metadata": {},
     "output_type": "execute_result"
    }
   ],
   "source": [
    "#3-D\n",
    "array3 #[başlangıç:son, başlangıç:son, başlangıç:son)"
   ]
  },
  {
   "cell_type": "code",
   "execution_count": 107,
   "id": "90166a66-5dcd-40df-b240-6739c9c9ed09",
   "metadata": {},
   "outputs": [
    {
     "data": {
      "text/plain": [
       "array([[[1, 2, 3],\n",
       "        [4, 5, 6]]])"
      ]
     },
     "execution_count": 107,
     "metadata": {},
     "output_type": "execute_result"
    }
   ],
   "source": [
    "array3[0:1,0:3]"
   ]
  },
  {
   "cell_type": "code",
   "execution_count": 110,
   "id": "c3314db2-0b73-4469-9d15-15e43a593d88",
   "metadata": {},
   "outputs": [
    {
     "data": {
      "text/plain": [
       "array([2, 5])"
      ]
     },
     "execution_count": 110,
     "metadata": {},
     "output_type": "execute_result"
    }
   ],
   "source": [
    "array3[1,0:2,1]"
   ]
  },
  {
   "cell_type": "code",
   "execution_count": 113,
   "id": "64a8efad-f97d-4273-a1e7-8b36592cf5ae",
   "metadata": {},
   "outputs": [
    {
     "data": {
      "text/plain": [
       "array([2, 3])"
      ]
     },
     "execution_count": 113,
     "metadata": {},
     "output_type": "execute_result"
    }
   ],
   "source": [
    "array3[0,0,1:3]"
   ]
  },
  {
   "cell_type": "markdown",
   "id": "0da578a0-06b6-4e15-a9b4-5b49fdcfcd58",
   "metadata": {},
   "source": [
    "## Temel Numpy Fonksiyonları\n",
    "**Size**\n",
    "\n",
    "- Arrayde bulunan eleman sayısını verir."
   ]
  },
  {
   "cell_type": "code",
   "execution_count": 115,
   "id": "e597733c-35f5-4574-a420-77ae7edc0ff3",
   "metadata": {},
   "outputs": [
    {
     "name": "stdout",
     "output_type": "stream",
     "text": [
      "[1 2 3 4]\n",
      "4\n"
     ]
    }
   ],
   "source": [
    "print(array1)\n",
    "print(array1.size)"
   ]
  },
  {
   "cell_type": "markdown",
   "id": "00fcd3e4-89be-4d96-9fb5-6b25bf659e59",
   "metadata": {},
   "source": [
    "**Shape**\n",
    "\n",
    "- özelliği, NumPy dizisinin her bir boyutundaki eleman sayısını içeren bir tuple döndürür."
   ]
  },
  {
   "cell_type": "raw",
   "id": "2ec4147a-7b92-4b1d-b736-8bdb14b8ba22",
   "metadata": {},
   "source": []
  },
  {
   "cell_type": "code",
   "execution_count": 117,
   "id": "f2ff9f81-b3fb-44c0-bca9-0de1c4842544",
   "metadata": {},
   "outputs": [
    {
     "data": {
      "text/plain": [
       "array([1, 2, 3, 4])"
      ]
     },
     "execution_count": 117,
     "metadata": {},
     "output_type": "execute_result"
    }
   ],
   "source": [
    "array1"
   ]
  },
  {
   "cell_type": "code",
   "execution_count": 118,
   "id": "9c2eb79d-f5eb-4dbc-a3b2-ca1e10118e87",
   "metadata": {},
   "outputs": [
    {
     "data": {
      "text/plain": [
       "(4,)"
      ]
     },
     "execution_count": 118,
     "metadata": {},
     "output_type": "execute_result"
    }
   ],
   "source": [
    "np.shape(array1)"
   ]
  },
  {
   "cell_type": "code",
   "execution_count": 122,
   "id": "7f69b815-7bc8-476f-99fd-313f23c5a61b",
   "metadata": {},
   "outputs": [
    {
     "name": "stdout",
     "output_type": "stream",
     "text": [
      "[[1 2 3]\n",
      " [4 5 6]]\n"
     ]
    },
    {
     "data": {
      "text/plain": [
       "(2, 3)"
      ]
     },
     "execution_count": 122,
     "metadata": {},
     "output_type": "execute_result"
    }
   ],
   "source": [
    "print(array2)\n",
    "np.shape(array2)"
   ]
  },
  {
   "cell_type": "code",
   "execution_count": 123,
   "id": "17c04ebd-c2b9-4f4d-9365-c20e7df0b90f",
   "metadata": {},
   "outputs": [
    {
     "name": "stdout",
     "output_type": "stream",
     "text": [
      "[[[1 2 3]\n",
      "  [4 5 6]]\n",
      "\n",
      " [[1 2 3]\n",
      "  [4 5 6]]]\n"
     ]
    },
    {
     "data": {
      "text/plain": [
       "(2, 2, 3)"
      ]
     },
     "execution_count": 123,
     "metadata": {},
     "output_type": "execute_result"
    }
   ],
   "source": [
    "print(array3)\n",
    "np.shape(array3)"
   ]
  },
  {
   "cell_type": "markdown",
   "id": "db429eed-32ac-4ac7-b187-68754edb975f",
   "metadata": {},
   "source": [
    "**Reshape**\n",
    "\n",
    "- NumPy'deki reshape işlemi, bir dizinin şeklini değiştirmek için kullanılır.\n",
    "\n",
    "- Bu işlem, dizinin elemanlarının sayısını değiştirmeden dizinin boyutlarını yeniden düzenler.\n",
    "\n",
    "- Örneğin, 12 elemanlı bir dizi yalnızca 3x4, 4x3, 6x2 gibi toplamda 12 eleman olan şekillere dönüştürülebilir."
   ]
  },
  {
   "cell_type": "code",
   "execution_count": 124,
   "id": "963e8042-80f7-40a8-b22c-a22c299c1bc5",
   "metadata": {},
   "outputs": [
    {
     "name": "stdout",
     "output_type": "stream",
     "text": [
      "[ 1  2  3  4  5  6  7  8  9 10 11 12]\n",
      "(12,)\n"
     ]
    }
   ],
   "source": [
    "arr_new = np.array([1,2,3,4,5,6,7,8,9,10,11,12])\n",
    "print(arr_new)\n",
    "print(np.shape(arr_new))"
   ]
  },
  {
   "cell_type": "code",
   "execution_count": 126,
   "id": "6a501ba3-9b3f-4d76-9366-703a4373088d",
   "metadata": {},
   "outputs": [
    {
     "data": {
      "text/plain": [
       "array([[ 1,  2],\n",
       "       [ 3,  4],\n",
       "       [ 5,  6],\n",
       "       [ 7,  8],\n",
       "       [ 9, 10],\n",
       "       [11, 12]])"
      ]
     },
     "execution_count": 126,
     "metadata": {},
     "output_type": "execute_result"
    }
   ],
   "source": [
    "#yeniden boyutlandırma yapma: 6 satır ve 2 sütundan oluşturma\n",
    "arr_new.reshape(6,2)"
   ]
  },
  {
   "cell_type": "code",
   "execution_count": 127,
   "id": "13b17d07-0ec5-4f2b-81d1-1a5f84eaa8e6",
   "metadata": {},
   "outputs": [
    {
     "data": {
      "text/plain": [
       "array([[ 1,  2,  3],\n",
       "       [ 4,  5,  6],\n",
       "       [ 7,  8,  9],\n",
       "       [10, 11, 12]])"
      ]
     },
     "execution_count": 127,
     "metadata": {},
     "output_type": "execute_result"
    }
   ],
   "source": [
    "arr_new.reshape(4,3)"
   ]
  },
  {
   "cell_type": "code",
   "execution_count": 130,
   "id": "aa5bd1f0-92c4-4f4c-9887-535129adf209",
   "metadata": {},
   "outputs": [
    {
     "data": {
      "text/plain": [
       "array([[[ 1,  2,  3],\n",
       "        [ 4,  5,  6]],\n",
       "\n",
       "       [[ 7,  8,  9],\n",
       "        [10, 11, 12]]])"
      ]
     },
     "execution_count": 130,
     "metadata": {},
     "output_type": "execute_result"
    }
   ],
   "source": [
    "arr_new.reshape(2,2,3)"
   ]
  },
  {
   "cell_type": "code",
   "execution_count": 131,
   "id": "7da6e72d-4c16-43fe-833b-37911b7dd924",
   "metadata": {},
   "outputs": [
    {
     "data": {
      "text/plain": [
       "array([[[ 1,  2],\n",
       "        [ 3,  4],\n",
       "        [ 5,  6]],\n",
       "\n",
       "       [[ 7,  8],\n",
       "        [ 9, 10],\n",
       "        [11, 12]]])"
      ]
     },
     "execution_count": 131,
     "metadata": {},
     "output_type": "execute_result"
    }
   ],
   "source": [
    "arr_new.reshape(2,3,2)"
   ]
  },
  {
   "cell_type": "code",
   "execution_count": 132,
   "id": "9dd0e509-7f78-4e74-b588-06d0744467fb",
   "metadata": {},
   "outputs": [
    {
     "data": {
      "text/plain": [
       "array([[[ 1,  2],\n",
       "        [ 3,  4]],\n",
       "\n",
       "       [[ 5,  6],\n",
       "        [ 7,  8]],\n",
       "\n",
       "       [[ 9, 10],\n",
       "        [11, 12]]])"
      ]
     },
     "execution_count": 132,
     "metadata": {},
     "output_type": "execute_result"
    }
   ],
   "source": [
    "arr_new.reshape(3,2,2)"
   ]
  },
  {
   "cell_type": "code",
   "execution_count": 135,
   "id": "772109de-f3d5-4687-a4d9-a5def88f86bd",
   "metadata": {},
   "outputs": [
    {
     "data": {
      "text/plain": [
       "array([[[ 1,  2],\n",
       "        [ 3,  4]],\n",
       "\n",
       "       [[ 5,  6],\n",
       "        [ 7,  8]],\n",
       "\n",
       "       [[ 9, 10],\n",
       "        [11, 12]]])"
      ]
     },
     "execution_count": 135,
     "metadata": {},
     "output_type": "execute_result"
    }
   ],
   "source": [
    "# -1 bir boyutun otomatik olarak tanımlanmasını sağlar.\n",
    "arr_new.reshape(3,2,-1)"
   ]
  }
 ],
 "metadata": {
  "kernelspec": {
   "display_name": "Python [conda env:base] *",
   "language": "python",
   "name": "conda-base-py"
  },
  "language_info": {
   "codemirror_mode": {
    "name": "ipython",
    "version": 3
   },
   "file_extension": ".py",
   "mimetype": "text/x-python",
   "name": "python",
   "nbconvert_exporter": "python",
   "pygments_lexer": "ipython3",
   "version": "3.12.7"
  }
 },
 "nbformat": 4,
 "nbformat_minor": 5
}
