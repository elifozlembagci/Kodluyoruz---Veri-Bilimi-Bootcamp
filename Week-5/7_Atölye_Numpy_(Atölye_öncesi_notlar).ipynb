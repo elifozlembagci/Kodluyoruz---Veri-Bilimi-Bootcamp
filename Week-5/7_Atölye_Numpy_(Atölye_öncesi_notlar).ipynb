{
 "cells": [
  {
   "cell_type": "markdown",
   "id": "a4b1d45d",
   "metadata": {
    "id": "a4b1d45d"
   },
   "source": [
    "# NumPy Kütüphanesi\n",
    "\n",
    "- Verimlilik: NumPy, büyük veri setleriyle çalışırken hesaplamaları hızlı ve etkili yapar.\n",
    "- Temel Kütüphane: Pandas, SciPy, scikit-learn gibi birçok kütüphane NumPy üzerine kuruludur.\n",
    "- Bellek Yönetimi: NumPy dizileri daha az bellek kullanır ve büyük veri setleriyle çalışırken performansı artırır.\n",
    "- Kolay Kullanım: Karmaşık matematiksel işlemleri basitleştirir ve kodu daha okunabilir hale getirir.\n",
    "- Topluluk ve Kaynaklar: NumPy'nın geniş bir topluluğu ve bolca öğretici kaynağı vardır.\n",
    "\n",
    "Numpy, dizilerle çalışmak için kullanılır. Bunun yanında doğrusal cebir, matris gibi alanlarda kullanılır.\n",
    "\n",
    "Yapı ve işlev olarak listelerle benzer olsada listelerden çok daha hızlıdırlar."
   ]
  },
  {
   "cell_type": "markdown",
   "id": "4c098b9a",
   "metadata": {
    "id": "4c098b9a"
   },
   "source": [
    "NumPy kütüphanesini indirme ve çalıştırma\n",
    "\n",
    "!pip install numpy\n",
    "\n",
    "import numpy as np"
   ]
  },
  {
   "cell_type": "markdown",
   "id": "99fc53c9",
   "metadata": {
    "id": "99fc53c9"
   },
   "source": [
    "#Array (dizi), aynı türdeki elemanları sıralı bir şekilde saklayan bir veri yapısıdır.\n",
    "np.array() fonksiyonu, verilen bir Python listesi, tuple'ı veya başka bir dizi benzeri nesneyi alır ve bu nesneyi bir NumPy array'ine dönüştürür."
   ]
  },
  {
   "cell_type": "code",
   "execution_count": null,
   "id": "10b084fb",
   "metadata": {
    "id": "10b084fb"
   },
   "outputs": [],
   "source": []
  },
  {
   "cell_type": "code",
   "execution_count": null,
   "id": "792a78fa",
   "metadata": {
    "id": "792a78fa"
   },
   "outputs": [],
   "source": []
  },
  {
   "cell_type": "markdown",
   "id": "348b03ce",
   "metadata": {
    "id": "348b03ce"
   },
   "source": [
    "\"N-dimensional array\" (N boyutlu dizi) anlamına gelir\n",
    "\n",
    "NumPy array'leri homojen veri tipine sahiptir, yani tüm elemanlar aynı veri tipinde olmalıdır."
   ]
  },
  {
   "cell_type": "code",
   "execution_count": null,
   "id": "fdf895f0",
   "metadata": {
    "id": "fdf895f0"
   },
   "outputs": [],
   "source": []
  },
  {
   "cell_type": "code",
   "execution_count": null,
   "id": "6fcadca0",
   "metadata": {
    "id": "6fcadca0"
   },
   "outputs": [],
   "source": []
  },
  {
   "cell_type": "markdown",
   "id": "fb7224d3",
   "metadata": {
    "id": "fb7224d3"
   },
   "source": [
    "# Data Type\n",
    "\n",
    ".dtype : array elemanlarının hangi türde veri içerdiğini anlamamıza yardımcı olur."
   ]
  },
  {
   "cell_type": "code",
   "execution_count": null,
   "id": "39167330",
   "metadata": {
    "id": "39167330"
   },
   "outputs": [],
   "source": []
  },
  {
   "cell_type": "code",
   "execution_count": null,
   "id": "3ec8f853",
   "metadata": {
    "id": "3ec8f853"
   },
   "outputs": [],
   "source": []
  },
  {
   "cell_type": "code",
   "execution_count": null,
   "id": "300f47e8",
   "metadata": {
    "id": "300f47e8"
   },
   "outputs": [],
   "source": [
    "#Dönüştürmek istediğimiz veri tipini belirtebiliriz.\n"
   ]
  },
  {
   "cell_type": "code",
   "execution_count": null,
   "id": "94486ae7",
   "metadata": {
    "id": "94486ae7"
   },
   "outputs": [],
   "source": []
  },
  {
   "cell_type": "code",
   "execution_count": null,
   "id": "441ea8d2",
   "metadata": {
    "id": "441ea8d2"
   },
   "outputs": [],
   "source": []
  },
  {
   "cell_type": "markdown",
   "id": "7641c930",
   "metadata": {
    "id": "7641c930"
   },
   "source": [
    "# DİZİLERDEKİ BOYUTLAR\n",
    "\n",
    "**0-D Arrays (Sıfır Boyutlu Diziler)**\n",
    "\n",
    "Sıfır boyutlu array, sadece tek bir değeri tutan en temel NumPy array'idir.\n",
    "\n",
    "Bu tür array'ler, daha büyük ve çok boyutlu array'lerin yapı taşları olarak düşünülebilir."
   ]
  },
  {
   "cell_type": "code",
   "execution_count": null,
   "id": "7eeda6a7",
   "metadata": {
    "id": "7eeda6a7"
   },
   "outputs": [],
   "source": []
  },
  {
   "cell_type": "code",
   "execution_count": null,
   "id": "534b0f25",
   "metadata": {
    "id": "534b0f25"
   },
   "outputs": [],
   "source": []
  },
  {
   "cell_type": "markdown",
   "id": "c48fc512",
   "metadata": {
    "id": "c48fc512"
   },
   "source": [
    "**1-D Arrays (Bir Boyutlu Diziler)**\n",
    "\n",
    "\n",
    "1-D Arrays (Bir Boyutlu Diziler), NumPy'da tek bir eksende düzenlenmiş elemanlardan oluşan dizilerdir.\n",
    "\n",
    "❗️Notlar\n",
    "Elemanlar arasında bir satır veya sütun ayrımı yoktur — sadece düz bir sıra vardır.\n",
    "Bu yapı, matematikteki vektör kavramıyla eşdeğerdir."
   ]
  },
  {
   "cell_type": "code",
   "execution_count": null,
   "id": "f831addd",
   "metadata": {
    "id": "f831addd"
   },
   "outputs": [],
   "source": []
  },
  {
   "cell_type": "code",
   "execution_count": null,
   "id": "1f17e758",
   "metadata": {
    "id": "1f17e758"
   },
   "outputs": [],
   "source": []
  },
  {
   "cell_type": "markdown",
   "id": "ebbd0167",
   "metadata": {
    "id": "ebbd0167"
   },
   "source": [
    "**2-D Arrays (İki Boyutlu Diziler)**\n",
    "\n",
    "2-D Arrays (İki Boyutlu Diziler), NumPy'da satırlar ve sütunlar içeren veri yapılarıdır. Bu diziler, tabular veriyi temsil eder ve genellikle matris veya tablo şeklinde düzenlenmiş verilerle çalışırken kullanılır. İki boyutlu diziler matrislerdir.\n",
    "\n",
    "\n",
    "- En az bir satır ve bir sütun içerir.\n",
    "- Liste içinde liste yapısı kullanılarak tanımlanır.\n",
    "- Matris olarak da adlandırılır."
   ]
  },
  {
   "cell_type": "code",
   "execution_count": null,
   "id": "7d9cbcb0",
   "metadata": {
    "id": "7d9cbcb0"
   },
   "outputs": [],
   "source": []
  },
  {
   "cell_type": "markdown",
   "id": "4b4be7b3",
   "metadata": {
    "id": "4b4be7b3"
   },
   "source": [
    "**3-D Arrays (Üç Boyutlu Diziler)**\n",
    "\n",
    "3-D Arrays (Üç Boyutlu Diziler), NumPy'da üç boyutta düzenlenmiş veri elemanlarını temsil eder. Bu diziler, veri kümesinin derinlik, satır ve sütun olmak üzere üç boyutta düzenlenmesini sağlar ve genellikle üç boyutlu veri yapılarıyla çalışırken kullanılır.\n",
    "\n",
    "Belirttiğiniz dizinin 3 boyutlu olması için tüm alt dizilerin aynı sayıda satır ve sütun içermesi gerekir. NumPy, dizinin her boyutunun aynı şekle sahip olmasını bekler, bu yüzden iç içe geçmiş dizilerin şekli tutarlı olmalıdır."
   ]
  },
  {
   "cell_type": "code",
   "execution_count": null,
   "id": "b449d03e",
   "metadata": {
    "id": "b449d03e"
   },
   "outputs": [],
   "source": []
  },
  {
   "cell_type": "code",
   "execution_count": null,
   "id": "b129ecce",
   "metadata": {
    "id": "b129ecce"
   },
   "outputs": [],
   "source": []
  },
  {
   "cell_type": "markdown",
   "id": "63d10a37",
   "metadata": {
    "id": "63d10a37"
   },
   "source": [
    ".ndim:\n",
    ".ndim özelliği, NumPy array'inin kaç boyuttan oluştuğunu belirtir. Bu, array'in yapısının derinliğini anlamamıza yardımcı olur."
   ]
  },
  {
   "cell_type": "code",
   "execution_count": null,
   "id": "a6425bd9",
   "metadata": {
    "id": "a6425bd9"
   },
   "outputs": [],
   "source": []
  },
  {
   "cell_type": "code",
   "execution_count": null,
   "id": "97cabf71",
   "metadata": {
    "id": "97cabf71"
   },
   "outputs": [],
   "source": []
  },
  {
   "cell_type": "markdown",
   "id": "8f3ba6d7",
   "metadata": {
    "id": "8f3ba6d7"
   },
   "source": [
    "**Indexing**"
   ]
  },
  {
   "cell_type": "code",
   "execution_count": null,
   "id": "6bf4d80a",
   "metadata": {
    "id": "6bf4d80a"
   },
   "outputs": [],
   "source": []
  },
  {
   "cell_type": "code",
   "execution_count": null,
   "id": "1c7a89ac",
   "metadata": {
    "id": "1c7a89ac"
   },
   "outputs": [],
   "source": []
  },
  {
   "cell_type": "code",
   "execution_count": null,
   "id": "5523053e",
   "metadata": {
    "id": "5523053e"
   },
   "outputs": [],
   "source": []
  },
  {
   "cell_type": "code",
   "execution_count": null,
   "id": "05264b10",
   "metadata": {
    "id": "05264b10"
   },
   "outputs": [],
   "source": []
  },
  {
   "cell_type": "markdown",
   "id": "43bd42f7",
   "metadata": {
    "id": "43bd42f7"
   },
   "source": [
    "- Derinlik (Depth)\n",
    "- Satır Sayısı (Rows)\n",
    "- Sütun Sayısı (Columns)\n",
    "\n",
    "[derinlik, satır, sütün]"
   ]
  },
  {
   "cell_type": "code",
   "execution_count": null,
   "id": "0568c92d",
   "metadata": {
    "id": "0568c92d"
   },
   "outputs": [],
   "source": []
  },
  {
   "cell_type": "code",
   "execution_count": null,
   "id": "3e8a4398",
   "metadata": {
    "id": "3e8a4398"
   },
   "outputs": [],
   "source": []
  },
  {
   "cell_type": "code",
   "execution_count": null,
   "id": "efafa2ac",
   "metadata": {
    "id": "efafa2ac"
   },
   "outputs": [],
   "source": []
  },
  {
   "cell_type": "markdown",
   "id": "6d7c4d3d",
   "metadata": {
    "id": "6d7c4d3d"
   },
   "source": [
    "**Slicing**"
   ]
  },
  {
   "cell_type": "code",
   "execution_count": null,
   "id": "ac17c485",
   "metadata": {
    "id": "ac17c485"
   },
   "outputs": [],
   "source": []
  },
  {
   "cell_type": "code",
   "execution_count": null,
   "id": "1ea2e6c2",
   "metadata": {
    "id": "1ea2e6c2"
   },
   "outputs": [],
   "source": []
  },
  {
   "cell_type": "code",
   "execution_count": null,
   "id": "759319ba",
   "metadata": {
    "id": "759319ba"
   },
   "outputs": [],
   "source": []
  },
  {
   "cell_type": "code",
   "execution_count": null,
   "id": "ee4d6ea6",
   "metadata": {
    "id": "ee4d6ea6"
   },
   "outputs": [],
   "source": []
  },
  {
   "cell_type": "code",
   "execution_count": null,
   "id": "c6c6f26e",
   "metadata": {
    "id": "c6c6f26e"
   },
   "outputs": [],
   "source": []
  },
  {
   "cell_type": "markdown",
   "id": "2523b6d0",
   "metadata": {
    "id": "2523b6d0"
   },
   "source": [
    "## Temel Numpy Fonksiyonları"
   ]
  },
  {
   "cell_type": "markdown",
   "id": "a9ef1a3a",
   "metadata": {
    "id": "a9ef1a3a"
   },
   "source": [
    "**Size**\n",
    "\n",
    "Arrayde bulunan eleman sayısını verir."
   ]
  },
  {
   "cell_type": "code",
   "execution_count": null,
   "id": "69963814",
   "metadata": {
    "id": "69963814"
   },
   "outputs": [],
   "source": []
  },
  {
   "cell_type": "code",
   "execution_count": null,
   "id": "7261a475",
   "metadata": {
    "id": "7261a475"
   },
   "outputs": [],
   "source": []
  },
  {
   "cell_type": "code",
   "execution_count": null,
   "id": "c8ed9a6b",
   "metadata": {
    "id": "c8ed9a6b"
   },
   "outputs": [],
   "source": []
  },
  {
   "cell_type": "markdown",
   "id": "fcc44733",
   "metadata": {
    "id": "fcc44733"
   },
   "source": [
    "**Shape**\n",
    "\n",
    "özelliği, NumPy dizisinin her bir boyutundaki eleman sayısını içeren bir tuple döndürür."
   ]
  },
  {
   "cell_type": "code",
   "execution_count": null,
   "id": "a4f49bb9",
   "metadata": {
    "id": "a4f49bb9"
   },
   "outputs": [],
   "source": []
  },
  {
   "cell_type": "code",
   "execution_count": null,
   "id": "a1f0a619",
   "metadata": {
    "id": "a1f0a619"
   },
   "outputs": [],
   "source": []
  },
  {
   "cell_type": "code",
   "execution_count": null,
   "id": "8ee8ee81",
   "metadata": {
    "id": "8ee8ee81"
   },
   "outputs": [],
   "source": []
  },
  {
   "cell_type": "markdown",
   "id": "ef04a12e",
   "metadata": {
    "id": "ef04a12e"
   },
   "source": [
    "**Reshape**\n",
    "\n",
    "NumPy'deki reshape işlemi, bir dizinin şeklini değiştirmek için kullanılır.\n",
    "\n",
    "Bu işlem, dizinin elemanlarının sayısını değiştirmeden dizinin boyutlarını yeniden düzenler.\n",
    "\n",
    "Örneğin, 12 elemanlı bir dizi yalnızca 3x4, 4x3, 6x2 gibi toplamda 12 eleman olan şekillere dönüştürülebilir."
   ]
  },
  {
   "cell_type": "code",
   "execution_count": null,
   "id": "38eb0947",
   "metadata": {
    "id": "38eb0947"
   },
   "outputs": [],
   "source": []
  },
  {
   "cell_type": "code",
   "execution_count": null,
   "id": "45fd519e",
   "metadata": {
    "id": "45fd519e"
   },
   "outputs": [],
   "source": []
  },
  {
   "cell_type": "code",
   "execution_count": null,
   "id": "901a5b63",
   "metadata": {
    "id": "901a5b63"
   },
   "outputs": [],
   "source": []
  },
  {
   "cell_type": "markdown",
   "id": "d560d8b9",
   "metadata": {
    "id": "d560d8b9"
   },
   "source": [
    "**Birleştirme (Concatenation)**\n",
    "\n",
    "- Diziler belirli bir eksende birleştirilir. Bu, dizilerin yan yana (horizontally) veya üst üste (vertically) eklenmesini ifade eder."
   ]
  },
  {
   "cell_type": "code",
   "execution_count": null,
   "id": "26f7f274",
   "metadata": {
    "id": "26f7f274"
   },
   "outputs": [],
   "source": []
  },
  {
   "cell_type": "code",
   "execution_count": null,
   "id": "1993ea4c",
   "metadata": {
    "id": "1993ea4c"
   },
   "outputs": [],
   "source": []
  },
  {
   "cell_type": "code",
   "execution_count": null,
   "id": "fe14d0ab",
   "metadata": {
    "id": "fe14d0ab"
   },
   "outputs": [],
   "source": []
  },
  {
   "cell_type": "markdown",
   "id": "e4ea47b8",
   "metadata": {
    "id": "e4ea47b8"
   },
   "source": [
    "NumPy kütüphanesinin sunduğu çeşitli dizi oluşturma fonksiyonları\n",
    "1. np.zeros(): Belirtilen şekil ve boyutta sıfırlarla dolu bir NumPy dizisi oluşturur.\n",
    "2. np.ones(): Belirtilen şekil ve boyutta birlerle dolu bir NumPy dizisi oluşturur.\n",
    "3. np.full(): Belirtilen şekil ve boyutta, belirtilen değerle dolu bir NumPy dizisi oluşturur.\n",
    "4. np.arange(): Belirtilen başlangıç, bitiş ve adım aralığına göre bir NumPy dizisi oluşturur.\n",
    "5. np.linspace(): Belirtilen başlangıç ve bitiş değerleri arasında eşit aralıklarla belirli sayıda değer üretir.\n",
    "6. np.random.randint(): Belirtilen aralıkta rastgele tamsayılar içeren bir NumPy dizisi oluşturur."
   ]
  },
  {
   "cell_type": "code",
   "execution_count": null,
   "id": "185b3565",
   "metadata": {
    "id": "185b3565"
   },
   "outputs": [],
   "source": []
  },
  {
   "cell_type": "code",
   "execution_count": null,
   "id": "8d341d25",
   "metadata": {
    "id": "8d341d25"
   },
   "outputs": [],
   "source": []
  },
  {
   "cell_type": "code",
   "execution_count": null,
   "id": "2735aaaf",
   "metadata": {
    "id": "2735aaaf"
   },
   "outputs": [],
   "source": []
  },
  {
   "cell_type": "markdown",
   "id": "87dfcae4",
   "metadata": {
    "id": "87dfcae4"
   },
   "source": [
    "## İstatiksel Fonksiyonlar"
   ]
  },
  {
   "cell_type": "code",
   "execution_count": null,
   "id": "331893be",
   "metadata": {
    "id": "331893be"
   },
   "outputs": [],
   "source": []
  },
  {
   "cell_type": "code",
   "execution_count": null,
   "id": "59924771",
   "metadata": {
    "id": "59924771"
   },
   "outputs": [],
   "source": []
  },
  {
   "cell_type": "code",
   "execution_count": null,
   "id": "51c8cf4b",
   "metadata": {
    "id": "51c8cf4b"
   },
   "outputs": [],
   "source": []
  },
  {
   "cell_type": "markdown",
   "id": "025cb423",
   "metadata": {
    "id": "025cb423"
   },
   "source": [
    "**Matematiksel Fonksiyonlar**\n",
    "\n",
    "1. np.add(): İki array'in elemanlarını toplar.\n",
    "\n",
    "2. np.multiply(): İki array'in elemanlarını çarpar.\n",
    "\n",
    "3. np.divide(): İki array'in elemanlarını böler.\n",
    "\n",
    "4. np.dot(): İki array'in matris çarpımını gerçekleştirir.\n",
    "\n",
    "Matematiksel işlemler yaparken aynı boyutta olması gerekiyor.  Eğer boyutlar uyumlu değilse, numpy bu hatayı verir."
   ]
  },
  {
   "cell_type": "code",
   "execution_count": null,
   "id": "3fb0168a",
   "metadata": {
    "id": "3fb0168a"
   },
   "outputs": [],
   "source": []
  },
  {
   "cell_type": "code",
   "execution_count": null,
   "id": "a388b9b6",
   "metadata": {
    "id": "a388b9b6"
   },
   "outputs": [],
   "source": []
  },
  {
   "cell_type": "code",
   "execution_count": null,
   "id": "81a15ae7",
   "metadata": {
    "id": "81a15ae7"
   },
   "outputs": [],
   "source": []
  }
 ],
 "metadata": {
  "colab": {
   "provenance": []
  },
  "kernelspec": {
   "display_name": "Python [conda env:base] *",
   "language": "python",
   "name": "conda-base-py"
  },
  "language_info": {
   "codemirror_mode": {
    "name": "ipython",
    "version": 3
   },
   "file_extension": ".py",
   "mimetype": "text/x-python",
   "name": "python",
   "nbconvert_exporter": "python",
   "pygments_lexer": "ipython3",
   "version": "3.12.7"
  }
 },
 "nbformat": 4,
 "nbformat_minor": 5
}
