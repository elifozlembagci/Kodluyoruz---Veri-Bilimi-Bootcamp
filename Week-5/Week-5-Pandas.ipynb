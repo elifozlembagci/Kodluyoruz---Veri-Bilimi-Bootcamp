{
 "cells": [
  {
   "cell_type": "markdown",
   "id": "7adfcf67-757d-4ba7-b90b-fbcd06b753c1",
   "metadata": {},
   "source": [
    "# Pandas  \n",
    "- Pandas kütüphanesi veriyi analiz etmek için kullanılan, Python programlama dili üzerine yazılmış açık kaynak kodlu bir kütüphanedir.\n",
    "- Pandasta en çok kullanılan veri yapılar Series ve DataFrame yapılarıdır.\n",
    "- Pandas, Python’da veri analizi yaparken en çok kullanılan kütüphanelerden biridir. Excel gibi düşünebilirsin ama Python üzerinden çalışır. CSV dosyası, Excel tablosu, veritabanı çıktısı gibi veri setlerini okuma, düzenleme, filtreleme, analiz etme gibi işlemleri yapmamıza olanak tanır."
   ]
  },
  {
   "cell_type": "code",
   "execution_count": 3,
   "id": "23bb06d7-a4b5-4b4f-a84c-3e5d34fa7ad8",
   "metadata": {},
   "outputs": [
    {
     "name": "stdout",
     "output_type": "stream",
     "text": [
      "Requirement already satisfied: pandas in /opt/anaconda3/lib/python3.12/site-packages (2.2.2)\n",
      "Requirement already satisfied: numpy>=1.26.0 in /opt/anaconda3/lib/python3.12/site-packages (from pandas) (1.26.4)\n",
      "Requirement already satisfied: python-dateutil>=2.8.2 in /opt/anaconda3/lib/python3.12/site-packages (from pandas) (2.9.0.post0)\n",
      "Requirement already satisfied: pytz>=2020.1 in /opt/anaconda3/lib/python3.12/site-packages (from pandas) (2024.1)\n",
      "Requirement already satisfied: tzdata>=2022.7 in /opt/anaconda3/lib/python3.12/site-packages (from pandas) (2023.3)\n",
      "Requirement already satisfied: six>=1.5 in /opt/anaconda3/lib/python3.12/site-packages (from python-dateutil>=2.8.2->pandas) (1.16.0)\n"
     ]
    }
   ],
   "source": [
    "!pip install pandas"
   ]
  },
  {
   "cell_type": "code",
   "execution_count": 4,
   "id": "2095f030-cdfc-47de-8152-61bdb65c3683",
   "metadata": {},
   "outputs": [],
   "source": [
    "import pandas as pd"
   ]
  },
  {
   "cell_type": "markdown",
   "id": "58a8fe63-121b-4990-a0da-daedfde8f449",
   "metadata": {},
   "source": [
    "## Seriler\n",
    "\n",
    "- Seriler bir tablodaki sütunlar gibi düşünülebilir. Index ve değer olmak üzere iki bölümden oluşur.  \n",
    "- Bir boyutlu arraylerdir. Listeye benzer ama her elemanın bir etiketi (index) vardır.\n",
    "- pd.Series(): ile bir pandas serisi oluşturabilirsiniz. "
   ]
  },
  {
   "cell_type": "code",
   "execution_count": 6,
   "id": "a49170d3-5c3e-4b29-a5a5-1b271945a2ac",
   "metadata": {},
   "outputs": [
    {
     "name": "stdout",
     "output_type": "stream",
     "text": [
      "0    10\n",
      "1    20\n",
      "2    30\n",
      "dtype: int64\n"
     ]
    }
   ],
   "source": [
    "seri = pd.Series([10, 20, 30])\n",
    "print(seri)"
   ]
  },
  {
   "cell_type": "markdown",
   "id": "8e81d9ab-5b5e-4da4-8e45-6fdfe0a47201",
   "metadata": {},
   "source": [
    "**Gördüğün gibi:**\n",
    "\n",
    "- Soldaki sayılar: Index (otomatik oluşturulmuş)\n",
    "- Sağdaki sayılar: Veri değerleri"
   ]
  },
  {
   "cell_type": "code",
   "execution_count": 8,
   "id": "a6e009a4-7bf2-481c-a7e4-d295f1de8cc3",
   "metadata": {},
   "outputs": [
    {
     "data": {
      "text/plain": [
       "0    12\n",
       "1    33\n",
       "2    45\n",
       "3    50\n",
       "4    14\n",
       "5    22\n",
       "6    16\n",
       "7    28\n",
       "dtype: int64"
      ]
     },
     "execution_count": 8,
     "metadata": {},
     "output_type": "execute_result"
    }
   ],
   "source": [
    "seri = pd.Series([12, 33, 45, 50, 14, 22, 16, 28])\n",
    "seri\n",
    "\n",
    "#Bu kodda bir Series oluşturulmuş. İçinde 8 tane sayı var. Pandas bu sayılara otomatik index verir: 0'dan başlar, sırayla artar."
   ]
  },
  {
   "cell_type": "code",
   "execution_count": 13,
   "id": "1d2fcfd9-3210-410d-9a39-a35de799e5a4",
   "metadata": {},
   "outputs": [
    {
     "data": {
      "text/plain": [
       "pandas.core.series.Series"
      ]
     },
     "execution_count": 13,
     "metadata": {},
     "output_type": "execute_result"
    }
   ],
   "source": [
    "type(seri)"
   ]
  },
  {
   "cell_type": "code",
   "execution_count": 16,
   "id": "a1ae7c44-1ac9-4a2e-896c-9f331a29bfb7",
   "metadata": {},
   "outputs": [
    {
     "data": {
      "text/plain": [
       "RangeIndex(start=0, stop=8, step=1)"
      ]
     },
     "execution_count": 16,
     "metadata": {},
     "output_type": "execute_result"
    }
   ],
   "source": [
    "seri.index\n",
    "#.index: serinin index bilgisine ulaşabiliriz."
   ]
  },
  {
   "cell_type": "code",
   "execution_count": 18,
   "id": "4edfd3dd-7e20-41e9-bc30-b44c91f94568",
   "metadata": {},
   "outputs": [
    {
     "data": {
      "text/plain": [
       "8"
      ]
     },
     "execution_count": 18,
     "metadata": {},
     "output_type": "execute_result"
    }
   ],
   "source": [
    "#italik metin.size: Eleman sayısını verir.\n",
    "seri.size"
   ]
  },
  {
   "cell_type": "code",
   "execution_count": 19,
   "id": "32e126e1-2de4-40dd-b800-18e6d0921998",
   "metadata": {},
   "outputs": [
    {
     "data": {
      "text/plain": [
       "1"
      ]
     },
     "execution_count": 19,
     "metadata": {},
     "output_type": "execute_result"
    }
   ],
   "source": [
    "#.ndim: boyut bilgisini verir.\n",
    "seri.ndim"
   ]
  },
  {
   "cell_type": "code",
   "execution_count": 20,
   "id": "f1503c34-c0af-4e9f-a10f-dd3048c1d270",
   "metadata": {},
   "outputs": [
    {
     "data": {
      "text/plain": [
       "array([12, 33, 45, 50, 14, 22, 16, 28])"
      ]
     },
     "execution_count": 20,
     "metadata": {},
     "output_type": "execute_result"
    }
   ],
   "source": [
    "#Değerlere array formunda  erişmek istersek values methodunu kullanabiliriz.\n",
    "a = seri.values\n",
    "a"
   ]
  },
  {
   "cell_type": "code",
   "execution_count": 21,
   "id": "afe9a452-30a5-4557-aca2-9147363d7060",
   "metadata": {},
   "outputs": [
    {
     "data": {
      "text/plain": [
       "numpy.ndarray"
      ]
     },
     "execution_count": 21,
     "metadata": {},
     "output_type": "execute_result"
    }
   ],
   "source": [
    "type(a)"
   ]
  },
  {
   "cell_type": "markdown",
   "id": "e0208c0f-6c27-4571-b79f-77d0addac774",
   "metadata": {},
   "source": [
    "**.head(n):**\n",
    "\n",
    "**İşlev: Serinin veya veri çerçevesinin (DataFrame) ilk n elemanını döndürür.**\n",
    "\n",
    "**Varsayılan: n belirtilmezse, ilk 5 elemanı döndürür.**"
   ]
  },
  {
   "cell_type": "code",
   "execution_count": 23,
   "id": "fe3f7032-c741-48e4-a52a-560f2af837ba",
   "metadata": {},
   "outputs": [
    {
     "data": {
      "text/plain": [
       "0    12\n",
       "1    33\n",
       "dtype: int64"
      ]
     },
     "execution_count": 23,
     "metadata": {},
     "output_type": "execute_result"
    }
   ],
   "source": [
    "seri.head(2)"
   ]
  },
  {
   "cell_type": "code",
   "execution_count": 24,
   "id": "3bf3bca2-7c21-4a4b-a040-e5d98cf7aed7",
   "metadata": {},
   "outputs": [
    {
     "data": {
      "text/plain": [
       "0    12\n",
       "1    33\n",
       "2    45\n",
       "3    50\n",
       "4    14\n",
       "dtype: int64"
      ]
     },
     "execution_count": 24,
     "metadata": {},
     "output_type": "execute_result"
    }
   ],
   "source": [
    "seri.head()"
   ]
  },
  {
   "cell_type": "markdown",
   "id": "796d6f28-eaa8-44ee-8c9a-959cb52c3649",
   "metadata": {},
   "source": [
    "**.tail(n):**\n",
    "\n",
    "**İşlev: Serinin veya veri çerçevesinin son n elemanını döndürür.**\n",
    "\n",
    "**Varsayılan: n belirtilmezse, son 5 elemanı döndürür.**"
   ]
  },
  {
   "cell_type": "code",
   "execution_count": 25,
   "id": "5ae7a47d-9e75-4123-a0f4-f4080e11197c",
   "metadata": {},
   "outputs": [
    {
     "data": {
      "text/plain": [
       "3    50\n",
       "4    14\n",
       "5    22\n",
       "6    16\n",
       "7    28\n",
       "dtype: int64"
      ]
     },
     "execution_count": 25,
     "metadata": {},
     "output_type": "execute_result"
    }
   ],
   "source": [
    "seri.tail()"
   ]
  },
  {
   "cell_type": "code",
   "execution_count": 26,
   "id": "8ed1549a-ece8-4f77-850e-874ce32a71d7",
   "metadata": {},
   "outputs": [
    {
     "data": {
      "text/plain": [
       "4    14\n",
       "5    22\n",
       "6    16\n",
       "7    28\n",
       "dtype: int64"
      ]
     },
     "execution_count": 26,
     "metadata": {},
     "output_type": "execute_result"
    }
   ],
   "source": [
    "seri.tail(4)"
   ]
  },
  {
   "cell_type": "code",
   "execution_count": 27,
   "id": "184734ca-75bb-4330-ac79-edb67a128726",
   "metadata": {},
   "outputs": [
    {
     "data": {
      "text/plain": [
       "4    14\n",
       "5    22\n",
       "6    16\n",
       "7    28\n",
       "dtype: int64"
      ]
     },
     "execution_count": 27,
     "metadata": {},
     "output_type": "execute_result"
    }
   ],
   "source": [
    "#-'lı değerlerlerde girilen n değeri kadar baştaki gözlemleri atar ve kalan gözlemleri ekrana yazdırır.\n",
    "#Bu durumda ilk 4 gözlem atılır (yani index 0,1,2,3)\n",
    "seri.tail(-4)"
   ]
  },
  {
   "cell_type": "code",
   "execution_count": 28,
   "id": "996416c1-e6e8-466d-86a6-5b993fbc6653",
   "metadata": {},
   "outputs": [
    {
     "data": {
      "text/plain": [
       "2    45\n",
       "3    50\n",
       "4    14\n",
       "5    22\n",
       "6    16\n",
       "7    28\n",
       "dtype: int64"
      ]
     },
     "execution_count": 28,
     "metadata": {},
     "output_type": "execute_result"
    }
   ],
   "source": [
    "seri.tail(-2)"
   ]
  },
  {
   "cell_type": "code",
   "execution_count": 29,
   "id": "aa550d20-5df8-4fed-91d8-dcb06ee2ceac",
   "metadata": {},
   "outputs": [
    {
     "data": {
      "text/plain": [
       "50"
      ]
     },
     "execution_count": 29,
     "metadata": {},
     "output_type": "execute_result"
    }
   ],
   "source": [
    "#3 indexe erişelim. \n",
    "seri[3]"
   ]
  },
  {
   "cell_type": "code",
   "execution_count": 30,
   "id": "c0b691f8-feb1-4335-ab91-a42e79b44c22",
   "metadata": {},
   "outputs": [
    {
     "data": {
      "text/plain": [
       "0    12\n",
       "1    33\n",
       "2    45\n",
       "3    50\n",
       "4    14\n",
       "5    22\n",
       "6    16\n",
       "7    28\n",
       "dtype: int64"
      ]
     },
     "execution_count": 30,
     "metadata": {},
     "output_type": "execute_result"
    }
   ],
   "source": [
    "seri"
   ]
  },
  {
   "cell_type": "code",
   "execution_count": 31,
   "id": "121b67d5-2ad4-4369-b505-f76e2e1fa427",
   "metadata": {},
   "outputs": [
    {
     "data": {
      "text/plain": [
       "2    45\n",
       "3    50\n",
       "4    14\n",
       "dtype: int64"
      ]
     },
     "execution_count": 31,
     "metadata": {},
     "output_type": "execute_result"
    }
   ],
   "source": [
    "#2. index ile 4. index (dahil) aralaığını seçelim. \n",
    "seri[2:5]"
   ]
  },
  {
   "cell_type": "code",
   "execution_count": 32,
   "id": "0460a548-cd80-4798-be3f-84752c46efd5",
   "metadata": {},
   "outputs": [
    {
     "data": {
      "text/plain": [
       "0    12\n",
       "1    33\n",
       "2    45\n",
       "3    50\n",
       "4    14\n",
       "5    22\n",
       "6    16\n",
       "7    28\n",
       "dtype: int64"
      ]
     },
     "execution_count": 32,
     "metadata": {},
     "output_type": "execute_result"
    }
   ],
   "source": [
    "seri"
   ]
  },
  {
   "cell_type": "code",
   "execution_count": 33,
   "id": "cef1b961-000c-47b5-84ca-246be35f242b",
   "metadata": {},
   "outputs": [
    {
     "data": {
      "text/plain": [
       "1      2\n",
       "3      4\n",
       "5      6\n",
       "7      8\n",
       "9     10\n",
       "11    12\n",
       "dtype: int64"
      ]
     },
     "execution_count": 33,
     "metadata": {},
     "output_type": "execute_result"
    }
   ],
   "source": [
    "seri2 = pd.Series([2,4,6,8,10,12], index = [1,3,5,7,9,11])\n",
    "seri2"
   ]
  },
  {
   "cell_type": "code",
   "execution_count": 34,
   "id": "08b167ae-e6d4-4101-ad95-cee320d2052b",
   "metadata": {},
   "outputs": [
    {
     "data": {
      "text/plain": [
       "4"
      ]
     },
     "execution_count": 34,
     "metadata": {},
     "output_type": "execute_result"
    }
   ],
   "source": [
    "seri2[3]\n",
    "#İndex değeri yoksa mesela 2. index olmadığı için KeyError hatası verir."
   ]
  },
  {
   "cell_type": "code",
   "execution_count": 35,
   "id": "d943f26f-ab8c-4e6c-aaee-686bbf81222d",
   "metadata": {},
   "outputs": [
    {
     "data": {
      "text/plain": [
       "a     2\n",
       "b     4\n",
       "c     6\n",
       "d     8\n",
       "e    10\n",
       "f    12\n",
       "dtype: int64"
      ]
     },
     "execution_count": 35,
     "metadata": {},
     "output_type": "execute_result"
    }
   ],
   "source": [
    "seri2 = pd.Series([2,4,6,8,10,12], index = [\"a\",\"b\",\"c\",\"d\",\"e\",\"f\"])\n",
    "seri2"
   ]
  },
  {
   "cell_type": "code",
   "execution_count": 36,
   "id": "d9de1706-de44-401d-b5a9-4433d2fe2b29",
   "metadata": {},
   "outputs": [
    {
     "data": {
      "text/plain": [
       "4"
      ]
     },
     "execution_count": 36,
     "metadata": {},
     "output_type": "execute_result"
    }
   ],
   "source": [
    "#index çağırma\n",
    "seri2[\"b\"]"
   ]
  },
  {
   "cell_type": "code",
   "execution_count": 37,
   "id": "93539ab6-cd89-483e-b023-e0150ee3e9e7",
   "metadata": {},
   "outputs": [
    {
     "data": {
      "text/plain": [
       "a    2\n",
       "b    4\n",
       "c    6\n",
       "d    8\n",
       "dtype: int64"
      ]
     },
     "execution_count": 37,
     "metadata": {},
     "output_type": "execute_result"
    }
   ],
   "source": [
    "#dilimleme\n",
    "seri2[\"a\":\"d\"]"
   ]
  },
  {
   "cell_type": "code",
   "execution_count": 38,
   "id": "0b93dcd4-7656-46cc-b6ed-86aa38c4472a",
   "metadata": {},
   "outputs": [
    {
     "data": {
      "text/plain": [
       "{'Büşra': 25, 'Melis': 22, 'Ayşe': 26}"
      ]
     },
     "execution_count": 38,
     "metadata": {},
     "output_type": "execute_result"
    }
   ],
   "source": [
    "#Sözlük üzerinden bir seri oluşturalım. \n",
    "sozluk = {\"Büşra\": 25,\n",
    "            \"Melis\": 22,\n",
    "          \"Ayşe\":26 }\n",
    "\n",
    "sozluk"
   ]
  },
  {
   "cell_type": "code",
   "execution_count": 39,
   "id": "bb4948c7-927d-41da-a976-6fda13db4b9f",
   "metadata": {},
   "outputs": [
    {
     "data": {
      "text/plain": [
       "Büşra    25\n",
       "Melis    22\n",
       "Ayşe     26\n",
       "dtype: int64"
      ]
     },
     "execution_count": 39,
     "metadata": {},
     "output_type": "execute_result"
    }
   ],
   "source": [
    "yeni_sozluk = pd.Series(sozluk)\n",
    "yeni_sozluk"
   ]
  },
  {
   "cell_type": "code",
   "execution_count": 40,
   "id": "f099c2f3-5903-4230-b6f2-779e367b3140",
   "metadata": {},
   "outputs": [
    {
     "data": {
      "text/plain": [
       "pandas.core.series.Series"
      ]
     },
     "execution_count": 40,
     "metadata": {},
     "output_type": "execute_result"
    }
   ],
   "source": [
    "type(yeni_sozluk)"
   ]
  },
  {
   "cell_type": "code",
   "execution_count": 41,
   "id": "d8c7bb0b-1f46-4b6b-9a2c-cdde53774253",
   "metadata": {},
   "outputs": [
    {
     "name": "stdout",
     "output_type": "stream",
     "text": [
      "0    49\n",
      "1    45\n",
      "2    47\n",
      "3    47\n",
      "4    48\n",
      "5    49\n",
      "dtype: int64\n"
     ]
    }
   ],
   "source": [
    "#array üzerinden bir seri oluşturalım. \n",
    "import numpy as np\n",
    "#maximum 50 sayıya kadar çıkabilen ve 6 değerlerden oluşan random bir aray oluşturun\n",
    "\n",
    "#Melis Alsan\n",
    "random_series = pd.Series(np.random.randint(45, 51, size=6))\n",
    "print(random_series)"
   ]
  },
  {
   "cell_type": "markdown",
   "id": "d02b1b00-5a69-4418-b715-18a5dde1aa28",
   "metadata": {},
   "source": [
    "**DataFrame**\n",
    "\n",
    "- Eşit uzunlukta bir veri dizilimidir. \n",
    "- Veri Manipülasyonu: Veri seçme, Veri filtreleme, gruplandırma, dönüştürme.\n",
    "- Veriyi düzenli bir şekilde tutar. \n",
    "- Veriyi düzenli bir şekilde tuttuğu için üzerinde kolaylıkla değişiklikler yapabiliriz. \n",
    "\n",
    "pd.DataFrame()"
   ]
  },
  {
   "cell_type": "code",
   "execution_count": 42,
   "id": "aeb4d4c4-c073-48fb-a9ed-a85741d3b279",
   "metadata": {},
   "outputs": [
    {
     "data": {
      "text/html": [
       "<div>\n",
       "<style scoped>\n",
       "    .dataframe tbody tr th:only-of-type {\n",
       "        vertical-align: middle;\n",
       "    }\n",
       "\n",
       "    .dataframe tbody tr th {\n",
       "        vertical-align: top;\n",
       "    }\n",
       "\n",
       "    .dataframe thead th {\n",
       "        text-align: right;\n",
       "    }\n",
       "</style>\n",
       "<table border=\"1\" class=\"dataframe\">\n",
       "  <thead>\n",
       "    <tr style=\"text-align: right;\">\n",
       "      <th></th>\n",
       "      <th>0</th>\n",
       "    </tr>\n",
       "  </thead>\n",
       "  <tbody>\n",
       "    <tr>\n",
       "      <th>a</th>\n",
       "      <td>2</td>\n",
       "    </tr>\n",
       "    <tr>\n",
       "      <th>b</th>\n",
       "      <td>4</td>\n",
       "    </tr>\n",
       "    <tr>\n",
       "      <th>c</th>\n",
       "      <td>6</td>\n",
       "    </tr>\n",
       "    <tr>\n",
       "      <th>d</th>\n",
       "      <td>8</td>\n",
       "    </tr>\n",
       "    <tr>\n",
       "      <th>e</th>\n",
       "      <td>10</td>\n",
       "    </tr>\n",
       "    <tr>\n",
       "      <th>f</th>\n",
       "      <td>12</td>\n",
       "    </tr>\n",
       "  </tbody>\n",
       "</table>\n",
       "</div>"
      ],
      "text/plain": [
       "    0\n",
       "a   2\n",
       "b   4\n",
       "c   6\n",
       "d   8\n",
       "e  10\n",
       "f  12"
      ]
     },
     "execution_count": 42,
     "metadata": {},
     "output_type": "execute_result"
    }
   ],
   "source": [
    "pd.DataFrame(seri2)"
   ]
  },
  {
   "cell_type": "code",
   "execution_count": 43,
   "id": "5ca7aa1c-8b2a-41fa-8233-8c114740b97c",
   "metadata": {},
   "outputs": [
    {
     "data": {
      "text/html": [
       "<div>\n",
       "<style scoped>\n",
       "    .dataframe tbody tr th:only-of-type {\n",
       "        vertical-align: middle;\n",
       "    }\n",
       "\n",
       "    .dataframe tbody tr th {\n",
       "        vertical-align: top;\n",
       "    }\n",
       "\n",
       "    .dataframe thead th {\n",
       "        text-align: right;\n",
       "    }\n",
       "</style>\n",
       "<table border=\"1\" class=\"dataframe\">\n",
       "  <thead>\n",
       "    <tr style=\"text-align: right;\">\n",
       "      <th></th>\n",
       "      <th>Gözlem</th>\n",
       "    </tr>\n",
       "  </thead>\n",
       "  <tbody>\n",
       "    <tr>\n",
       "      <th>a</th>\n",
       "      <td>2</td>\n",
       "    </tr>\n",
       "    <tr>\n",
       "      <th>b</th>\n",
       "      <td>4</td>\n",
       "    </tr>\n",
       "    <tr>\n",
       "      <th>c</th>\n",
       "      <td>6</td>\n",
       "    </tr>\n",
       "    <tr>\n",
       "      <th>d</th>\n",
       "      <td>8</td>\n",
       "    </tr>\n",
       "    <tr>\n",
       "      <th>e</th>\n",
       "      <td>10</td>\n",
       "    </tr>\n",
       "    <tr>\n",
       "      <th>f</th>\n",
       "      <td>12</td>\n",
       "    </tr>\n",
       "  </tbody>\n",
       "</table>\n",
       "</div>"
      ],
      "text/plain": [
       "   Gözlem\n",
       "a       2\n",
       "b       4\n",
       "c       6\n",
       "d       8\n",
       "e      10\n",
       "f      12"
      ]
     },
     "execution_count": 43,
     "metadata": {},
     "output_type": "execute_result"
    }
   ],
   "source": [
    "pd.DataFrame(seri2, columns = [\"Gözlem\"])"
   ]
  },
  {
   "cell_type": "code",
   "execution_count": 44,
   "id": "1acb09b9-0598-4e3e-9fe9-7b4c4c405bf5",
   "metadata": {},
   "outputs": [
    {
     "data": {
      "text/html": [
       "<div>\n",
       "<style scoped>\n",
       "    .dataframe tbody tr th:only-of-type {\n",
       "        vertical-align: middle;\n",
       "    }\n",
       "\n",
       "    .dataframe tbody tr th {\n",
       "        vertical-align: top;\n",
       "    }\n",
       "\n",
       "    .dataframe thead th {\n",
       "        text-align: right;\n",
       "    }\n",
       "</style>\n",
       "<table border=\"1\" class=\"dataframe\">\n",
       "  <thead>\n",
       "    <tr style=\"text-align: right;\">\n",
       "      <th></th>\n",
       "      <th>0</th>\n",
       "      <th>1</th>\n",
       "      <th>2</th>\n",
       "    </tr>\n",
       "  </thead>\n",
       "  <tbody>\n",
       "    <tr>\n",
       "      <th>0</th>\n",
       "      <td>10</td>\n",
       "      <td>21</td>\n",
       "      <td>2</td>\n",
       "    </tr>\n",
       "    <tr>\n",
       "      <th>1</th>\n",
       "      <td>18</td>\n",
       "      <td>5</td>\n",
       "      <td>18</td>\n",
       "    </tr>\n",
       "    <tr>\n",
       "      <th>2</th>\n",
       "      <td>7</td>\n",
       "      <td>18</td>\n",
       "      <td>19</td>\n",
       "    </tr>\n",
       "    <tr>\n",
       "      <th>3</th>\n",
       "      <td>20</td>\n",
       "      <td>0</td>\n",
       "      <td>21</td>\n",
       "    </tr>\n",
       "  </tbody>\n",
       "</table>\n",
       "</div>"
      ],
      "text/plain": [
       "    0   1   2\n",
       "0  10  21   2\n",
       "1  18   5  18\n",
       "2   7  18  19\n",
       "3  20   0  21"
      ]
     },
     "execution_count": 44,
     "metadata": {},
     "output_type": "execute_result"
    }
   ],
   "source": [
    "#Random bir array oluşturalım ve bunu dataframe'e dönüştürelim\n",
    "#Max :25 değerini alsın ve 12 gözlemi olsun ve 4x3 şekli olsun. \n",
    "\n",
    "yeni_dizi1 = np.random.randint(26, size = 12).reshape(4,3)\n",
    "pd.DataFrame(yeni_dizi1)"
   ]
  },
  {
   "cell_type": "code",
   "execution_count": 45,
   "id": "bc04f507-4134-481a-8e66-9d0577c901b3",
   "metadata": {},
   "outputs": [
    {
     "data": {
      "text/html": [
       "<div>\n",
       "<style scoped>\n",
       "    .dataframe tbody tr th:only-of-type {\n",
       "        vertical-align: middle;\n",
       "    }\n",
       "\n",
       "    .dataframe tbody tr th {\n",
       "        vertical-align: top;\n",
       "    }\n",
       "\n",
       "    .dataframe thead th {\n",
       "        text-align: right;\n",
       "    }\n",
       "</style>\n",
       "<table border=\"1\" class=\"dataframe\">\n",
       "  <thead>\n",
       "    <tr style=\"text-align: right;\">\n",
       "      <th></th>\n",
       "      <th>0</th>\n",
       "      <th>1</th>\n",
       "      <th>2</th>\n",
       "    </tr>\n",
       "  </thead>\n",
       "  <tbody>\n",
       "    <tr>\n",
       "      <th>0</th>\n",
       "      <td>22</td>\n",
       "      <td>2</td>\n",
       "      <td>1</td>\n",
       "    </tr>\n",
       "    <tr>\n",
       "      <th>1</th>\n",
       "      <td>10</td>\n",
       "      <td>9</td>\n",
       "      <td>13</td>\n",
       "    </tr>\n",
       "    <tr>\n",
       "      <th>2</th>\n",
       "      <td>9</td>\n",
       "      <td>10</td>\n",
       "      <td>9</td>\n",
       "    </tr>\n",
       "    <tr>\n",
       "      <th>3</th>\n",
       "      <td>15</td>\n",
       "      <td>10</td>\n",
       "      <td>23</td>\n",
       "    </tr>\n",
       "  </tbody>\n",
       "</table>\n",
       "</div>"
      ],
      "text/plain": [
       "    0   1   2\n",
       "0  22   2   1\n",
       "1  10   9  13\n",
       "2   9  10   9\n",
       "3  15  10  23"
      ]
     },
     "execution_count": 45,
     "metadata": {},
     "output_type": "execute_result"
    }
   ],
   "source": [
    "yeni_dizi1 = np.random.randint(26, size = 12).reshape(4,3)\n",
    "pd.DataFrame(yeni_dizi1)"
   ]
  },
  {
   "cell_type": "code",
   "execution_count": 46,
   "id": "9eec2344-aa11-4bec-acfb-4294c26d8abd",
   "metadata": {},
   "outputs": [
    {
     "data": {
      "text/html": [
       "<div>\n",
       "<style scoped>\n",
       "    .dataframe tbody tr th:only-of-type {\n",
       "        vertical-align: middle;\n",
       "    }\n",
       "\n",
       "    .dataframe tbody tr th {\n",
       "        vertical-align: top;\n",
       "    }\n",
       "\n",
       "    .dataframe thead th {\n",
       "        text-align: right;\n",
       "    }\n",
       "</style>\n",
       "<table border=\"1\" class=\"dataframe\">\n",
       "  <thead>\n",
       "    <tr style=\"text-align: right;\">\n",
       "      <th></th>\n",
       "      <th>0</th>\n",
       "      <th>1</th>\n",
       "      <th>2</th>\n",
       "    </tr>\n",
       "  </thead>\n",
       "  <tbody>\n",
       "    <tr>\n",
       "      <th>0</th>\n",
       "      <td>12</td>\n",
       "      <td>3</td>\n",
       "      <td>3</td>\n",
       "    </tr>\n",
       "    <tr>\n",
       "      <th>1</th>\n",
       "      <td>17</td>\n",
       "      <td>18</td>\n",
       "      <td>7</td>\n",
       "    </tr>\n",
       "    <tr>\n",
       "      <th>2</th>\n",
       "      <td>3</td>\n",
       "      <td>19</td>\n",
       "      <td>24</td>\n",
       "    </tr>\n",
       "    <tr>\n",
       "      <th>3</th>\n",
       "      <td>24</td>\n",
       "      <td>8</td>\n",
       "      <td>25</td>\n",
       "    </tr>\n",
       "  </tbody>\n",
       "</table>\n",
       "</div>"
      ],
      "text/plain": [
       "    0   1   2\n",
       "0  12   3   3\n",
       "1  17  18   7\n",
       "2   3  19  24\n",
       "3  24   8  25"
      ]
     },
     "execution_count": 46,
     "metadata": {},
     "output_type": "execute_result"
    }
   ],
   "source": [
    "yeni_dizi = pd.DataFrame(np.random.randint(0, 26, (4, 3)))\n",
    "yeni_dizi"
   ]
  },
  {
   "cell_type": "code",
   "execution_count": 47,
   "id": "4bd2804a-ebe6-44c0-888e-a90030fc5644",
   "metadata": {},
   "outputs": [
    {
     "data": {
      "text/html": [
       "<div>\n",
       "<style scoped>\n",
       "    .dataframe tbody tr th:only-of-type {\n",
       "        vertical-align: middle;\n",
       "    }\n",
       "\n",
       "    .dataframe tbody tr th {\n",
       "        vertical-align: top;\n",
       "    }\n",
       "\n",
       "    .dataframe thead th {\n",
       "        text-align: right;\n",
       "    }\n",
       "</style>\n",
       "<table border=\"1\" class=\"dataframe\">\n",
       "  <thead>\n",
       "    <tr style=\"text-align: right;\">\n",
       "      <th></th>\n",
       "      <th>0</th>\n",
       "      <th>1</th>\n",
       "      <th>2</th>\n",
       "    </tr>\n",
       "  </thead>\n",
       "  <tbody>\n",
       "    <tr>\n",
       "      <th>0</th>\n",
       "      <td>13</td>\n",
       "      <td>3</td>\n",
       "      <td>0</td>\n",
       "    </tr>\n",
       "    <tr>\n",
       "      <th>1</th>\n",
       "      <td>19</td>\n",
       "      <td>5</td>\n",
       "      <td>7</td>\n",
       "    </tr>\n",
       "    <tr>\n",
       "      <th>2</th>\n",
       "      <td>9</td>\n",
       "      <td>3</td>\n",
       "      <td>11</td>\n",
       "    </tr>\n",
       "    <tr>\n",
       "      <th>3</th>\n",
       "      <td>0</td>\n",
       "      <td>16</td>\n",
       "      <td>15</td>\n",
       "    </tr>\n",
       "  </tbody>\n",
       "</table>\n",
       "</div>"
      ],
      "text/plain": [
       "    0   1   2\n",
       "0  13   3   0\n",
       "1  19   5   7\n",
       "2   9   3  11\n",
       "3   0  16  15"
      ]
     },
     "execution_count": 47,
     "metadata": {},
     "output_type": "execute_result"
    }
   ],
   "source": [
    "array = np.random.randint(0, 25, size=(4, 3))  \n",
    "df = pd.DataFrame(array)\n",
    "df"
   ]
  },
  {
   "cell_type": "code",
   "execution_count": 48,
   "id": "3e0f2013-7309-4046-87d4-ed993c28007a",
   "metadata": {},
   "outputs": [
    {
     "data": {
      "text/html": [
       "<div>\n",
       "<style scoped>\n",
       "    .dataframe tbody tr th:only-of-type {\n",
       "        vertical-align: middle;\n",
       "    }\n",
       "\n",
       "    .dataframe tbody tr th {\n",
       "        vertical-align: top;\n",
       "    }\n",
       "\n",
       "    .dataframe thead th {\n",
       "        text-align: right;\n",
       "    }\n",
       "</style>\n",
       "<table border=\"1\" class=\"dataframe\">\n",
       "  <thead>\n",
       "    <tr style=\"text-align: right;\">\n",
       "      <th></th>\n",
       "      <th>1.Sütun</th>\n",
       "      <th>2.Sütun</th>\n",
       "      <th>3.Sütun</th>\n",
       "    </tr>\n",
       "  </thead>\n",
       "  <tbody>\n",
       "    <tr>\n",
       "      <th>0</th>\n",
       "      <td>13</td>\n",
       "      <td>3</td>\n",
       "      <td>0</td>\n",
       "    </tr>\n",
       "    <tr>\n",
       "      <th>1</th>\n",
       "      <td>19</td>\n",
       "      <td>5</td>\n",
       "      <td>7</td>\n",
       "    </tr>\n",
       "    <tr>\n",
       "      <th>2</th>\n",
       "      <td>9</td>\n",
       "      <td>3</td>\n",
       "      <td>11</td>\n",
       "    </tr>\n",
       "    <tr>\n",
       "      <th>3</th>\n",
       "      <td>0</td>\n",
       "      <td>16</td>\n",
       "      <td>15</td>\n",
       "    </tr>\n",
       "  </tbody>\n",
       "</table>\n",
       "</div>"
      ],
      "text/plain": [
       "   1.Sütun  2.Sütun  3.Sütun\n",
       "0       13        3        0\n",
       "1       19        5        7\n",
       "2        9        3       11\n",
       "3        0       16       15"
      ]
     },
     "execution_count": 48,
     "metadata": {},
     "output_type": "execute_result"
    }
   ],
   "source": [
    "df.columns = [\"1.Sütun\",\"2.Sütun\",\"3.Sütun\"]\n",
    "df"
   ]
  },
  {
   "cell_type": "code",
   "execution_count": 49,
   "id": "b8eeef32-48ec-4576-bcf4-9d355c7b94d0",
   "metadata": {},
   "outputs": [
    {
     "data": {
      "text/plain": [
       "RangeIndex(start=0, stop=4, step=1)"
      ]
     },
     "execution_count": 49,
     "metadata": {},
     "output_type": "execute_result"
    }
   ],
   "source": [
    "df.index"
   ]
  },
  {
   "cell_type": "markdown",
   "id": "8cb0ffce-b337-4f70-b6ec-d95c3e94f3f8",
   "metadata": {},
   "source": [
    "**.axes =satır ve sütün etiket isimlerini döndürebiliriz**"
   ]
  },
  {
   "cell_type": "code",
   "execution_count": 50,
   "id": "73c791fc-0889-40cc-bc33-d015954c8060",
   "metadata": {},
   "outputs": [
    {
     "data": {
      "text/plain": [
       "[RangeIndex(start=0, stop=4, step=1),\n",
       " Index(['1.Sütun', '2.Sütun', '3.Sütun'], dtype='object')]"
      ]
     },
     "execution_count": 50,
     "metadata": {},
     "output_type": "execute_result"
    }
   ],
   "source": [
    "df.axes #etiket bilgisini döndürür. "
   ]
  },
  {
   "cell_type": "code",
   "execution_count": 51,
   "id": "2a46b374-d88e-42b8-aeab-d79060167d6b",
   "metadata": {},
   "outputs": [
    {
     "data": {
      "text/plain": [
       "2"
      ]
     },
     "execution_count": 51,
     "metadata": {},
     "output_type": "execute_result"
    }
   ],
   "source": [
    "df.ndim #boyut bilgisine baktık."
   ]
  },
  {
   "cell_type": "code",
   "execution_count": 52,
   "id": "fca2c4f0-4749-409d-932b-3c187c68ed87",
   "metadata": {},
   "outputs": [
    {
     "data": {
      "text/plain": [
       "(4, 3)"
      ]
     },
     "execution_count": 52,
     "metadata": {},
     "output_type": "execute_result"
    }
   ],
   "source": [
    "df.shape #satır ve sütunlarına baktık"
   ]
  },
  {
   "cell_type": "code",
   "execution_count": 53,
   "id": "6b038f61-1773-4665-9e99-6d6c2cfe9d45",
   "metadata": {},
   "outputs": [
    {
     "data": {
      "text/plain": [
       "array([[13,  3,  0],\n",
       "       [19,  5,  7],\n",
       "       [ 9,  3, 11],\n",
       "       [ 0, 16, 15]])"
      ]
     },
     "execution_count": 53,
     "metadata": {},
     "output_type": "execute_result"
    }
   ],
   "source": [
    "df.values #içeride bulunan gözlem değerlendiri ekrana yazdırır"
   ]
  },
  {
   "cell_type": "code",
   "execution_count": null,
   "id": "e1772bfe-3937-4017-8b85-ec5ddc8665fa",
   "metadata": {},
   "outputs": [],
   "source": []
  }
 ],
 "metadata": {
  "kernelspec": {
   "display_name": "Python [conda env:base] *",
   "language": "python",
   "name": "conda-base-py"
  },
  "language_info": {
   "codemirror_mode": {
    "name": "ipython",
    "version": 3
   },
   "file_extension": ".py",
   "mimetype": "text/x-python",
   "name": "python",
   "nbconvert_exporter": "python",
   "pygments_lexer": "ipython3",
   "version": "3.12.7"
  }
 },
 "nbformat": 4,
 "nbformat_minor": 5
}
