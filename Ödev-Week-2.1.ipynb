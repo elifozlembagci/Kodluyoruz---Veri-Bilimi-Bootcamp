{
 "cells": [
  {
   "cell_type": "markdown",
   "id": "79ba4fbe-1edd-4682-8136-f8340474a7e8",
   "metadata": {},
   "source": [
    "**Ödev-1:** Kullanıcıdan maaş bilgisini istenir ve bu bilgiye göre maaşından ne kadar vergi kesileceğini hesaplanır. Kullanıcının geliri;\n",
    "\n",
    "1. 10000 ve altındaysa maaşından %5 kesinti olur.\n",
    "2. 25000 ve altındaysa maaşından %10 kesinti olur.\n",
    "3. 45000 ve altındaysa maaşından %25 kesinti olur.\n",
    "4. Diğer koşullarda %30 kesinti olur.\n",
    "\n",
    "Bu durumlara göre kullanıcının yeni maaşı yazdırılır."
   ]
  },
  {
   "cell_type": "code",
   "execution_count": 1,
   "id": "529058b3-57ea-45f6-a21d-c245ce437bb4",
   "metadata": {},
   "outputs": [
    {
     "name": "stdin",
     "output_type": "stream",
     "text": [
      "Maaş bilginizi giriniz:  15000\n"
     ]
    }
   ],
   "source": [
    "maas = int(input(\"Maaş bilginizi giriniz: \"))"
   ]
  },
  {
   "cell_type": "code",
   "execution_count": 7,
   "id": "3e300747-11b1-4407-b115-87e89aaa72cd",
   "metadata": {},
   "outputs": [
    {
     "name": "stdout",
     "output_type": "stream",
     "text": [
      "Maaşınızdan %10 vergi kesilmiştir. Güncel maaşınız: 13500\n"
     ]
    }
   ],
   "source": [
    "if maas < 10000:\n",
    "    x = 5\n",
    "    yeni_maas = maas * 95 / 100\n",
    "elif maas < 25000:\n",
    "    x = 10\n",
    "    yeni_maas = maas * 90 / 100\n",
    "elif maas < 45000:\n",
    "    x = 25\n",
    "    yeni_maas = maas * 75 / 100\n",
    "else:\n",
    "    x = 30\n",
    "    yeni_maas = maas * 70 / 100\n",
    "    \n",
    "print(f\"Maaşınızdan %{x} vergi kesilmiştir. Güncel maaşınız: {int(yeni_maas)}\")\n"
   ]
  },
  {
   "cell_type": "markdown",
   "id": "46391428-f078-4666-9635-fc1e316d39b5",
   "metadata": {},
   "source": [
    "**Ödev-2:** Kullanıcıdan kullanıcı adı ve şifre oluşturmasını istenir. Şifrenin uzunluğu altı haneye ulaşmışsa hesabınız oluşturuldu mesajı alınır, altı haneden azsa altı haneli şifre oluşturması gerektiğinin mesajı alınır. *(Sadece koşul kullanılması yeterli.)*"
   ]
  },
  {
   "cell_type": "code",
   "execution_count": 12,
   "id": "40406b18-4f9c-4ec8-8650-0a2ac5a945e6",
   "metadata": {},
   "outputs": [
    {
     "name": "stdin",
     "output_type": "stream",
     "text": [
      "Merhaba! Lütfen kullanıcı adınızı seçiniz:  123456\n",
      "Merhaba! Lütfen şifrenizi seçiniz:  123456\n"
     ]
    },
    {
     "name": "stdout",
     "output_type": "stream",
     "text": [
      "✅ Tebrikler! Kullanıcı adı ve şifre başarıyla oluşturuldu.\n"
     ]
    }
   ],
   "source": [
    "while True:\n",
    "    kullanici_adi = input(\"Merhaba! Lütfen kullanıcı adınızı seçiniz: \")\n",
    "\n",
    "    if len(kullanici_adi)< 6:\n",
    "        print(\"Lütfen en az 6 haneli bir kullanıcı adı seçiniz!\")\n",
    "    else:\n",
    "        break\n",
    "    \n",
    "while True:\n",
    "    sifre = input(\"Merhaba! Lütfen şifrenizi seçiniz: \")\n",
    "\n",
    "    if len(sifre) < 6:\n",
    "        print(\"Lütfen en az 6 haneli bir şifre seçiniz!\")\n",
    "    else:\n",
    "        break\n",
    "\n",
    "print(\"✅ Tebrikler! Kullanıcı adı ve şifre başarıyla oluşturuldu.\")"
   ]
  },
  {
   "cell_type": "markdown",
   "id": "6e2ff73f-8f12-4f11-ada7-303b2fbdbe13",
   "metadata": {},
   "source": [
    "**Ödev-3:** Bir önceki örnek geliştirilir.\n",
    "\n",
    "1. Kullanıcı girdiği şifre 5 ve 10 hane arasında olmak zorunda.\n",
    "2. Eğer bu koşula uyuyorsa \"Hesabınız oluşturuldu.\" mesajı alır.\n",
    "3. Koşulu sağlamıyorsa \"Lütfen girdiniz şifre 5 haneden az 10 haneden fazla olmasın!\" uyarısı alır.\n",
    "4. Bunu oluştururken kullanıcı istediğimiz şartlarda şifre oluşturana kadar sormaya devam eder"
   ]
  },
  {
   "cell_type": "code",
   "execution_count": 19,
   "id": "6afd0a7f-4d0d-4dd9-a37a-5291d774cd44",
   "metadata": {},
   "outputs": [
    {
     "name": "stdin",
     "output_type": "stream",
     "text": [
      "Merhaba! Lütfen şifrenizi seçiniz:  s\n"
     ]
    },
    {
     "name": "stdout",
     "output_type": "stream",
     "text": [
      "Lütfen girdiniz şifre 5 haneden az 10 haneden fazla olmasın!\n"
     ]
    },
    {
     "name": "stdin",
     "output_type": "stream",
     "text": [
      "Merhaba! Lütfen şifrenizi seçiniz:  a\n"
     ]
    },
    {
     "name": "stdout",
     "output_type": "stream",
     "text": [
      "Lütfen girdiniz şifre 5 haneden az 10 haneden fazla olmasın!\n"
     ]
    },
    {
     "name": "stdin",
     "output_type": "stream",
     "text": [
      "Merhaba! Lütfen şifrenizi seçiniz:  dff\n"
     ]
    },
    {
     "name": "stdout",
     "output_type": "stream",
     "text": [
      "Lütfen girdiniz şifre 5 haneden az 10 haneden fazla olmasın!\n"
     ]
    },
    {
     "name": "stdin",
     "output_type": "stream",
     "text": [
      "Merhaba! Lütfen şifrenizi seçiniz:  12345\n"
     ]
    },
    {
     "name": "stdout",
     "output_type": "stream",
     "text": [
      "Hesabınız oluşturuldu.\n"
     ]
    }
   ],
   "source": [
    "while True:\n",
    "    sifre = input(\"Merhaba! Lütfen şifrenizi seçiniz: \")\n",
    "\n",
    "    if 5 <= len(sifre) < 10:\n",
    "        print(\"Hesabınız oluşturuldu.\")\n",
    "        break\n",
    "    else:\n",
    "        print(\"Lütfen girdiniz şifre 5 haneden az 10 haneden fazla olmasın!\")\n",
    "\n",
    "\n"
   ]
  },
  {
   "cell_type": "markdown",
   "id": "78f394e2-8efd-47af-89e1-0ec42a475413",
   "metadata": {},
   "source": [
    "**Ödev-4:** Kullanıcıdan isim ve şifre isteyeceğiz ve şifre girişi için üç hak verilir.\n",
    "\n",
    "1. Eğer önceden tanımlı şifre ile kullanıcıdan gelen şifre aynıysa \"Giriş yapıldı.\" yazar.\n",
    "2. Şifre girişi yanlışsa \"Yanlış şifre girildi!\" uyarısı verilsin ve üç yanlış denemede program biter.\n",
    "3. Tercihe göre kalan hak bilgisi verilir."
   ]
  },
  {
   "cell_type": "code",
   "execution_count": 23,
   "id": "89c6a61d-c2c2-4eac-b5b3-6bfe11e606e2",
   "metadata": {},
   "outputs": [
    {
     "name": "stdin",
     "output_type": "stream",
     "text": [
      "Merhaba! Lütfen şifrenizi giriniz:  2\n"
     ]
    },
    {
     "name": "stdout",
     "output_type": "stream",
     "text": [
      "❌ Yanlış şifre girildi!\n",
      "🔁 Kalan deneme hakkınız: 2\n"
     ]
    },
    {
     "name": "stdin",
     "output_type": "stream",
     "text": [
      "Merhaba! Lütfen şifrenizi giriniz:  3\n"
     ]
    },
    {
     "name": "stdout",
     "output_type": "stream",
     "text": [
      "❌ Yanlış şifre girildi!\n",
      "🔁 Kalan deneme hakkınız: 1\n"
     ]
    },
    {
     "name": "stdin",
     "output_type": "stream",
     "text": [
      "Merhaba! Lütfen şifrenizi giriniz:  1\n"
     ]
    },
    {
     "name": "stdout",
     "output_type": "stream",
     "text": [
      "❌ Yanlış şifre girildi!\n",
      "🚫 3 kez hatalı giriş yaptınız. Giriş başarısız.\n"
     ]
    }
   ],
   "source": [
    "tanimli_sifre = 12345\n",
    "hak = 3\n",
    "\n",
    "for deneme in range(hak):\n",
    "    y = input(\"Merhaba! Lütfen şifrenizi giriniz: \")\n",
    "    \n",
    "    if tanimli_sifre == y:\n",
    "        print(\"Giriş yapıldı.\")\n",
    "        break\n",
    "    else:\n",
    "        kalan_hak = hak - deneme - 1\n",
    "        print(\"❌ Yanlış şifre girildi!\")\n",
    "        if kalan_hak > 0:\n",
    "            print(f\"🔁 Kalan deneme hakkınız: {kalan_hak}\")\n",
    "        else:\n",
    "            print(\"🚫 3 kez hatalı giriş yaptınız. Giriş başarısız.\")\n",
    "    \n"
   ]
  }
 ],
 "metadata": {
  "kernelspec": {
   "display_name": "Python [conda env:base] *",
   "language": "python",
   "name": "conda-base-py"
  },
  "language_info": {
   "codemirror_mode": {
    "name": "ipython",
    "version": 3
   },
   "file_extension": ".py",
   "mimetype": "text/x-python",
   "name": "python",
   "nbconvert_exporter": "python",
   "pygments_lexer": "ipython3",
   "version": "3.12.7"
  }
 },
 "nbformat": 4,
 "nbformat_minor": 5
}
