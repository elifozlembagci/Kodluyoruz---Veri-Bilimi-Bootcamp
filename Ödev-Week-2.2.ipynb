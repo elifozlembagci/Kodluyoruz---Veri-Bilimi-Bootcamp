{
 "cells": [
  {
   "cell_type": "markdown",
   "id": "39119003-2364-4348-8217-93886621b5b9",
   "metadata": {},
   "source": [
    "#### Ödev 1\n",
    "Kullanıcıdan pi değeri ve yarıçap bilgisi alarak dairenin alanını hesaplayan bir fonksiyon oluşturulur."
   ]
  },
  {
   "cell_type": "code",
   "execution_count": 21,
   "id": "569241c4-c73e-4b41-a449-7d5d2d3c01bf",
   "metadata": {},
   "outputs": [
    {
     "name": "stdin",
     "output_type": "stream",
     "text": [
      "Lütfen pi değerinizi girin:  2\n",
      "Lütfen yarıçap değerinizi girin:  2\n"
     ]
    },
    {
     "name": "stdout",
     "output_type": "stream",
     "text": [
      "2.0 pi değerine ve 2.0 yarıçapına sahip bir dairenin alanı 8.0 m^2'dir.\n"
     ]
    }
   ],
   "source": [
    "def daire_alani(yariçap, pi_degeri):\n",
    "    alan = pi_degeri * yariçap * yariçap\n",
    "    return alan\n",
    "\n",
    "pi_degeri = float(input(\"Lütfen pi değerinizi girin: \"))\n",
    "yariçap = float(input(\"Lütfen yarıçap değerinizi girin: \"))\n",
    "\n",
    "\n",
    "print(f\"{pi_degeri} pi değerine ve {yariçap} yarıçapına sahip bir dairenin alanı {daire_alani(yariçap, pi_degeri)} m^2'dir.\")\n"
   ]
  },
  {
   "cell_type": "markdown",
   "id": "9771777c-926a-45f1-a158-371e289d9696",
   "metadata": {},
   "source": [
    "#### Ödev 2\n",
    "\n",
    "Faktöriyel adında fonksiyon oluşturulur. Döngü kullanarak parametre olarak girilen sayının faktöriyeli hesaplanır. Format metodunu kullanılarak ekrana yazdırılır."
   ]
  },
  {
   "cell_type": "code",
   "execution_count": 22,
   "id": "1a193a3e-0198-4e7a-9733-cbb295911136",
   "metadata": {},
   "outputs": [
    {
     "name": "stdin",
     "output_type": "stream",
     "text": [
      "Faktöriyeli alınacak sayıyı giriniz:  2\n"
     ]
    },
    {
     "name": "stdout",
     "output_type": "stream",
     "text": [
      "2! = 2\n"
     ]
    }
   ],
   "source": [
    "def faktoriyel(n):\n",
    "    sonuc = 1\n",
    "    for i in range(1, n + 1):\n",
    "        sonuc *= i\n",
    "    return sonuc\n",
    "\n",
    "sayi = int(input(\"Faktöriyeli alınacak sayıyı giriniz: \"))\n",
    "sonuc = faktoriyel(sayi)\n",
    "\n",
    "print(\"{}! = {}\".format(sayi, sonuc))"
   ]
  },
  {
   "cell_type": "markdown",
   "id": "293cb02c-750e-4af3-9a5c-33349f7a1a29",
   "metadata": {},
   "source": [
    "#### Ödev 3\n",
    "Kişinin fonksiyona doğum yılını vererek kaç yaşında olduğunu hesaplayan bir fonksiyon oluşturun. "
   ]
  },
  {
   "cell_type": "code",
   "execution_count": 32,
   "id": "fa111dbc-219e-4827-a6c5-bf5d5a1ed179",
   "metadata": {},
   "outputs": [
    {
     "name": "stdin",
     "output_type": "stream",
     "text": [
      "Lütfen doğduğunuz yılı giriniz:  2001\n"
     ]
    },
    {
     "name": "stdout",
     "output_type": "stream",
     "text": [
      "2025 yılında mevcut yaşınız 24 olarak bilinir.\n"
     ]
    }
   ],
   "source": [
    "def yas(dogum_yılı):\n",
    "    yas = 2025 - dogum_yılı\n",
    "    print(f\"2025 yılında mevcut yaşınız {yas} olarak bilinir.\")\n",
    "\n",
    "dogum_yılı = int(input(\"Lütfen doğduğunuz yılı giriniz: \"))\n",
    "yas(dogum_yılı)"
   ]
  },
  {
   "cell_type": "markdown",
   "id": "c009cda8-70e2-4aa1-a6de-c2aefe30c5a9",
   "metadata": {},
   "source": [
    "#### Ödev 4\n",
    "\n",
    "Doğum yılı ve isim bilgisi verilen fonksiyon kişinin emekli olup olmadığını söylesin.(Kişi 65 yaşında ise emekli olur.) Burada yaş hesabını yukarıdaki örnekteki fonksiyonu kullanarak yapsın.(Yani fonksiyon içinde fonksiyon kullanmanızı istiyorum :)) Kişi 65 yaşında ya da daha fazlaysa \"Emekli oldunuz\" yanıtını, 65 yaşından küçükse emekliliğine kaç yıl kaldığını da hesaplayarak \"(isim) emekliliğine (yıl) kaldı.\" yanıtını versin."
   ]
  },
  {
   "cell_type": "code",
   "execution_count": 34,
   "id": "8a983359-af9c-41a3-91cf-cda57240a029",
   "metadata": {},
   "outputs": [
    {
     "ename": "SyntaxError",
     "evalue": "invalid syntax (1071448149.py, line 9)",
     "output_type": "error",
     "traceback": [
      "\u001b[0;36m  Cell \u001b[0;32mIn[34], line 9\u001b[0;36m\u001b[0m\n\u001b[0;31m    if yas => 65:\u001b[0m\n\u001b[0m           ^\u001b[0m\n\u001b[0;31mSyntaxError\u001b[0m\u001b[0;31m:\u001b[0m invalid syntax\n"
     ]
    }
   ],
   "source": [
    "def yas(dogum_yılı):\n",
    "    yas = 2025 - dogum_yılı\n",
    "    print(f\"2025 yılında mevcut yaşınız {yas} olarak bilinir.\")\n",
    "\n",
    "isim = input(\"Lütfen isminizi giriniz: \")\n",
    "dogum_yılı = int(input(\"Lütfen doğduğunuz yılı giriniz: \"))\n",
    "yas(dogum_yılı)\n",
    "\n",
    "if yas => 65:\n",
    "    print(\"Emekli oldunuz\")\n",
    "else:\n",
    "    emeklilige_kalan_yıl = 65 - yas\n",
    "    print(f\"{isim} emekliliğe {emeklilige_kalan_yıl} kaldi.\")"
   ]
  },
  {
   "cell_type": "code",
   "execution_count": 35,
   "id": "be996f59-0430-4b95-8f6a-db76a771ec7f",
   "metadata": {},
   "outputs": [
    {
     "name": "stdin",
     "output_type": "stream",
     "text": [
      "Lütfen isminizi giriniz:  elif\n",
      "Lütfen doğduğunuz yılı giriniz:  2001\n"
     ]
    },
    {
     "name": "stdout",
     "output_type": "stream",
     "text": [
      "2025 yılında mevcut yaşınız 24 olarak bilinir.\n",
      "elif, emekliliğe 41 yıl kaldı.\n"
     ]
    }
   ],
   "source": [
    "def yas_hesapla(dogum_yili):\n",
    "    return 2025 - dogum_yili\n",
    "\n",
    "isim = input(\"Lütfen isminizi giriniz: \")\n",
    "dogum_yili = int(input(\"Lütfen doğduğunuz yılı giriniz: \"))\n",
    "\n",
    "yas = yas_hesapla(dogum_yili)\n",
    "\n",
    "print(f\"2025 yılında mevcut yaşınız {yas} olarak bilinir.\")\n",
    "\n",
    "if yas >= 65:\n",
    "    print(\"🎉 Emekli oldunuz.\")\n",
    "else:\n",
    "    emeklilige_kalan_yil = 65 - yas\n",
    "    print(f\"{isim}, emekliliğe {emeklilige_kalan_yil} yıl kaldı.\")"
   ]
  },
  {
   "cell_type": "code",
   "execution_count": null,
   "id": "2bdfda10-62f5-4a6e-9ba0-96da1b238ae8",
   "metadata": {},
   "outputs": [],
   "source": []
  }
 ],
 "metadata": {
  "kernelspec": {
   "display_name": "Python [conda env:base] *",
   "language": "python",
   "name": "conda-base-py"
  },
  "language_info": {
   "codemirror_mode": {
    "name": "ipython",
    "version": 3
   },
   "file_extension": ".py",
   "mimetype": "text/x-python",
   "name": "python",
   "nbconvert_exporter": "python",
   "pygments_lexer": "ipython3",
   "version": "3.12.7"
  }
 },
 "nbformat": 4,
 "nbformat_minor": 5
}
