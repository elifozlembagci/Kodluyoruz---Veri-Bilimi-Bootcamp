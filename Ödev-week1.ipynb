{
 "cells": [
  {
   "cell_type": "markdown",
   "id": "f6bcdd89-24b6-4134-813f-f3962fe39e57",
   "metadata": {},
   "source": [
    "# 1\n",
    "x = 3 ----> floata çevirelim. Çevirdikten sonra beri tipinide yazdıralım.\n",
    "\n",
    "y = 4.5 -----> integere çevirelim. Çevirdikten sonra beri tipinide yazdıralım.\n",
    "\n",
    "z = \"8\" -----> integera çevirelim. Çevirdikten sonra beri tipinide yazdıralım.\n",
    "\n",
    "a = \"12\" -----> floata çevirelim. Çevirdikten sonra beri tipinide yazdıralım.\n",
    "\n",
    "b = \"46.8\" ------> integera çevirelim. Çevirdikten sonra beri tipinide yazdıralım."
   ]
  },
  {
   "cell_type": "code",
   "execution_count": 1,
   "id": "b2e55447-730a-4cb4-8761-66def86427c3",
   "metadata": {},
   "outputs": [],
   "source": [
    "x = 3"
   ]
  },
  {
   "cell_type": "code",
   "execution_count": 4,
   "id": "559697f5-d03c-4588-9ea3-3dc8fb6d4481",
   "metadata": {},
   "outputs": [
    {
     "data": {
      "text/plain": [
       "float"
      ]
     },
     "execution_count": 4,
     "metadata": {},
     "output_type": "execute_result"
    }
   ],
   "source": [
    "a = float(x)\n",
    "type(a)"
   ]
  },
  {
   "cell_type": "code",
   "execution_count": 6,
   "id": "52abb8c4-bf4f-4bb8-82f6-352a51620cb7",
   "metadata": {},
   "outputs": [],
   "source": [
    "y = 4.5"
   ]
  },
  {
   "cell_type": "code",
   "execution_count": 7,
   "id": "9083212b-06cc-4047-af93-d0288abaa35d",
   "metadata": {},
   "outputs": [
    {
     "data": {
      "text/plain": [
       "int"
      ]
     },
     "execution_count": 7,
     "metadata": {},
     "output_type": "execute_result"
    }
   ],
   "source": [
    "b = int(y)\n",
    "type(b)"
   ]
  },
  {
   "cell_type": "code",
   "execution_count": 8,
   "id": "ba72c384-1cf5-4d0f-8be9-96a3fcd547d7",
   "metadata": {},
   "outputs": [],
   "source": [
    "z = \"8\""
   ]
  },
  {
   "cell_type": "code",
   "execution_count": 9,
   "id": "462abdbe-5545-494c-b6df-a7fe6e5d1383",
   "metadata": {},
   "outputs": [
    {
     "data": {
      "text/plain": [
       "int"
      ]
     },
     "execution_count": 9,
     "metadata": {},
     "output_type": "execute_result"
    }
   ],
   "source": [
    "c = int(z)\n",
    "type(c)"
   ]
  },
  {
   "cell_type": "code",
   "execution_count": 15,
   "id": "d29181e9-9255-4167-8a31-066f605d8e7b",
   "metadata": {},
   "outputs": [],
   "source": [
    "t = \"12\""
   ]
  },
  {
   "cell_type": "code",
   "execution_count": 78,
   "id": "8517550a-bb79-4c45-99e9-8d6c1325de92",
   "metadata": {
    "scrolled": true
   },
   "outputs": [
    {
     "data": {
      "text/plain": [
       "float"
      ]
     },
     "execution_count": 78,
     "metadata": {},
     "output_type": "execute_result"
    }
   ],
   "source": [
    "d = float(t)\n",
    "type(d)"
   ]
  },
  {
   "cell_type": "code",
   "execution_count": 19,
   "id": "965075b2-890a-4872-8bce-541edd8fa2e2",
   "metadata": {},
   "outputs": [],
   "source": [
    "f = \"46.8\""
   ]
  },
  {
   "cell_type": "code",
   "execution_count": 22,
   "id": "14556334-35db-4345-88c3-40a836c7bf43",
   "metadata": {},
   "outputs": [
    {
     "data": {
      "text/plain": [
       "float"
      ]
     },
     "execution_count": 22,
     "metadata": {},
     "output_type": "execute_result"
    }
   ],
   "source": [
    "e = float(f)\n",
    "type(e)"
   ]
  },
  {
   "cell_type": "code",
   "execution_count": 24,
   "id": "edcb8e7d-72e2-43b0-899a-33b0294b16c1",
   "metadata": {},
   "outputs": [
    {
     "data": {
      "text/plain": [
       "int"
      ]
     },
     "execution_count": 24,
     "metadata": {},
     "output_type": "execute_result"
    }
   ],
   "source": [
    "g = int(e)\n",
    "type(g)"
   ]
  },
  {
   "cell_type": "markdown",
   "id": "8ddc55c2-42ee-476b-abe5-512568617ed6",
   "metadata": {},
   "source": [
    "# 2 \n",
    "İsimlerden oluşan üç değişkene yaş değerleri atanır. Belirlenen üç değişken birbiriyle karşılaştırma operatörleri ile karşılaştırılır. Bu karşılaştırmalara mantıksal operatörler de eklenir."
   ]
  },
  {
   "cell_type": "code",
   "execution_count": null,
   "id": "5294eb3a-d76d-43d5-be36-4563895f41be",
   "metadata": {},
   "outputs": [],
   "source": []
  },
  {
   "cell_type": "code",
   "execution_count": 26,
   "id": "1ee30ead-21c1-4637-90bf-e543f9143ccd",
   "metadata": {},
   "outputs": [],
   "source": [
    "Deniz = x\n",
    "Enes = y\n",
    "Elif = z"
   ]
  },
  {
   "cell_type": "code",
   "execution_count": 29,
   "id": "3e7148b8-ec3a-469c-888d-17e949a9af74",
   "metadata": {},
   "outputs": [],
   "source": [
    "x = 10\n",
    "y = 12\n",
    "z = 20"
   ]
  },
  {
   "cell_type": "code",
   "execution_count": null,
   "id": "0138fb93-2cd9-4472-9c25-c94c6e221f10",
   "metadata": {},
   "outputs": [],
   "source": []
  },
  {
   "cell_type": "code",
   "execution_count": 30,
   "id": "abb9ef6b-3635-416c-8c76-1a4edd29607a",
   "metadata": {},
   "outputs": [
    {
     "data": {
      "text/plain": [
       "True"
      ]
     },
     "execution_count": 30,
     "metadata": {},
     "output_type": "execute_result"
    }
   ],
   "source": [
    "x < y"
   ]
  },
  {
   "cell_type": "code",
   "execution_count": 31,
   "id": "8099dcfe-28aa-40b3-960e-2d9d6d56419b",
   "metadata": {},
   "outputs": [
    {
     "data": {
      "text/plain": [
       "False"
      ]
     },
     "execution_count": 31,
     "metadata": {},
     "output_type": "execute_result"
    }
   ],
   "source": [
    "y < x"
   ]
  },
  {
   "cell_type": "code",
   "execution_count": 32,
   "id": "64f2acf6-f10f-4c3a-a32d-12ff81c2ff4c",
   "metadata": {},
   "outputs": [
    {
     "data": {
      "text/plain": [
       "False"
      ]
     },
     "execution_count": 32,
     "metadata": {},
     "output_type": "execute_result"
    }
   ],
   "source": [
    "not(x<y)"
   ]
  },
  {
   "cell_type": "code",
   "execution_count": 33,
   "id": "5f45a4f4-a1b4-4c96-960f-c35c2b5a63b7",
   "metadata": {},
   "outputs": [
    {
     "data": {
      "text/plain": [
       "True"
      ]
     },
     "execution_count": 33,
     "metadata": {},
     "output_type": "execute_result"
    }
   ],
   "source": [
    "(z>y) or (y<x)"
   ]
  },
  {
   "cell_type": "code",
   "execution_count": 34,
   "id": "269a5f41-0587-49d4-9301-741bd90406d4",
   "metadata": {},
   "outputs": [
    {
     "data": {
      "text/plain": [
       "False"
      ]
     },
     "execution_count": 34,
     "metadata": {},
     "output_type": "execute_result"
    }
   ],
   "source": [
    "(z>y) and (y<x)"
   ]
  },
  {
   "cell_type": "markdown",
   "id": "1a021760-06b0-4525-9371-8deef311bbc9",
   "metadata": {},
   "source": [
    "# 3\n",
    "Kullanıcıdan iki değer girmesini istenir. Girilen değerlerin toplama, çıkarma, çarpma, bölme sonuçlarını yazdırılır."
   ]
  },
  {
   "cell_type": "code",
   "execution_count": 37,
   "id": "fafb811a-3d63-4ae4-a586-bf973f9cdf69",
   "metadata": {},
   "outputs": [
    {
     "name": "stdin",
     "output_type": "stream",
     "text": [
      "Lütfen ilk sayıyı giriniz:  9\n"
     ]
    }
   ],
   "source": [
    "x = input(\"Lütfen ilk sayıyı giriniz: \")\n"
   ]
  },
  {
   "cell_type": "code",
   "execution_count": 39,
   "id": "34c4547c-f640-47ac-a244-7ab57cbc4440",
   "metadata": {},
   "outputs": [
    {
     "name": "stdin",
     "output_type": "stream",
     "text": [
      "Lütfen ikinci sayıyı giriniz:  20\n"
     ]
    }
   ],
   "source": [
    "y = input(\"Lütfen ikinci sayıyı giriniz: \")"
   ]
  },
  {
   "cell_type": "code",
   "execution_count": 42,
   "id": "5662492e-df02-4168-8453-4f990690e280",
   "metadata": {},
   "outputs": [],
   "source": [
    "a = int(x)"
   ]
  },
  {
   "cell_type": "code",
   "execution_count": 43,
   "id": "0df52576-4bc8-4acc-ba2b-dcaf9c4c9eea",
   "metadata": {},
   "outputs": [],
   "source": [
    "b = int(y)"
   ]
  },
  {
   "cell_type": "code",
   "execution_count": 44,
   "id": "d886c6e5-8f52-4b9a-9c63-c7a9ba0a1d46",
   "metadata": {},
   "outputs": [
    {
     "data": {
      "text/plain": [
       "0.45"
      ]
     },
     "execution_count": 44,
     "metadata": {},
     "output_type": "execute_result"
    }
   ],
   "source": [
    "a / b"
   ]
  },
  {
   "cell_type": "code",
   "execution_count": 45,
   "id": "6885ce59-718e-4cb4-8f76-d1b2b19d7336",
   "metadata": {},
   "outputs": [
    {
     "data": {
      "text/plain": [
       "0"
      ]
     },
     "execution_count": 45,
     "metadata": {},
     "output_type": "execute_result"
    }
   ],
   "source": [
    "a // b"
   ]
  },
  {
   "cell_type": "code",
   "execution_count": 46,
   "id": "c143376f-ffe6-40e2-9f31-7bbccc3b9beb",
   "metadata": {},
   "outputs": [
    {
     "data": {
      "text/plain": [
       "2"
      ]
     },
     "execution_count": 46,
     "metadata": {},
     "output_type": "execute_result"
    }
   ],
   "source": [
    "b // a"
   ]
  },
  {
   "cell_type": "code",
   "execution_count": 47,
   "id": "a7497f30-471a-4b92-ab7b-36a7a13e8f6f",
   "metadata": {},
   "outputs": [
    {
     "data": {
      "text/plain": [
       "29"
      ]
     },
     "execution_count": 47,
     "metadata": {},
     "output_type": "execute_result"
    }
   ],
   "source": [
    "a + b"
   ]
  },
  {
   "cell_type": "code",
   "execution_count": 48,
   "id": "8b7fa05d-a6fa-4212-8f7c-7b71eb49ea62",
   "metadata": {},
   "outputs": [
    {
     "data": {
      "text/plain": [
       "-11"
      ]
     },
     "execution_count": 48,
     "metadata": {},
     "output_type": "execute_result"
    }
   ],
   "source": [
    "a - b"
   ]
  },
  {
   "cell_type": "code",
   "execution_count": 49,
   "id": "af54bffa-21ba-483c-80b6-5c13453c9e9c",
   "metadata": {},
   "outputs": [
    {
     "data": {
      "text/plain": [
       "180"
      ]
     },
     "execution_count": 49,
     "metadata": {},
     "output_type": "execute_result"
    }
   ],
   "source": [
    "a * b"
   ]
  },
  {
   "cell_type": "markdown",
   "id": "8ae5e3dd-c0a2-42ce-983d-9b15b018bb09",
   "metadata": {},
   "source": [
    "# 4\n",
    "Kullanıcıdan isim, yaş, şehir ve meslek bilgilerini istenir ve cevaplarını yazdırılır."
   ]
  },
  {
   "cell_type": "code",
   "execution_count": 51,
   "id": "4266e1e0-c41d-40b2-be0c-98fe5ba94c3f",
   "metadata": {},
   "outputs": [
    {
     "name": "stdin",
     "output_type": "stream",
     "text": [
      "Lütfen isminizi giriniz :  elif\n"
     ]
    }
   ],
   "source": [
    "a = input(\"Lütfen isminizi giriniz : \")"
   ]
  },
  {
   "cell_type": "code",
   "execution_count": 58,
   "id": "1d425cf9-6733-450a-9aa0-480685c50aa1",
   "metadata": {},
   "outputs": [
    {
     "name": "stdin",
     "output_type": "stream",
     "text": [
      "Lütfen yaşınızı giriniz :  elif\n"
     ]
    }
   ],
   "source": [
    "b = input(\"Lütfen yaşınızı giriniz : \")"
   ]
  },
  {
   "cell_type": "code",
   "execution_count": 53,
   "id": "86333338-e4b6-4e9d-bf42-3afd912879bc",
   "metadata": {},
   "outputs": [
    {
     "name": "stdin",
     "output_type": "stream",
     "text": [
      "Lütfen yaşadığınız şehri giriniz :  İstanbul\n"
     ]
    }
   ],
   "source": [
    "c = input(\"Lütfen yaşadığınız şehri giriniz : \")"
   ]
  },
  {
   "cell_type": "code",
   "execution_count": 54,
   "id": "6ff4d096-6ac6-4bab-9491-6fbb7b9eadfa",
   "metadata": {},
   "outputs": [
    {
     "name": "stdin",
     "output_type": "stream",
     "text": [
      "Lütfen mesleğinizi giriniz :  öğrenci\n"
     ]
    }
   ],
   "source": [
    "d = input(\"Lütfen mesleğinizi giriniz : \")"
   ]
  },
  {
   "cell_type": "code",
   "execution_count": 57,
   "id": "70d1ec4d-0c52-48f3-8d67-10bf5e132bbf",
   "metadata": {},
   "outputs": [
    {
     "name": "stdout",
     "output_type": "stream",
     "text": [
      "elif,<built-in method upper of str object at 0x16c0e2c40> yaşında, İstanbul'da yaşıyor ve öğrenci olarak çalışıyor.\n"
     ]
    }
   ],
   "source": [
    "print(f\"{a},{b} yaşında, {c}'da yaşıyor ve {d} olarak çalışıyor.\")"
   ]
  },
  {
   "cell_type": "markdown",
   "id": "a600efb3-b380-4e8e-b52b-29e4c1c59892",
   "metadata": {},
   "source": [
    "# 5\n",
    "\"Hi-Kod Veri Bilimi Atölyesi\" ifadesini bir değişkene tanımlanır.\n",
    "\n",
    "\n",
    " 1. İfadedeki her bir kelimeyi (\"Hi-Kod\", \"Veri\", \"Bilimi\", \"Atölyesi\") değişken içinden seçilir. \n",
    " 2. İfadeyi hepsini büyük harf olacak hale çevrilir. (\"HI-KOD VERİ BİLİMİ ATÖLYESİ\") \n",
    " 3. İfadeyi hepsini büyük harf olacak hale çevrilir.(\"hi-kod veri bilimi atölyesi\") \n",
    "\n",
    "\"0123456789\" ifadesindeki yalnızca çift sayıları ve yalnızca tek sayıları seçilir. (\"02468\", \"13579\")"
   ]
  },
  {
   "cell_type": "code",
   "execution_count": 60,
   "id": "940ef900-61bd-45de-bbad-c71c3eaecd5a",
   "metadata": {},
   "outputs": [],
   "source": [
    "x = \"Hi-Kod Veri Bilimi Atölyesi\""
   ]
  },
  {
   "cell_type": "code",
   "execution_count": 68,
   "id": "b26e4c67-99f0-4fbd-893a-ce0bee863260",
   "metadata": {},
   "outputs": [],
   "source": [
    "kelimeler = x.split()"
   ]
  },
  {
   "cell_type": "code",
   "execution_count": 69,
   "id": "b08b7c99-8dad-4cfd-b065-17a2e7abe3ba",
   "metadata": {},
   "outputs": [],
   "source": [
    "ilk, ikinci, ucuncu, dorduncu = kelimeler"
   ]
  },
  {
   "cell_type": "code",
   "execution_count": 71,
   "id": "2d078ae0-d6a3-413c-b7d2-d6277a95a890",
   "metadata": {},
   "outputs": [
    {
     "name": "stdout",
     "output_type": "stream",
     "text": [
      "Hi-Kod\n"
     ]
    }
   ],
   "source": [
    "print(ilk)"
   ]
  },
  {
   "cell_type": "code",
   "execution_count": 74,
   "id": "45a29f51-5b3e-4c74-8267-bdde75fcc8e0",
   "metadata": {},
   "outputs": [
    {
     "name": "stdout",
     "output_type": "stream",
     "text": [
      "Veri\n"
     ]
    }
   ],
   "source": [
    "print(ikinci)"
   ]
  },
  {
   "cell_type": "code",
   "execution_count": 72,
   "id": "38a34199-7a92-40cf-801d-40f123583c0c",
   "metadata": {},
   "outputs": [
    {
     "name": "stdout",
     "output_type": "stream",
     "text": [
      "Hi-Kod\n"
     ]
    }
   ],
   "source": [
    "print(kelimeler[0])"
   ]
  },
  {
   "cell_type": "code",
   "execution_count": 73,
   "id": "92c2edd9-97a4-4b11-b9aa-2d62399c2c5a",
   "metadata": {},
   "outputs": [
    {
     "name": "stdout",
     "output_type": "stream",
     "text": [
      "Veri\n"
     ]
    }
   ],
   "source": [
    "print(kelimeler[1])"
   ]
  },
  {
   "cell_type": "code",
   "execution_count": 75,
   "id": "459a9a5b-8b33-40d9-9119-f2a9df20a5be",
   "metadata": {},
   "outputs": [
    {
     "name": "stdout",
     "output_type": "stream",
     "text": [
      "Bilimi\n"
     ]
    }
   ],
   "source": [
    "print(kelimeler[2])  "
   ]
  },
  {
   "cell_type": "code",
   "execution_count": 76,
   "id": "5dcaae78-2b1e-4864-8315-144681cd2e13",
   "metadata": {},
   "outputs": [
    {
     "name": "stdout",
     "output_type": "stream",
     "text": [
      "Atölyesi\n"
     ]
    }
   ],
   "source": [
    "print(kelimeler[3])"
   ]
  },
  {
   "cell_type": "code",
   "execution_count": 61,
   "id": "33f3c304-6a4f-485b-aea4-fad32129a7e0",
   "metadata": {},
   "outputs": [
    {
     "name": "stdout",
     "output_type": "stream",
     "text": [
      "HI-KOD VERI BILIMI ATÖLYESI\n"
     ]
    }
   ],
   "source": [
    "print(x.upper())"
   ]
  },
  {
   "cell_type": "code",
   "execution_count": 62,
   "id": "12055322-92c2-467b-85d9-5800ae2de15e",
   "metadata": {},
   "outputs": [
    {
     "name": "stdout",
     "output_type": "stream",
     "text": [
      "hi-kod veri bilimi atölyesi\n"
     ]
    }
   ],
   "source": [
    "print(x.lower())"
   ]
  },
  {
   "cell_type": "code",
   "execution_count": 64,
   "id": "779cbf1c-2f9a-4633-ad8f-26a4c2de5066",
   "metadata": {},
   "outputs": [
    {
     "name": "stdout",
     "output_type": "stream",
     "text": [
      "Hi-Kod Veri Bilimi Atölyesi\n"
     ]
    }
   ],
   "source": [
    "print(x.title())"
   ]
  },
  {
   "cell_type": "code",
   "execution_count": 65,
   "id": "639bdd0b-ca57-4f9b-bc97-4fef0036225d",
   "metadata": {},
   "outputs": [
    {
     "name": "stdout",
     "output_type": "stream",
     "text": [
      "Hi-kod veri bilimi atölyesi\n"
     ]
    }
   ],
   "source": [
    "print(x.capitalize())"
   ]
  }
 ],
 "metadata": {
  "kernelspec": {
   "display_name": "Python [conda env:base] *",
   "language": "python",
   "name": "conda-base-py"
  },
  "language_info": {
   "codemirror_mode": {
    "name": "ipython",
    "version": 3
   },
   "file_extension": ".py",
   "mimetype": "text/x-python",
   "name": "python",
   "nbconvert_exporter": "python",
   "pygments_lexer": "ipython3",
   "version": "3.12.7"
  }
 },
 "nbformat": 4,
 "nbformat_minor": 5
}
